{
 "cells": [
  {
   "cell_type": "markdown",
   "metadata": {},
   "source": [
    "# 📄 Extracting Text from Scientific Papers (Test Batch) "
   ]
  },
  {
   "cell_type": "markdown",
   "metadata": {},
   "source": [
    "## 🔧 1. Setup"
   ]
  },
  {
   "cell_type": "code",
   "execution_count": null,
   "metadata": {},
   "outputs": [],
   "source": [
    "# Imports\n",
    "import os\n",
    "import pandas as pd\n",
    "import sys\n",
    "\n",
    "# Make sure Python can find your scripts folder\n",
    "sys.path.append(\"..\")\n",
    "\n",
    "# Import the functions\n",
    "from scripts.pdf_reader import extract_full_text, extract_partial_text\n",
    "from scripts.rename_pdfs import rename_pdfs_in_folder\n",
    "from scripts.llm_extractor import extract_title_abstract_with_llm"
   ]
  },
  {
   "cell_type": "markdown",
   "metadata": {},
   "source": [
    "### 🗂️ Define batch and folder path"
   ]
  },
  {
   "cell_type": "code",
   "execution_count": null,
   "metadata": {},
   "outputs": [],
   "source": [
    "# Define batch\n",
    "batch_name = \"second_batch\"\n",
    "\n",
    "# Define folder paths\n",
    "pdf_folder = f\"../data/batches/{batch_name}/\"\n",
    "output_file = f\"../outputs/{batch_name}.csv\""
   ]
  },
  {
   "cell_type": "markdown",
   "metadata": {},
   "source": [
    "#### 🖋️ Rename the PDFs\n"
   ]
  },
  {
   "cell_type": "code",
   "execution_count": null,
   "metadata": {},
   "outputs": [],
   "source": [
    "renamed_files = rename_pdfs_in_folder(pdf_folder)\n",
    "print(\"Renamed files:\", renamed_files)"
   ]
  },
  {
   "cell_type": "markdown",
   "metadata": {},
   "source": [
    "#### Make some Tests "
   ]
  },
  {
   "cell_type": "code",
   "execution_count": null,
   "metadata": {},
   "outputs": [],
   "source": [
    "single_pdf_path = renamed_files[0]  # or whichever index you want\n",
    "\n",
    "partial_text = extract_partial_text(single_pdf_path, page_limit=2)\n",
    "\n",
    "title, abstract = extract_title_abstract_with_llm(partial_text)\n",
    "\n",
    "print(\"Single PDF Title:\", title)\n",
    "print(\"Single PDF Abstract:\", abstract)"
   ]
  },
  {
   "cell_type": "markdown",
   "metadata": {},
   "source": [
    "## 📜 2. Extract Text and Abstract"
   ]
  },
  {
   "cell_type": "code",
   "execution_count": null,
   "metadata": {},
   "outputs": [],
   "source": [
    "records = []\n",
    "\n",
    "for file_path in renamed_files:\n",
    "    full_text = extract_full_text(file_path)  # entire PDF text\n",
    "    partial_text = extract_partial_text(file_path, page_limit=2)\n",
    "\n",
    "    # We call the new function\n",
    "    title, abstract = extract_title_abstract_with_llm(partial_text, model=\"gpt-4o-mini\")\n",
    "\n",
    "    records.append({\n",
    "        \"document_id\": os.path.basename(file_path),\n",
    "        \"title\": title,\n",
    "        \"abstract\": abstract,\n",
    "        \"raw_text\": full_text\n",
    "    })\n",
    "\n",
    "df = pd.DataFrame(records)\n",
    "df.head()"
   ]
  },
  {
   "cell_type": "code",
   "execution_count": null,
   "metadata": {},
   "outputs": [],
   "source": [
    "df.head(11)"
   ]
  },
  {
   "cell_type": "markdown",
   "metadata": {},
   "source": [
    "## 💾 3. Export as CSV"
   ]
  },
  {
   "cell_type": "markdown",
   "metadata": {},
   "source": []
  },
  {
   "cell_type": "code",
   "execution_count": null,
   "metadata": {},
   "outputs": [],
   "source": [
    "df.to_csv(output_file, index=False)\n",
    "print(f\"Saved CSV to: {output_file}\")"
   ]
  },
  {
   "cell_type": "code",
   "execution_count": null,
   "metadata": {},
   "outputs": [],
   "source": []
  }
 ],
 "metadata": {
  "kernelspec": {
   "display_name": ".venv",
   "language": "python",
   "name": "python3"
  },
  "language_info": {
   "codemirror_mode": {
    "name": "ipython",
    "version": 3
   },
   "file_extension": ".py",
   "mimetype": "text/x-python",
   "name": "python",
   "nbconvert_exporter": "python",
   "pygments_lexer": "ipython3",
   "version": "3.9.7"
  }
 },
 "nbformat": 4,
 "nbformat_minor": 2
}
