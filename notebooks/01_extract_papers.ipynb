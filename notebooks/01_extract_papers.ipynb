{
 "cells": [
  {
   "cell_type": "markdown",
   "metadata": {},
   "source": [
    "# 📄 Extracting Text from Scientific Papers (Test Batch) "
   ]
  },
  {
   "cell_type": "markdown",
   "metadata": {},
   "source": [
    "## Setup"
   ]
  },
  {
   "cell_type": "code",
   "execution_count": 1,
   "metadata": {},
   "outputs": [],
   "source": [
    "# Imports\n",
    "import os\n",
    "import pandas as pd\n",
    "\n",
    "# Add script paths\n",
    "import sys\n",
    "sys.path.append(\"../scripts\")\n",
    "\n",
    "from pdf_reader import extract_text_from_pdf\n",
    "from rename_pdfs import rename_pdfs_in_folder"
   ]
  },
  {
   "cell_type": "markdown",
   "metadata": {},
   "source": [
    "## 📁 1. Rename the Test PDFs\n"
   ]
  },
  {
   "cell_type": "code",
   "execution_count": 2,
   "metadata": {},
   "outputs": [
    {
     "name": "stdout",
     "output_type": "stream",
     "text": [
      "Renamed files: ['../data/batches/first_batch/paper_001.pdf', '../data/batches/first_batch/paper_002.pdf', '../data/batches/first_batch/paper_003.pdf', '../data/batches/first_batch/paper_004.pdf', '../data/batches/first_batch/paper_005.pdf', '../data/batches/first_batch/paper_006.pdf', '../data/batches/first_batch/paper_007.pdf', '../data/batches/first_batch/paper_008.pdf', '../data/batches/first_batch/paper_009.pdf', '../data/batches/first_batch/paper_010.pdf']\n"
     ]
    }
   ],
   "source": [
    "# Change this to process a different batch\n",
    "batch_name = \"first_batch\"\n",
    "\n",
    "pdf_folder = f\"../data/batches/{batch_name}/\"\n",
    "output_file = f\"../outputs/{batch_name}.csv\"\n",
    "\n",
    "# Rename PDFs in the folder\n",
    "renamed_files = rename_pdfs_in_folder(pdf_folder)\n",
    "print(\"Renamed files:\", renamed_files)"
   ]
  },
  {
   "cell_type": "markdown",
   "metadata": {},
   "source": []
  },
  {
   "cell_type": "markdown",
   "metadata": {},
   "source": [
    "## 📜 2. Extract Text from Each PDF"
   ]
  },
  {
   "cell_type": "code",
   "execution_count": 3,
   "metadata": {},
   "outputs": [
    {
     "data": {
      "text/html": [
       "<div>\n",
       "<style scoped>\n",
       "    .dataframe tbody tr th:only-of-type {\n",
       "        vertical-align: middle;\n",
       "    }\n",
       "\n",
       "    .dataframe tbody tr th {\n",
       "        vertical-align: top;\n",
       "    }\n",
       "\n",
       "    .dataframe thead th {\n",
       "        text-align: right;\n",
       "    }\n",
       "</style>\n",
       "<table border=\"1\" class=\"dataframe\">\n",
       "  <thead>\n",
       "    <tr style=\"text-align: right;\">\n",
       "      <th></th>\n",
       "      <th>document_id</th>\n",
       "      <th>title</th>\n",
       "      <th>abstract</th>\n",
       "      <th>raw_text</th>\n",
       "    </tr>\n",
       "  </thead>\n",
       "  <tbody>\n",
       "    <tr>\n",
       "      <th>0</th>\n",
       "      <td>paper_001.pdf</td>\n",
       "      <td>UNKNOWN</td>\n",
       "      <td>UNKNOWN</td>\n",
       "      <td>Journal of Clinical Epidemiology 138 (2021) 24...</td>\n",
       "    </tr>\n",
       "    <tr>\n",
       "      <th>1</th>\n",
       "      <td>paper_002.pdf</td>\n",
       "      <td>UNKNOWN</td>\n",
       "      <td>UNKNOWN</td>\n",
       "      <td>Journal Pre-proof\\nLarge language models for c...</td>\n",
       "    </tr>\n",
       "    <tr>\n",
       "      <th>2</th>\n",
       "      <td>paper_003.pdf</td>\n",
       "      <td>UNKNOWN</td>\n",
       "      <td>UNKNOWN</td>\n",
       "      <td>InformationandSoftwareTechnology136(2021)10658...</td>\n",
       "    </tr>\n",
       "    <tr>\n",
       "      <th>3</th>\n",
       "      <td>paper_004.pdf</td>\n",
       "      <td>UNKNOWN</td>\n",
       "      <td>UNKNOWN</td>\n",
       "      <td>Preprint of: Sundaram, G. and Berleant, D., Au...</td>\n",
       "    </tr>\n",
       "    <tr>\n",
       "      <th>4</th>\n",
       "      <td>paper_005.pdf</td>\n",
       "      <td>UNKNOWN</td>\n",
       "      <td>UNKNOWN</td>\n",
       "      <td>Cutting Through the Clutter: The Potential of ...</td>\n",
       "    </tr>\n",
       "  </tbody>\n",
       "</table>\n",
       "</div>"
      ],
      "text/plain": [
       "     document_id    title abstract  \\\n",
       "0  paper_001.pdf  UNKNOWN  UNKNOWN   \n",
       "1  paper_002.pdf  UNKNOWN  UNKNOWN   \n",
       "2  paper_003.pdf  UNKNOWN  UNKNOWN   \n",
       "3  paper_004.pdf  UNKNOWN  UNKNOWN   \n",
       "4  paper_005.pdf  UNKNOWN  UNKNOWN   \n",
       "\n",
       "                                            raw_text  \n",
       "0  Journal of Clinical Epidemiology 138 (2021) 24...  \n",
       "1  Journal Pre-proof\\nLarge language models for c...  \n",
       "2  InformationandSoftwareTechnology136(2021)10658...  \n",
       "3  Preprint of: Sundaram, G. and Berleant, D., Au...  \n",
       "4  Cutting Through the Clutter: The Potential of ...  "
      ]
     },
     "execution_count": 3,
     "metadata": {},
     "output_type": "execute_result"
    }
   ],
   "source": [
    "records = []\n",
    "\n",
    "for file_path in renamed_files:\n",
    "    raw_text = extract_text_from_pdf(file_path)\n",
    "\n",
    "    # You can later extract title & abstract using rules or LLM\n",
    "    title = \"UNKNOWN\"\n",
    "    abstract = \"UNKNOWN\"\n",
    "\n",
    "    records.append({\n",
    "        \"document_id\": os.path.basename(file_path),\n",
    "        \"title\": title,\n",
    "        \"abstract\": abstract,\n",
    "        \"raw_text\": raw_text\n",
    "    })\n",
    "\n",
    "df = pd.DataFrame(records)\n",
    "df.head()"
   ]
  },
  {
   "cell_type": "markdown",
   "metadata": {},
   "source": [
    "## 💾 3. Export as CSV"
   ]
  },
  {
   "cell_type": "markdown",
   "metadata": {},
   "source": []
  },
  {
   "cell_type": "code",
   "execution_count": 4,
   "metadata": {},
   "outputs": [
    {
     "name": "stdout",
     "output_type": "stream",
     "text": [
      "Saved CSV to: ../outputs/paper_data.csv\n"
     ]
    }
   ],
   "source": [
    "output_path = \"../outputs/paper_data.csv\"\n",
    "df.to_csv(output_path, index=False)\n",
    "print(f\"Saved CSV to: {output_path}\")"
   ]
  },
  {
   "cell_type": "code",
   "execution_count": null,
   "metadata": {},
   "outputs": [],
   "source": []
  }
 ],
 "metadata": {
  "kernelspec": {
   "display_name": ".venv",
   "language": "python",
   "name": "python3"
  },
  "language_info": {
   "codemirror_mode": {
    "name": "ipython",
    "version": 3
   },
   "file_extension": ".py",
   "mimetype": "text/x-python",
   "name": "python",
   "nbconvert_exporter": "python",
   "pygments_lexer": "ipython3",
   "version": "3.9.7"
  }
 },
 "nbformat": 4,
 "nbformat_minor": 2
}
