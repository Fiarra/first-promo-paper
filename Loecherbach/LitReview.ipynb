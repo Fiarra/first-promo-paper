{
 "cells": [
  {
   "cell_type": "code",
   "execution_count": 8,
   "metadata": {},
   "outputs": [],
   "source": [
    "import bibtexparser\n",
    "import pandas as pd\n",
    "import requests\n",
    "from lxml.html import fromstring\n",
    "import re\n",
    "import sys\n",
    "import unicodedata\n",
    "\n",
    "tbl = dict.fromkeys(i for i in range(sys.maxunicode)\n",
    "                      if unicodedata.category(chr(i)).startswith('P'))"
   ]
  },
  {
   "cell_type": "markdown",
   "metadata": {},
   "source": [
    "Getting lists of journals and conferences (conferences not used at the moment) and filter them based on topic codes (has to include at least one of the ones in scopus_dict and not contain one of those in scopus_not). The list for web of science was scraped, scopus and ebsco are from their websites"
   ]
  },
  {
   "cell_type": "code",
   "execution_count": 2,
   "metadata": {},
   "outputs": [
    {
     "name": "stderr",
     "output_type": "stream",
     "text": [
      "/usr/local/lib/python3.6/site-packages/IPython/core/interactiveshell.py:3018: DtypeWarning: Columns (8,9) have mixed types. Specify dtype option on import or set low_memory=False.\n",
      "  interactivity=interactivity, compiler=compiler, result=result)\n"
     ]
    }
   ],
   "source": [
    "scopus_conferences = pd.read_csv('Conference_Proceedings_list.csv', sep = ';')[['ID', 'Title','Code', 'Code1', 'Code2', 'Code3', 'Code4']]"
   ]
  },
  {
   "cell_type": "code",
   "execution_count": 3,
   "metadata": {},
   "outputs": [],
   "source": [
    "scopus_dict = {\"1702\":\"Artificial Intelligence\", \"3315\":\"Communication\", \"1705\":\"Computer Networks and Communications\", \"1706\":\"Computer Science Applications\",\\\n",
    "               \"1709\":\"Human-Computer Interaction\", \"1710\":\"Information Systems\",\"1203\":\"Language and Linguistics\", \"3308\":\"Law\",\\\n",
    "               \"3309\":\"Library and Information Sciences\", \"3310\":\"Linguistics and Language\",\"2214\":\"Media Technology\",\"3320\":\"Political Science and International Relations\",\\\n",
    "               \"3207\":\"Social Psychology\",\"3312\":\"Sociology and Political Science\"}"
   ]
  },
  {
   "cell_type": "code",
   "execution_count": 4,
   "metadata": {},
   "outputs": [],
   "source": [
    "scopus_list = list(scopus_dict.keys())"
   ]
  },
  {
   "cell_type": "code",
   "execution_count": 5,
   "metadata": {},
   "outputs": [],
   "source": [
    "scopus_not = list(map(str,[1300, 1301, 1302, 1303, 1304, 1305, 1306, 1307, 1308, 1309, 1310, 1311, 1312, 1313, 1314, 1315, 1500, 1501, 1502, 1503, 1504, 1505, 1506, 1507, 1508, 1600, 1601, 1602, 1603, 1604, 1605, 1606, 1607, 1900, 1901, 1902, 1903, 1904, 1905, 1906, 1907, 1908, 1909, 1910, 1911, 1912, 1913, 2100, 2101, 2102, 2103, 2104, 2105, 2202, 2203, 2204, 2209, 2210, 2211, 2212, 2213, 2215, 2216, 2300, 2301, 2302, 2303, 2304, 2305, 2306, 2307, 2309, 2310, 2311, 2312, 2400, 2401, 2402, 2403, 2404, 2405, 2406, 2500, 2501, 2502, 2503, 2504, 2505, 2506, 2507, 2508, 2608, 2610, 2700, 2701, 2702, 2703, 2704, 2705, 2706, 2707, 2708, 2709, 2710, 2711, 2712, 2713, 2714, 2715, 2716, 2717, 2718, 2719, 2720, 2721, 2722, 2723, 2724, 2725, 2726, 2727, 2728, 2729, 2730, 2731, 2732, 2733, 2734, 2735, 2736, 2737, 2738, 2739, 2740, 2741, 2742, 2743, 2744, 2745, 2746, 2747, 2748, 2800, 2801, 2802, 2803, 2804, 2805, 2806, 2807, 2808, 2809, 2900, 2901, 2902, 2903, 2904, 2905, 2906, 2907, 2908, 2909, 2910, 2911, 2912, 2913, 2914, 2915, 2916, 2917, 2918, 2919, 2920, 2921, 2922, 2923, 3000, 3001, 3002, 3003, 3004, 3005, 3100, 3101, 3102, 3103, 3104, 3105, 3106, 3107, 3108, 3109, 3110, 3203, 3204, 3205, 3206, 3302, 3303, 3304, 3305, 3306, 3307, 3311, 3313, 3314, 3318, 3319, 3322, 3400, 3401, 3402, 3403, 3404, 3500, 3501, 3502, 3503, 3504, 3505, 3506, 3600, 3601, 3602, 3603, 3604, 3605, 3606, 3607, 3608, 3609, 3610, 3611, 3612, 3613, 3614, 3615, 3616]))"
   ]
  },
  {
   "cell_type": "code",
   "execution_count": 6,
   "metadata": {},
   "outputs": [
    {
     "data": {
      "text/plain": [
       "29683"
      ]
     },
     "execution_count": 6,
     "metadata": {},
     "output_type": "execute_result"
    }
   ],
   "source": [
    "len(scopus_conferences)"
   ]
  },
  {
   "cell_type": "code",
   "execution_count": 7,
   "metadata": {},
   "outputs": [],
   "source": [
    "scopus_conferences = scopus_conferences[(scopus_conferences.Code.isin(scopus_list)|scopus_conferences.Code1.isin(scopus_list)|scopus_conferences.Code2.isin(scopus_list)|scopus_conferences.Code3.isin(scopus_list)|scopus_conferences.Code4.isin(scopus_list))&((~scopus_conferences['Code'].isin(scopus_not))&(~scopus_conferences['Code1'].isin(scopus_not))&(~scopus_conferences['Code2'].isin(scopus_not))&(~scopus_conferences['Code3'].isin(scopus_not))&(~scopus_conferences['Code4'].isin(scopus_not)))]"
   ]
  },
  {
   "cell_type": "code",
   "execution_count": 8,
   "metadata": {},
   "outputs": [
    {
     "data": {
      "text/plain": [
       "9994"
      ]
     },
     "execution_count": 8,
     "metadata": {},
     "output_type": "execute_result"
    }
   ],
   "source": [
    "len(scopus_conferences)"
   ]
  },
  {
   "cell_type": "code",
   "execution_count": 9,
   "metadata": {},
   "outputs": [],
   "source": [
    "scopus_conferences = scopus_conferences['Title'].str.replace('{\\&}', 'and', regex = False).str.lower().str.replace('&', 'and', regex = False).str.translate(tbl).tolist()"
   ]
  },
  {
   "cell_type": "code",
   "execution_count": 10,
   "metadata": {},
   "outputs": [
    {
     "name": "stderr",
     "output_type": "stream",
     "text": [
      "/usr/local/lib/python3.6/site-packages/IPython/core/interactiveshell.py:3018: DtypeWarning: Columns (4,5,8) have mixed types. Specify dtype option on import or set low_memory=False.\n",
      "  interactivity=interactivity, compiler=compiler, result=result)\n"
     ]
    }
   ],
   "source": [
    "scopus_journals = pd.read_csv('scopus_journals.csv', sep = ';')"
   ]
  },
  {
   "cell_type": "code",
   "execution_count": 11,
   "metadata": {},
   "outputs": [],
   "source": [
    "scopus_journals['title_wos'] = scopus_journals['Title'].str.replace('{\\&}', 'and', regex = False).str.lower().str.replace('&', 'and', regex = False).str.translate(tbl)"
   ]
  },
  {
   "cell_type": "code",
   "execution_count": 12,
   "metadata": {},
   "outputs": [],
   "source": [
    "scopus_journals = scopus_journals[(scopus_journals.Code.isin(scopus_list)|scopus_journals.Code1.isin(scopus_list)|scopus_journals.Code2.isin(scopus_list)|scopus_journals.Code3.isin(scopus_list)|scopus_journals.Code4.isin(scopus_list)|scopus_journals.Code5.isin(scopus_list)|scopus_journals.Code6.isin(scopus_list))&((~scopus_journals['Code'].isin(scopus_not))&(~scopus_journals['Code1'].isin(scopus_not))&(~scopus_journals['Code2'].isin(scopus_not))&(~scopus_journals['Code3'].isin(scopus_not))&(~scopus_journals['Code4'].isin(scopus_not))&(~scopus_journals['Code5'].isin(scopus_not))|(~scopus_journals['Code6'].isin(scopus_not)))]"
   ]
  },
  {
   "cell_type": "code",
   "execution_count": 13,
   "metadata": {},
   "outputs": [],
   "source": [
    "scopus_journals = scopus_journals['Title'].str.replace('{\\&}', 'and', regex = False).str.lower().str.replace('&', 'and', regex = False).str.translate(tbl).tolist()"
   ]
  },
  {
   "cell_type": "code",
   "execution_count": 14,
   "metadata": {},
   "outputs": [
    {
     "data": {
      "text/plain": [
       "4547"
      ]
     },
     "execution_count": 14,
     "metadata": {},
     "output_type": "execute_result"
    }
   ],
   "source": [
    "len(scopus_journals)"
   ]
  },
  {
   "cell_type": "code",
   "execution_count": 14,
   "metadata": {},
   "outputs": [],
   "source": [
    "#base_url = 'http://mjl.clarivate.com/cgi-bin/jrnlst/jlresults.cgi?PC='\n",
    "#end = '&mode=print&Page='\n",
    "#letter_numbers = [('H', list(range(1,5))),('D', list(range(1,20))),('SS', list(range(1,8))),('EX', list(range(1,17)))]\n",
    "#wos_journals = []\n",
    "#for item in letter_numbers:\n",
    "#    for n in item[1]:\n",
    "#        url = base_url + item[0] + end + str(n)\n",
    "#        website = requests.get(url, timeout = 10)\n",
    "#        tree = fromstring(website.text)\n",
    "#        journals = (tree.xpath('.//strong/text()'))[2:]\n",
    "#        journals = [re.sub(r'\\d{1,4}[.] ', '', item) for item in journals]\n",
    "#        journals = [re.sub(r\"&\", 'and', item) for item in journals]\n",
    "#        journals = [item.lower().translate(tbl) for item in journals]  \n",
    "#        wos_journals.extend(journals)\n",
    "#wos_journals = pd.Series(wos_journals)"
   ]
  },
  {
   "cell_type": "code",
   "execution_count": 15,
   "metadata": {},
   "outputs": [],
   "source": [
    "#wos_journals.to_csv('wos_journals.csv')"
   ]
  },
  {
   "cell_type": "code",
   "execution_count": 15,
   "metadata": {},
   "outputs": [],
   "source": [
    "wos_journals = pd.read_csv('wos_journals.csv')"
   ]
  },
  {
   "cell_type": "code",
   "execution_count": 16,
   "metadata": {},
   "outputs": [
    {
     "ename": "AttributeError",
     "evalue": "'list' object has no attribute 'title_wos'",
     "output_type": "error",
     "traceback": [
      "\u001b[0;31m---------------------------------------------------------------------------\u001b[0m",
      "\u001b[0;31mAttributeError\u001b[0m                            Traceback (most recent call last)",
      "\u001b[0;32m<ipython-input-16-99b7cf871814>\u001b[0m in \u001b[0;36m<module>\u001b[0;34m\u001b[0m\n\u001b[0;32m----> 1\u001b[0;31m \u001b[0mwos_not_scopus\u001b[0m \u001b[0;34m=\u001b[0m \u001b[0mwos_journals\u001b[0m\u001b[0;34m[\u001b[0m\u001b[0;34m~\u001b[0m\u001b[0mwos_journals\u001b[0m\u001b[0;34m.\u001b[0m\u001b[0misin\u001b[0m\u001b[0;34m(\u001b[0m\u001b[0mscopus_journals\u001b[0m\u001b[0;34m.\u001b[0m\u001b[0mtitle_wos\u001b[0m\u001b[0;34m)\u001b[0m\u001b[0;34m]\u001b[0m\u001b[0;34m\u001b[0m\u001b[0m\n\u001b[0m",
      "\u001b[0;31mAttributeError\u001b[0m: 'list' object has no attribute 'title_wos'"
     ]
    }
   ],
   "source": [
    "wos_not_scopus = wos_journals[~wos_journals.isin(scopus_journals.title_wos)]"
   ]
  },
  {
   "cell_type": "markdown",
   "metadata": {},
   "source": [
    "Getting the bibtex files downloaded from the databases as Python dicts"
   ]
  },
  {
   "cell_type": "code",
   "execution_count": 17,
   "metadata": {},
   "outputs": [],
   "source": [
    "with open('scopus.bib') as bibtex_file:\n",
    "    bib_database_scopus = bibtexparser.load(bibtex_file)\n",
    "with open('wos.bib') as bibtex_file:\n",
    "    bib_database_wos = bibtexparser.load(bibtex_file)\n",
    "with open('ebsco.bib') as bibtex_file:\n",
    "    bib_database_ebsco = bibtexparser.load(bibtex_file)"
   ]
  },
  {
   "cell_type": "markdown",
   "metadata": {},
   "source": [
    "Not included at the moment: arXiv"
   ]
  },
  {
   "cell_type": "code",
   "execution_count": 18,
   "metadata": {},
   "outputs": [],
   "source": [
    "#results = arxiv.query('(abs:divers* OR abs:\"filter bubble*\" OR abs:\"echo chamber*\" OR abs:serendip* OR abs:plural* OR abs:\"entropy\") AND (abs:news* OR abs:\"media\" OR abs:Twitter OR abs:Facebook OR abs:reddit OR abs:journalis* OR abs:\"social media\") AND (cat:cs.AI OR cat:cs.CL OR cat:cs.CY OR cat:cs.DS OR cat:cs.HC OR cat:cs.IR OR cat:cs.LG OR cat:cs.SI)', max_results = 1000)"
   ]
  },
  {
   "cell_type": "code",
   "execution_count": 19,
   "metadata": {},
   "outputs": [],
   "source": [
    "#len(results)"
   ]
  },
  {
   "cell_type": "code",
   "execution_count": 20,
   "metadata": {},
   "outputs": [],
   "source": [
    "#bib_database_arxiv = []\n",
    "#for item in results: \n",
    "#    authors = ' and '.join(item['authors'])\n",
    "#    entry = {'author':authors,\n",
    "#             'outlet':\"ARXIV\",\n",
    "#             'ENTRYTYPE':\"inproceedings\",\n",
    "#             'abstract':item['summary'].replace('\\n', ' '),\n",
    "#             'url':item['pdf_url'],\n",
    "#             'doi':item['doi'],\n",
    "#             'title':item['title'],\n",
    "#             'year':item['published'][:4]\n",
    "#            }\n",
    "#    bib_database_arxiv.append(entry)\n"
   ]
  },
  {
   "cell_type": "markdown",
   "metadata": {},
   "source": [
    "Putting files into pandas dataframes and only select articles (not including conference proceedings for now)"
   ]
  },
  {
   "cell_type": "code",
   "execution_count": 21,
   "metadata": {},
   "outputs": [],
   "source": [
    "wos = pd.DataFrame(bib_database_wos.entries)\n",
    "scopus = pd.DataFrame(bib_database_scopus.entries)\n",
    "ebsco = pd.DataFrame(bib_database_ebsco.entries)\n",
    "#arxiv = pd.DataFrame(bib_database_arxiv)"
   ]
  },
  {
   "cell_type": "code",
   "execution_count": null,
   "metadata": {},
   "outputs": [],
   "source": []
  },
  {
   "cell_type": "code",
   "execution_count": 29,
   "metadata": {},
   "outputs": [],
   "source": [
    "#arxiv['title_full'] = arxiv['title']\n",
    "#arxiv['title'] = arxiv['title'].str.replace('{\\&}', 'and', regex = False).str.replace('&', 'and', regex = False).str.lower().str.translate(tbl)\n",
    "#arxiv['database'] = 'arxiv'"
   ]
  },
  {
   "cell_type": "code",
   "execution_count": 30,
   "metadata": {},
   "outputs": [],
   "source": [
    "scopus = scopus[scopus['ENTRYTYPE'] == 'article']\n",
    "wos = wos[wos['ENTRYTYPE'] == 'article']\n",
    "ebsco = ebsco[ebsco['ENTRYTYPE'] == 'article']"
   ]
  },
  {
   "cell_type": "code",
   "execution_count": 32,
   "metadata": {},
   "outputs": [
    {
     "name": "stdout",
     "output_type": "stream",
     "text": [
      "2010 2177 11449 15636\n"
     ]
    }
   ],
   "source": [
    "print(len(ebsco), len(wos), len(scopus), len(ebsco) + len(wos) + len(scopus))"
   ]
  },
  {
   "cell_type": "markdown",
   "metadata": {},
   "source": [
    "Putting all outlet fields into one column, using the same processing steps as for the journal lists (lowercasing, replacing special characters) to account for differences in spelling; adding a database column"
   ]
  },
  {
   "cell_type": "code",
   "execution_count": 33,
   "metadata": {},
   "outputs": [],
   "source": [
    "wos['outlet'] = wos['journal'].combine_first(wos['booktitle'])\n",
    "wos['outlet'] = wos['outlet'].combine_first(wos['series'])\n",
    "wos['outlet_low'] = wos['outlet'].str.replace('{\\&}', 'and', regex = False).str.lower().str.replace('&', 'and', regex = False).str.translate(tbl)\n",
    "wos['title_full'] = wos['title']\n",
    "wos['title'] = wos['title'].str.replace('{\\&}', 'and', regex = False).str.replace('&', 'and', regex = False).str.lower().str.translate(tbl)\n",
    "wos['database'] = 'wos'\n",
    "scopus['outlet'] = scopus['journal'].combine_first(scopus['booktitle'])\n",
    "scopus['outlet_low'] = scopus['outlet'].str.replace('{\\&}', 'and', regex = False).str.replace('&', 'and', regex = False).str.lower().str.translate(tbl)\n",
    "scopus['title_full'] = scopus['title']\n",
    "scopus['title'] = scopus['title'].str.replace('{\\&}', 'and', regex = False).str.replace('&', 'and', regex = False).str.lower().str.translate(tbl)\n",
    "scopus['url'] = scopus['url'].str.replace('{\\&}', '&', regex = False).str.replace('{\\%}', '%', regex = False)\n",
    "scopus['database'] = 'scopus'\n",
    "ebsco['outlet'] = ebsco['journal']\n",
    "ebsco['outlet_low'] = ebsco['journal'].str.replace('{\\&}', 'and', regex = False).str.replace('&', 'and', regex = False).str.lower().str.translate(tbl)\n",
    "ebsco['title_full'] = ebsco['title']\n",
    "ebsco['title'] = ebsco['title'].str.replace('{\\&}', 'and', regex = False).str.replace('&', 'and', regex = False).str.lower().str.translate(tbl)\n",
    "ebsco['database'] = 'ebsco'"
   ]
  },
  {
   "cell_type": "code",
   "execution_count": 34,
   "metadata": {},
   "outputs": [],
   "source": [
    "wos_journals = list(dict(wos[wos.outlet_low.isin(wos_not_scopus)]['outlet_low'].value_counts()).keys())"
   ]
  },
  {
   "cell_type": "markdown",
   "metadata": {},
   "source": [
    "For Ebsco the title-list was manually inspected and Journals that are not of interest (i.e. sociological, gender studies, non-English journals) are removed. This leaves 57 titles of interest from EBSCO"
   ]
  },
  {
   "cell_type": "code",
   "execution_count": 35,
   "metadata": {},
   "outputs": [
    {
     "data": {
      "text/plain": [
       "57"
      ]
     },
     "execution_count": 35,
     "metadata": {},
     "output_type": "execute_result"
    }
   ],
   "source": [
    "titles_ebsco = pd.read_csv(\"ebsco_journals.csv\", sep = \";\")['Publication Name'].tolist()\n",
    "titles_ebsco = [i.replace('&', 'and').lower().translate(tbl) for i in titles_ebsco]\n",
    "len(titles_ebsco)"
   ]
  },
  {
   "cell_type": "code",
   "execution_count": 36,
   "metadata": {},
   "outputs": [
    {
     "name": "stdout",
     "output_type": "stream",
     "text": [
      "4604\n"
     ]
    }
   ],
   "source": [
    "print(len(wos_journals) + len(scopus_journals) + len(titles_ebsco))"
   ]
  },
  {
   "cell_type": "code",
   "execution_count": 37,
   "metadata": {},
   "outputs": [],
   "source": [
    "wos = wos.loc[wos['outlet_low'].isin(scopus_journals) | wos['outlet_low'].isin(wos_journals) | wos['outlet_low'].isin(scopus_conferences)]\n",
    "scopus = scopus.loc[scopus['outlet_low'].isin(scopus_journals)| wos['outlet_low'].isin(scopus_conferences)]\n",
    "ebsco = ebsco.loc[ebsco['outlet_low'].isin(titles_ebsco)| (ebsco['ENTRYTYPE'] == 'inproceedings') | (ebsco['ENTRYTYPE'] == 'conference')]"
   ]
  },
  {
   "cell_type": "code",
   "execution_count": 38,
   "metadata": {},
   "outputs": [
    {
     "name": "stdout",
     "output_type": "stream",
     "text": [
      "564 1778 6449 8791\n"
     ]
    }
   ],
   "source": [
    "print(len(ebsco),len(wos),len(scopus),len(ebsco) + len(wos) + len(scopus))"
   ]
  },
  {
   "cell_type": "code",
   "execution_count": 22,
   "metadata": {},
   "outputs": [],
   "source": [
    "all_data = scopus.append(wos, ignore_index = True, sort = True)"
   ]
  },
  {
   "cell_type": "code",
   "execution_count": 23,
   "metadata": {},
   "outputs": [],
   "source": [
    "all_data = all_data.append(ebsco, ignore_index = True, sort = True)"
   ]
  },
  {
   "cell_type": "code",
   "execution_count": 26,
   "metadata": {},
   "outputs": [],
   "source": [
    "all_data.to_csv('all_references.csv')"
   ]
  },
  {
   "cell_type": "markdown",
   "metadata": {},
   "source": [
    "Removing duplicates based on doi and title"
   ]
  },
  {
   "cell_type": "code",
   "execution_count": 41,
   "metadata": {},
   "outputs": [],
   "source": [
    "all_data = all_data[(~all_data.duplicated(['doi'])) | (all_data['doi'].isnull())]"
   ]
  },
  {
   "cell_type": "code",
   "execution_count": 42,
   "metadata": {},
   "outputs": [
    {
     "data": {
      "text/plain": [
       "7746"
      ]
     },
     "execution_count": 42,
     "metadata": {},
     "output_type": "execute_result"
    }
   ],
   "source": [
    "len(all_data)"
   ]
  },
  {
   "cell_type": "code",
   "execution_count": 43,
   "metadata": {},
   "outputs": [],
   "source": [
    "all_data = all_data.drop_duplicates(['title'], keep = 'first')"
   ]
  },
  {
   "cell_type": "code",
   "execution_count": 44,
   "metadata": {},
   "outputs": [
    {
     "data": {
      "text/plain": [
       "7309"
      ]
     },
     "execution_count": 44,
     "metadata": {},
     "output_type": "execute_result"
    }
   ],
   "source": [
    "len(all_data)"
   ]
  },
  {
   "cell_type": "code",
   "execution_count": 45,
   "metadata": {},
   "outputs": [
    {
     "data": {
      "text/plain": [
       "scopus    6440\n",
       "wos        633\n",
       "ebsco      236\n",
       "Name: database, dtype: int64"
      ]
     },
     "execution_count": 45,
     "metadata": {},
     "output_type": "execute_result"
    }
   ],
   "source": [
    "all_data['database'].value_counts()"
   ]
  },
  {
   "cell_type": "markdown",
   "metadata": {},
   "source": [
    "Extracting IDs for ebsco and web of science (make finding articles automatically in the databases easier since those two databases do not always give a doi)"
   ]
  },
  {
   "cell_type": "code",
   "execution_count": 46,
   "metadata": {},
   "outputs": [],
   "source": [
    "def make_ebsco_id (string):\n",
    "    try:\n",
    "        if 'ebscohost' in string['url']:\n",
    "            if re.search(r'AN=(.*?){', string['url']):\n",
    "                ebsco_id = re.search(r'AN=(.*?){', string['url']).group(1)\n",
    "            else:\n",
    "                ebsco_id = re.search(r'AN=(.*?)&', string['url']).group(1)\n",
    "        else:\n",
    "            ebsco_id = \"\"\n",
    "    except:\n",
    "        ebsco_id = \"\"\n",
    "    return ebsco_id"
   ]
  },
  {
   "cell_type": "code",
   "execution_count": 47,
   "metadata": {},
   "outputs": [],
   "source": [
    "def make_wos_id (string):\n",
    "    try:\n",
    "        if 'ISI' in string['ID']:\n",
    "            wos_id = string['ID'][4:]\n",
    "        else:\n",
    "            wos_id = \"\"\n",
    "    except:\n",
    "        wos_id = \"\"\n",
    "    return wos_id"
   ]
  },
  {
   "cell_type": "code",
   "execution_count": 48,
   "metadata": {},
   "outputs": [],
   "source": [
    "all_data['ebsco_id'] = all_data.apply(make_ebsco_id, axis=1)"
   ]
  },
  {
   "cell_type": "code",
   "execution_count": 49,
   "metadata": {},
   "outputs": [],
   "source": [
    "all_data['wos_id'] = all_data.apply(make_wos_id, axis=1)"
   ]
  },
  {
   "cell_type": "code",
   "execution_count": 50,
   "metadata": {},
   "outputs": [],
   "source": [
    "all_data = all_data.applymap(str)"
   ]
  },
  {
   "cell_type": "markdown",
   "metadata": {},
   "source": [
    "Using regular expressions to filter the data again based on the original search string. Additionally also including the results that were only found because of \"Springer Media\"."
   ]
  },
  {
   "cell_type": "code",
   "execution_count": 51,
   "metadata": {},
   "outputs": [],
   "source": [
    "all_data['abstract'] = all_data['abstract'].str.replace('\\n',' ').str.replace('\\r', ' ').str.replace('\\\\', ' ').str.replace('{', ' ').str.replace('}', ' ')"
   ]
  },
  {
   "cell_type": "code",
   "execution_count": 52,
   "metadata": {},
   "outputs": [],
   "source": [
    "all_data = all_data[(all_data.abstract.str.contains('[Nn]ews|[Nn]ews+|media|[Jj]ournalis+|[Tt]witter|[Ff]acebook|[rR]eddit|social media|social network', regex = True))|(all_data.title.str.contains('[Nn]ews|[Nn]ews+|media|[Jj]ournalis+|[Tt]witter|[Ff]acebook|[rR]eddit|social media|social network', regex = True))|(all_data.keywords.str.contains('[Nn]ews|[Nn]ews+|media|[Jj]ournalis+|[Tt]witter|[Ff]acebook|[rR]eddit|social media|social network', regex = True))|(all_data['database']=='ebsco')]"
   ]
  },
  {
   "cell_type": "code",
   "execution_count": 53,
   "metadata": {},
   "outputs": [],
   "source": [
    "all_data = all_data[(all_data.abstract.str.contains('[Dd]ivers+|[Ee]cho [Cc]hambe+|[Ff]ilter [Bb]ubbl+|[Ss]erendip+|[Pp]lurali+|entropy', regex = True))|(all_data.title.str.contains('[Dd]ivers+|[Ee]cho [Cc]hamb+|[Ff]ilter [Bb]ubbl+|[Ss]erendip+|[Pp]lurali+|entropy', regex = True))|(all_data.keywords.str.contains('[Dd]ivers+|[Ee]cho [Cc]hamb+|[Ff]ilter [Bb]ubbl+|[Ss]erendip+|[Pp]lurali+|entropy', regex = True))|(all_data['database']=='ebsco')]"
   ]
  },
  {
   "cell_type": "code",
   "execution_count": 54,
   "metadata": {},
   "outputs": [],
   "source": [
    "springer_data = all_data[(all_data.abstract.str.contains('[Mm]edia', regex = True)) & (all_data.abstract.str.contains('[Ss]pringer', regex = True))&(~all_data.abstract.str.contains('[nN]ews+|[Jj]ournalis+|[Ff]acebook|[Tt]witter|[Rr]eddit', regex = True))]"
   ]
  },
  {
   "cell_type": "code",
   "execution_count": 55,
   "metadata": {},
   "outputs": [],
   "source": [
    "all_data = all_data[~all_data.ID.isin(springer_data.ID)]"
   ]
  },
  {
   "cell_type": "code",
   "execution_count": 56,
   "metadata": {},
   "outputs": [
    {
     "data": {
      "text/plain": [
       "3862"
      ]
     },
     "execution_count": 56,
     "metadata": {},
     "output_type": "execute_result"
    }
   ],
   "source": [
    "len(all_data)"
   ]
  },
  {
   "cell_type": "code",
   "execution_count": 57,
   "metadata": {},
   "outputs": [
    {
     "data": {
      "text/plain": [
       "scopus    3201\n",
       "wos        425\n",
       "ebsco      236\n",
       "Name: database, dtype: int64"
      ]
     },
     "execution_count": 57,
     "metadata": {},
     "output_type": "execute_result"
    }
   ],
   "source": [
    "all_data['database'].value_counts()"
   ]
  },
  {
   "cell_type": "markdown",
   "metadata": {},
   "source": [
    "Transforming dataframe to dict and then to bibtex file to check duplicates in Mendeley (also for near-exact matches) "
   ]
  },
  {
   "cell_type": "code",
   "execution_count": 59,
   "metadata": {},
   "outputs": [],
   "source": [
    "all_data_bib = all_data.to_dict('records')"
   ]
  },
  {
   "cell_type": "code",
   "execution_count": 60,
   "metadata": {},
   "outputs": [],
   "source": [
    "from bibtexparser.bwriter import BibTexWriter\n",
    "from bibtexparser.bibdatabase import BibDatabase\n",
    "\n",
    "db = BibDatabase()\n",
    "db.entries = all_data_bib\n",
    "\n",
    "writer = BibTexWriter()\n",
    "with open('articles.bib', 'w') as bibfile:\n",
    "    bibfile.write(writer.write(db))"
   ]
  },
  {
   "cell_type": "markdown",
   "metadata": {},
   "source": [
    "Identify Near-Duplicates in Mendeley"
   ]
  },
  {
   "cell_type": "code",
   "execution_count": 61,
   "metadata": {},
   "outputs": [],
   "source": [
    "duplicate_ids = ['https://www.scopus.com/inward/record.uri?eid=2-s2.0-84861543428&partnerID=40&md5=9d884393523f89474d2cf9420772db67','https://search.ebscohost.com/login.aspx?direct=true&db=ufh&AN=127361920&site=ehost-live&scope=site','https://search.ebscohost.com/login.aspx?direct=true&db=ufh&AN=122543490&site=ehost-live&scope=site', 'https://search.ebscohost.com/login.aspx?direct=true&db=ufh&AN=40623477&site=ehost-live&scope=site', 'https://search.ebscohost.com/login.aspx?direct=true&db=ufh&AN=40623478&site=ehost-live&scope=site', 'https://search.ebscohost.com/login.aspx?direct=true&db=ufh&AN=67071939&site=ehost-live&scope=site', 'https://search.ebscohost.com/login.aspx?direct=true&db=ufh&AN=96133769&site=ehost-live&scope=site', 'https://search.ebscohost.com/login.aspx?direct=true&db=ufh&AN=67071943&site=ehost-live&scope=site', 'https://search.ebscohost.com/login.aspx?direct=true&db=ufh&AN=45447006&site=ehost-live&scope=site', 'ISI:000361974400004', 'ISI:000391329800001', 'ISI:000276166100005', 'ISI:000361977300045', 'ISI:000408476100003', 'ISI:000361977300043', 'ISI:000389829700001', 'ISI:000386482100001', 'ISI:000402075800005', 'ISI:000276135000003', 'ISI:000326849300004', 'ISI:000377716600013', 'https://search.ebscohost.com/login.aspx?direct=true&db=ufh&AN=100099789&site=ehost-live&scope=site', 'ISI:000411096600019', 'https://search.ebscohost.com/login.aspx?direct=true&db=ufh&AN=25416763&site=ehost-live&scope=site', 'ISI:000391044400001', 'https://search.ebscohost.com/login.aspx?direct=true&db=ufh&AN=22585612&site=ehost-live&scope=site', 'https://search.ebscohost.com/login.aspx?direct=true&db=ufh&AN=126812983&site=ehost-live&scope=site', 'ISI:000226742800005']"
   ]
  },
  {
   "cell_type": "code",
   "execution_count": 62,
   "metadata": {},
   "outputs": [],
   "source": [
    "all_data = all_data[(~all_data['url'].isin(duplicate_ids)) & (~all_data['ID'].isin(duplicate_ids))]"
   ]
  },
  {
   "cell_type": "markdown",
   "metadata": {},
   "source": [
    "Making a CSV file for qualtrics. Additionally, a ID is created as well as an \"email\", making it possible to [import the CSV file into qualtrics as contacts](https://www.qualtrics.com/support/survey-platform/contacts/contact-list-overview/). This way, the keys are included as embedded data and do not need to be coded again and can be displayed to the coder using piped text. For every entry/contact an individual link is created to code the article. "
   ]
  },
  {
   "cell_type": "code",
   "execution_count": 63,
   "metadata": {},
   "outputs": [],
   "source": [
    "for_qualtrics = all_data[['ID', 'abstract', 'author', 'doi', 'ebsco_id', 'outlet', 'title_full', 'url', 'wos_id', 'year']]"
   ]
  },
  {
   "cell_type": "code",
   "execution_count": 64,
   "metadata": {},
   "outputs": [
    {
     "name": "stderr",
     "output_type": "stream",
     "text": [
      "/usr/local/lib/python3.6/site-packages/ipykernel_launcher.py:1: SettingWithCopyWarning: \n",
      "A value is trying to be set on a copy of a slice from a DataFrame.\n",
      "Try using .loc[row_indexer,col_indexer] = value instead\n",
      "\n",
      "See the caveats in the documentation: http://pandas.pydata.org/pandas-docs/stable/indexing.html#indexing-view-versus-copy\n",
      "  \"\"\"Entry point for launching an IPython kernel.\n"
     ]
    }
   ],
   "source": [
    "for_qualtrics['qualtrics_id'] = for_qualtrics.index"
   ]
  },
  {
   "cell_type": "code",
   "execution_count": 65,
   "metadata": {},
   "outputs": [
    {
     "name": "stderr",
     "output_type": "stream",
     "text": [
      "/usr/local/lib/python3.6/site-packages/ipykernel_launcher.py:1: SettingWithCopyWarning: \n",
      "A value is trying to be set on a copy of a slice from a DataFrame.\n",
      "Try using .loc[row_indexer,col_indexer] = value instead\n",
      "\n",
      "See the caveats in the documentation: http://pandas.pydata.org/pandas-docs/stable/indexing.html#indexing-view-versus-copy\n",
      "  \"\"\"Entry point for launching an IPython kernel.\n"
     ]
    }
   ],
   "source": [
    "for_qualtrics['qualtrics_id'] = for_qualtrics['qualtrics_id'].apply('{:0>6}'.format)"
   ]
  },
  {
   "cell_type": "markdown",
   "metadata": {},
   "source": [
    "Make new IDS for the articles"
   ]
  },
  {
   "cell_type": "code",
   "execution_count": 66,
   "metadata": {},
   "outputs": [],
   "source": [
    "def make_email(x):    \n",
    "    return x['qualtrics_id'] + \"@\" + x['year'] + \".nl\""
   ]
  },
  {
   "cell_type": "code",
   "execution_count": 67,
   "metadata": {},
   "outputs": [
    {
     "name": "stderr",
     "output_type": "stream",
     "text": [
      "/usr/local/lib/python3.6/site-packages/ipykernel_launcher.py:1: SettingWithCopyWarning: \n",
      "A value is trying to be set on a copy of a slice from a DataFrame.\n",
      "Try using .loc[row_indexer,col_indexer] = value instead\n",
      "\n",
      "See the caveats in the documentation: http://pandas.pydata.org/pandas-docs/stable/indexing.html#indexing-view-versus-copy\n",
      "  \"\"\"Entry point for launching an IPython kernel.\n",
      "/usr/local/lib/python3.6/site-packages/ipykernel_launcher.py:2: SettingWithCopyWarning: \n",
      "A value is trying to be set on a copy of a slice from a DataFrame.\n",
      "Try using .loc[row_indexer,col_indexer] = value instead\n",
      "\n",
      "See the caveats in the documentation: http://pandas.pydata.org/pandas-docs/stable/indexing.html#indexing-view-versus-copy\n",
      "  \n"
     ]
    }
   ],
   "source": [
    "for_qualtrics['year'] = for_qualtrics.year.astype(str)\n",
    "for_qualtrics['qualtrics_id'] = for_qualtrics.qualtrics_id.astype(str)"
   ]
  },
  {
   "cell_type": "code",
   "execution_count": 68,
   "metadata": {},
   "outputs": [
    {
     "name": "stderr",
     "output_type": "stream",
     "text": [
      "/usr/local/lib/python3.6/site-packages/ipykernel_launcher.py:1: SettingWithCopyWarning: \n",
      "A value is trying to be set on a copy of a slice from a DataFrame.\n",
      "Try using .loc[row_indexer,col_indexer] = value instead\n",
      "\n",
      "See the caveats in the documentation: http://pandas.pydata.org/pandas-docs/stable/indexing.html#indexing-view-versus-copy\n",
      "  \"\"\"Entry point for launching an IPython kernel.\n"
     ]
    }
   ],
   "source": [
    "for_qualtrics['Email'] = for_qualtrics.apply(make_email, axis=1)"
   ]
  },
  {
   "cell_type": "code",
   "execution_count": 69,
   "metadata": {},
   "outputs": [],
   "source": [
    "for_qualtrics.to_csv('qualtrics_list.csv', index = False, sep = ',')"
   ]
  },
  {
   "cell_type": "markdown",
   "metadata": {},
   "source": [
    "Last step (was done in excel) is to make the search words all CAPS in the abstracts so it is possible to see why an article was found by one look. Need to change seperator as excel is too stupid for that. "
   ]
  },
  {
   "cell_type": "code",
   "execution_count": null,
   "metadata": {},
   "outputs": [],
   "source": [
    "with_caps = pd.read_csv('qualtrics_with_caps.csv', sep = ';')"
   ]
  },
  {
   "cell_type": "code",
   "execution_count": null,
   "metadata": {},
   "outputs": [],
   "source": [
    "with_caps.to_csv('qualtrics_with_caps.csv', sep = ',', index = False)"
   ]
  },
  {
   "cell_type": "markdown",
   "metadata": {},
   "source": [
    "Below are some steps for getting the PDFs based on the DOIs. Still work in progress. If no DOI is given, use Microsoft Academic (Google Scholar blocks) for a source link -- most of the times it is a direct download link. With a doi, it can be looked up directly on the publishers' websites (works for the major brands). Last resort: using the Sci-Hub API. When the PDFs are saved, the full text can be extracted to do some NLP stuff/clustering etc."
   ]
  },
  {
   "cell_type": "markdown",
   "metadata": {},
   "source": [
    "Get PDFs of the ones where I need to look at the full text"
   ]
  },
  {
   "cell_type": "code",
   "execution_count": 14,
   "metadata": {},
   "outputs": [],
   "source": [
    "import requests\n",
    "from lxml.html import fromstring\n",
    "import re, string\n",
    "pattern = re.compile('[\\W_]+')"
   ]
  },
  {
   "cell_type": "code",
   "execution_count": 2,
   "metadata": {},
   "outputs": [],
   "source": [
    "texts = pd.read_csv('need_full_text.csv')"
   ]
  },
  {
   "cell_type": "code",
   "execution_count": 4,
   "metadata": {},
   "outputs": [],
   "source": [
    "texts_doi = texts[texts.doi.notnull()]"
   ]
  },
  {
   "cell_type": "code",
   "execution_count": 9,
   "metadata": {},
   "outputs": [],
   "source": [
    "dois = texts_doi['doi'].tolist()"
   ]
  },
  {
   "cell_type": "code",
   "execution_count": 13,
   "metadata": {},
   "outputs": [],
   "source": [
    "dois = dois[2:]"
   ]
  },
  {
   "cell_type": "code",
   "execution_count": 36,
   "metadata": {},
   "outputs": [],
   "source": [
    "dois = dois[2:]"
   ]
  },
  {
   "cell_type": "code",
   "execution_count": 39,
   "metadata": {},
   "outputs": [
    {
     "data": {
      "text/plain": [
       "['10.1080/15205436.2018.1472283',\n",
       " '10.1080/10714421.2018.1535728',\n",
       " '10.1080/19331681.2018.1534703',\n",
       " '10.1080/13537121.2018.1505701',\n",
       " '10.1177/0163443717734407',\n",
       " '10.1515/commun-2018-0012',\n",
       " '10.1080/21670811.2017.1377092',\n",
       " '10.1080/21670811.2018.1468722',\n",
       " '10.1080/15456870.2018.1494176',\n",
       " '10.1007/s12027-018-0508-5',\n",
       " '10.1016/j.dcm.2018.02.006',\n",
       " '10.1080/1461670X.2017.1279028',\n",
       " '10.1177/0002764218764251',\n",
       " '10.1177/1940161218782740',\n",
       " '10.1177/0093650215601883',\n",
       " '10.2478/nor-2018-0004',\n",
       " '10.1177/1329878X18766078',\n",
       " '10.1177/0094582X18757473',\n",
       " '10.5210/fm.v23i4.8414',\n",
       " '10.1177/1354856516660666',\n",
       " '10.1177/1742766517734251',\n",
       " '10.1177/1940161218771902',\n",
       " '10.1177/0163443717707341',\n",
       " '10.1515/commun-2017-0041',\n",
       " '10.1177/1077699017721486',\n",
       " '10.1109/TKDE.2017.2764084',\n",
       " '10.1177/0165551516673285',\n",
       " '10.1080/08821127.2017.1419750',\n",
       " '10.3233/IP-180072',\n",
       " '10.17645/mac.v6i1.1198',\n",
       " '10.5209/CLAC.61353',\n",
       " '10.1177/0191453717723193',\n",
       " '10.1016/j.giq.2017.11.009',\n",
       " '10.1080/0144929X.2017.1359337',\n",
       " '10.1080/1461670X.2017.1338152',\n",
       " '10.1080/08838151.2017.1344673',\n",
       " '10.1080/19436149.2017.1363532',\n",
       " '10.1080/17512786.2016.1209976',\n",
       " '10.1080/21670811.2017.1342209',\n",
       " '10.1007/s10618-017-0527-9',\n",
       " '10.1177/1742766517704674',\n",
       " '10.1080/10758216.2016.1271280',\n",
       " '10.1016/j.csl.2017.01.012',\n",
       " '10.1145/3057731',\n",
       " '10.1109/TSIPN.2017.2696738',\n",
       " '10.1007/s10489-017-0977-1',\n",
       " '10.1177/0163443717734407',\n",
       " '10.1386/jams.9.2.247_1',\n",
       " '10.1177/0163443717691225',\n",
       " '10.1017/S0007123415000599',\n",
       " '10.1080/1461670X.2015.1052537',\n",
       " '10.1080/07256868.2017.1289903',\n",
       " '10.1386/macp.13.1-2.91_1',\n",
       " '10.1002/int.21840',\n",
       " '10.1080/19331681.2016.1261264',\n",
       " '10.1080/21670811.2016.1152162',\n",
       " '10.1075/jlp.17029.lit',\n",
       " '10.1177/2056305117717247',\n",
       " '10.4185/RLCS-2017-1167',\n",
       " '10.15655/mw/2017/v8i1/41275',\n",
       " '10.1108/JICES-05-2016-0017',\n",
       " '10.1108/IDD-05-2017-0044',\n",
       " '10.1080/21670811.2015.1111158',\n",
       " '10.1080/03057070.2016.1253927',\n",
       " '10.1177/1461444815616224',\n",
       " '10.1111/cccr.12119',\n",
       " '10.1080/21670811.2015.1104257',\n",
       " '10.1080/1369118X.2015.1106572',\n",
       " '10.1145/2957755',\n",
       " '10.17645/mac.v4i3.563',\n",
       " '10.1080/14754835.2016.1176522',\n",
       " '10.1080/13216597.2016.1205506',\n",
       " '10.1086/685584',\n",
       " '10.1177/0267323116635833',\n",
       " '10.1080/10286632.2014.985666',\n",
       " '10.1177/0163443715594035',\n",
       " '10.1108/OIR-02-2015-0062',\n",
       " '10.1177/2056305115626750',\n",
       " '10.1080/15205436.2015.1068811',\n",
       " '10.1108/OIR-02-2016-0038',\n",
       " '10.1016/j.comcom.2015.07.016',\n",
       " '10.1177/1077699016638835',\n",
       " '10.1111/1467-923X.12207',\n",
       " '10.1080/13183222.2016.1210465',\n",
       " '10.1080/01442872.2015.1095282',\n",
       " '10.1080/21670811.2014.952983',\n",
       " '10.1386/jdtv.6.3.311_1',\n",
       " '10.1177/1750635214541031',\n",
       " '10.1002/pra2.2015.145052010045',\n",
       " '10.1177/0002716215569192',\n",
       " '10.1080/13532944.2014.988605',\n",
       " '10.15655/mw/2015/v6i3/77892',\n",
       " '10.1080/01442872.2015.1065968',\n",
       " '10.1080/01292986.2014.990470',\n",
       " '10.1177/1065912915605581',\n",
       " '10.1177/1748048514538927',\n",
       " '10.1002/pra2.2015.145052010019',\n",
       " '10.1145/2629350',\n",
       " '10.1016/j.eswa.2013.11.020',\n",
       " '10.1177/1748048513504045',\n",
       " '10.1080/13510347.2012.697056',\n",
       " '10.1080/01463373.2013.861500',\n",
       " '10.1140/epjds/s13688-014-0012-2',\n",
       " '10.1386/jams.6.3.299_1',\n",
       " '10.1080/21670811.2013.850573',\n",
       " '10.1386/macp.10.2.155_1',\n",
       " '10.1080/02560054.2014.919946',\n",
       " '10.1080/15205436.2013.788721',\n",
       " '10.1177/1742766514552380',\n",
       " '10.1177/1742766514552354',\n",
       " '10.1177/1940161214528994',\n",
       " '10.1080/02560054.2012.732258',\n",
       " '10.1177/1461444811420271',\n",
       " '10.1177/1464884911421694',\n",
       " '10.1177/0093650211405650',\n",
       " '10.1111/j.1460-2466.2011.01625.x',\n",
       " '10.1080/15348423.2012.655106',\n",
       " '10.2753/PPC1075-8216580601',\n",
       " '10.1080/01463373.2011.614211',\n",
       " '10.1080/15205436.2011.611922',\n",
       " '10.1080/10714421.2011.624002',\n",
       " '10.1111/j.1467-9906.2011.00552.x',\n",
       " '10.1080/10584609.2011.572479',\n",
       " '10.1177/1748048511398590',\n",
       " '10.1007/s11186-011-9143-7',\n",
       " '10.1080/10584609.2010.540305',\n",
       " '10.1080/17544750.2011.544080',\n",
       " '10.1177/223080751000500101',\n",
       " '10.1177/107769901108800205',\n",
       " '10.1109/TMM.2010.2055045',\n",
       " '10.1111/j.1548-2456.2010.00100.x',\n",
       " '10.1080/14683849.2010.540114',\n",
       " '10.1177/1075547010362709',\n",
       " '10.1177/1464884909355910',\n",
       " '10.1111/j.1540-5907.2010.00439.x',\n",
       " '10.1177/0267323109354229',\n",
       " '10.1177/0163443709339466',\n",
       " '10.1111/j.1083-6101.2009.01471.x',\n",
       " '10.5210/fm.v14i9.2624',\n",
       " '10.1177/1748048508097929',\n",
       " '10.1080/14616700802560468',\n",
       " '10.1177/1748048508094291',\n",
       " '10.1007/s11109-007-9050-9',\n",
       " '10.1177/223386590801100212',\n",
       " '10.1080/14616700701768030',\n",
       " '10.1080/13183222.2008.11008983',\n",
       " '10.1177/097152310701400105',\n",
       " '10.1111/j.1468-2885.2007.00301.x',\n",
       " '10.1111/j.1468-4446.2007.00147.x',\n",
       " '10.1177/1748048507074926',\n",
       " '10.1177/1075547006298253',\n",
       " '10.5367/000000007780420499',\n",
       " '10.1080/17512780701275473',\n",
       " '10.3200/DEMO.14.4.579-600',\n",
       " '10.3138/cjccj.48.6.905',\n",
       " '10.1080/1461670032000174756',\n",
       " '10.1093/joc/53.4.658',\n",
       " '10.1177/0095399703256257',\n",
       " '10.1177/107554702237844',\n",
       " '10.1111/1467-971X.00243',\n",
       " '10.1177/135485650200800105',\n",
       " '10.1177/108118001129172125',\n",
       " '10.1080/10584600152400356',\n",
       " '10.1177/0095327X0102700202',\n",
       " '10.1080/13183222.2001.11008766',\n",
       " '10.1177/016344301023001006',\n",
       " '10.1108/01604950010337623',\n",
       " '10.1177/016344300022004003',\n",
       " '10.1515/comm.2000.25.3.233',\n",
       " '10.1177/14614440022225823',\n",
       " '10.1207/s15506878jobem4403_8',\n",
       " '10.1080/13183222.1999.11008713',\n",
       " '10.1093/ijpor/11.2.135',\n",
       " '10.1080/13510349808403560',\n",
       " '10.1080/13510349808403557',\n",
       " '10.1177/0267323198013003001',\n",
       " '10.1016/j.soscij.2013.04.014',\n",
       " '10.1177/0267323113501150',\n",
       " '10.1177/0097700413492602',\n",
       " '10.1080/10410236.2012.658550',\n",
       " '10.1080/15358593.2012.752521',\n",
       " '10.1111/j.1540-5907.2012.00627.x',\n",
       " '10.13177/irpa.a.2016.12.1.3',\n",
       " '10.25300/MISQ/2016/40.2.02',\n",
       " '10.25200/BJR.v12n2.2016.873',\n",
       " '10.1016/j.ipm.2016.03.002',\n",
       " '10.1145/2935747',\n",
       " '10.1016/j.pubrev.2016.03.014',\n",
       " '10.1142/S1793351X16400195',\n",
       " '10.1142/S1793351X1640016X',\n",
       " '10.1080/10810730.2016.1266715',\n",
       " '10.1177/1077699016637119',\n",
       " '10.1007/s00779-014-0785-0',\n",
       " '10.1080/10646175.2015.1049760',\n",
       " '10.1080/22041451.2015.1048034',\n",
       " '10.1080/23743670.2015.1041301',\n",
       " '10.26422/aucom.2015.0401.kol',\n",
       " '10.1016/j.mexlaw.2015.12.003',\n",
       " '10.1016/j.ipm.2015.02.004',\n",
       " '10.5325/jinfopoli.6.2016.0068',\n",
       " '10.7195/ri14.v14i2.987',\n",
       " '10.5209/DCIN.54411',\n",
       " '10.1177/1464884911412702',\n",
       " '10.1016/j.ipm.2012.03.003',\n",
       " '10.1108/10662241311295791',\n",
       " '10.1111/cccr.12001',\n",
       " '10.1561/100.00012099',\n",
       " '10.1080/10584600590908410',\n",
       " '10.1080/13183222.2005.11008896',\n",
       " '10.2307/20439038',\n",
       " '10.1080/01402380701500363',\n",
       " '10.1080/08900520802490889',\n",
       " '10.1080/17544750701861954',\n",
       " '10.1080/08997760903129366',\n",
       " '10.1080/08900520902885194',\n",
       " '10.1109/TCE.2010.5439126',\n",
       " '10.1093/joclec/nhp026',\n",
       " '10.1080/08900523.2011.525194',\n",
       " '10.1177/0963662510363379',\n",
       " '10.1207/s15506878jobem4401_5',\n",
       " '10.1080/105846001750322943',\n",
       " '10.1177/0267323102017001606',\n",
       " '10.1207/s15506878jobem4602_1',\n",
       " '10.1207/s15506878jobem4603_7',\n",
       " '10.1207/S15327736ME1601_4',\n",
       " '10.1207/s15506878jobem4704_6',\n",
       " '10.1177/01634437038203',\n",
       " '10.1080/1554477X.2016.1192422',\n",
       " '10.1080/14683849.2010.540116',\n",
       " '10.1177/1748048508097931']"
      ]
     },
     "execution_count": 39,
     "metadata": {},
     "output_type": "execute_result"
    }
   ],
   "source": [
    "dois"
   ]
  },
  {
   "cell_type": "code",
   "execution_count": 40,
   "metadata": {},
   "outputs": [
    {
     "name": "stdout",
     "output_type": "stream",
     "text": [
      "https://www.tandfonline.com/doi/10.1080/10584609.2011.619509\n",
      "https://www.tandfonline.com/doi/10.1080/1369118X.2015.1109698\n",
      "https://www.tandfonline.com/doi/10.1080/01972240290075174\n",
      "https://www.tandfonline.com/doi/10.1080/08997225.2004.10556302\n",
      "http://journals.sagepub.com/doi/pdf/10.1177/0163443717734407\n",
      "[] 10.1515/commun-2018-0012\n",
      "https://www.tandfonline.com/doi/full/10.1080/21670811.2017.1377092/doi/full/10.1080/21670811.2017.1377092?scroll=top&needAccess=true\n",
      "https://www.tandfonline.com/doi/10.1386/jmpr.13.1.61_1\n",
      "https://www.tandfonline.com/doi/10.1080/10584600802426965\n",
      "http://aei.pitt.edu/1156/1/pluralism_gp_COM_92_480.pdf\n",
      "[] 10.1016/j.dcm.2018.02.006\n",
      "https://www.tandfonline.com/doi/10.1080/21670811.2013.818365\n",
      "http://journals.sagepub.com/doi/pdf/10.1177/0002764218764251\n",
      "http://journals.sagepub.com/doi/pdf/10.1177/1940161218782740\n",
      "http://journals.sagepub.com/doi/pdf/10.1177/0093650215601883\n",
      "[] 10.2478/nor-2018-0004\n",
      "http://journals.sagepub.com/doi/pdf/10.1177/1329878X18766078\n",
      "http://journals.sagepub.com/doi/pdf/10.1177/0094582X18757473\n"
     ]
    },
    {
     "ename": "ValueError",
     "evalue": "Unicode strings with encoding declaration are not supported. Please use bytes input or XML fragments without declaration.",
     "output_type": "error",
     "traceback": [
      "\u001b[0;31m---------------------------------------------------------------------------\u001b[0m",
      "\u001b[0;31mValueError\u001b[0m                                Traceback (most recent call last)",
      "\u001b[0;32m<ipython-input-40-d0ccf0963aba>\u001b[0m in \u001b[0;36m<module>\u001b[0;34m\u001b[0m\n\u001b[1;32m      1\u001b[0m \u001b[0;32mfor\u001b[0m \u001b[0mitem\u001b[0m \u001b[0;32min\u001b[0m \u001b[0mdois\u001b[0m\u001b[0;34m:\u001b[0m\u001b[0;34m\u001b[0m\u001b[0m\n\u001b[1;32m      2\u001b[0m     \u001b[0ma\u001b[0m \u001b[0;34m=\u001b[0m \u001b[0mrequests\u001b[0m\u001b[0;34m.\u001b[0m\u001b[0mget\u001b[0m\u001b[0;34m(\u001b[0m\u001b[0;34m\"http://doi.org/\"\u001b[0m\u001b[0;34m+\u001b[0m\u001b[0mitem\u001b[0m\u001b[0;34m)\u001b[0m\u001b[0;34m\u001b[0m\u001b[0m\n\u001b[0;32m----> 3\u001b[0;31m     \u001b[0mtree\u001b[0m \u001b[0;34m=\u001b[0m \u001b[0mfromstring\u001b[0m\u001b[0;34m(\u001b[0m\u001b[0ma\u001b[0m\u001b[0;34m.\u001b[0m\u001b[0mtext\u001b[0m\u001b[0;34m)\u001b[0m\u001b[0;34m\u001b[0m\u001b[0m\n\u001b[0m\u001b[1;32m      4\u001b[0m     \u001b[0murls\u001b[0m \u001b[0;34m=\u001b[0m \u001b[0mtree\u001b[0m\u001b[0;34m.\u001b[0m\u001b[0mxpath\u001b[0m\u001b[0;34m(\u001b[0m\u001b[0;34m'//a/@href'\u001b[0m\u001b[0;34m)\u001b[0m\u001b[0;34m\u001b[0m\u001b[0m\n\u001b[1;32m      5\u001b[0m     \u001b[0;32mtry\u001b[0m\u001b[0;34m:\u001b[0m\u001b[0;34m\u001b[0m\u001b[0m\n",
      "\u001b[0;32m/usr/local/lib/python3.6/site-packages/lxml/html/__init__.py\u001b[0m in \u001b[0;36mfromstring\u001b[0;34m(html, base_url, parser, **kw)\u001b[0m\n\u001b[1;32m    874\u001b[0m     \u001b[0;32melse\u001b[0m\u001b[0;34m:\u001b[0m\u001b[0;34m\u001b[0m\u001b[0m\n\u001b[1;32m    875\u001b[0m         \u001b[0mis_full_html\u001b[0m \u001b[0;34m=\u001b[0m \u001b[0m_looks_like_full_html_unicode\u001b[0m\u001b[0;34m(\u001b[0m\u001b[0mhtml\u001b[0m\u001b[0;34m)\u001b[0m\u001b[0;34m\u001b[0m\u001b[0m\n\u001b[0;32m--> 876\u001b[0;31m     \u001b[0mdoc\u001b[0m \u001b[0;34m=\u001b[0m \u001b[0mdocument_fromstring\u001b[0m\u001b[0;34m(\u001b[0m\u001b[0mhtml\u001b[0m\u001b[0;34m,\u001b[0m \u001b[0mparser\u001b[0m\u001b[0;34m=\u001b[0m\u001b[0mparser\u001b[0m\u001b[0;34m,\u001b[0m \u001b[0mbase_url\u001b[0m\u001b[0;34m=\u001b[0m\u001b[0mbase_url\u001b[0m\u001b[0;34m,\u001b[0m \u001b[0;34m**\u001b[0m\u001b[0mkw\u001b[0m\u001b[0;34m)\u001b[0m\u001b[0;34m\u001b[0m\u001b[0m\n\u001b[0m\u001b[1;32m    877\u001b[0m     \u001b[0;32mif\u001b[0m \u001b[0mis_full_html\u001b[0m\u001b[0;34m:\u001b[0m\u001b[0;34m\u001b[0m\u001b[0m\n\u001b[1;32m    878\u001b[0m         \u001b[0;32mreturn\u001b[0m \u001b[0mdoc\u001b[0m\u001b[0;34m\u001b[0m\u001b[0m\n",
      "\u001b[0;32m/usr/local/lib/python3.6/site-packages/lxml/html/__init__.py\u001b[0m in \u001b[0;36mdocument_fromstring\u001b[0;34m(html, parser, ensure_head_body, **kw)\u001b[0m\n\u001b[1;32m    760\u001b[0m     \u001b[0;32mif\u001b[0m \u001b[0mparser\u001b[0m \u001b[0;32mis\u001b[0m \u001b[0;32mNone\u001b[0m\u001b[0;34m:\u001b[0m\u001b[0;34m\u001b[0m\u001b[0m\n\u001b[1;32m    761\u001b[0m         \u001b[0mparser\u001b[0m \u001b[0;34m=\u001b[0m \u001b[0mhtml_parser\u001b[0m\u001b[0;34m\u001b[0m\u001b[0m\n\u001b[0;32m--> 762\u001b[0;31m     \u001b[0mvalue\u001b[0m \u001b[0;34m=\u001b[0m \u001b[0metree\u001b[0m\u001b[0;34m.\u001b[0m\u001b[0mfromstring\u001b[0m\u001b[0;34m(\u001b[0m\u001b[0mhtml\u001b[0m\u001b[0;34m,\u001b[0m \u001b[0mparser\u001b[0m\u001b[0;34m,\u001b[0m \u001b[0;34m**\u001b[0m\u001b[0mkw\u001b[0m\u001b[0;34m)\u001b[0m\u001b[0;34m\u001b[0m\u001b[0m\n\u001b[0m\u001b[1;32m    763\u001b[0m     \u001b[0;32mif\u001b[0m \u001b[0mvalue\u001b[0m \u001b[0;32mis\u001b[0m \u001b[0;32mNone\u001b[0m\u001b[0;34m:\u001b[0m\u001b[0;34m\u001b[0m\u001b[0m\n\u001b[1;32m    764\u001b[0m         raise etree.ParserError(\n",
      "\u001b[0;32msrc/lxml/etree.pyx\u001b[0m in \u001b[0;36mlxml.etree.fromstring\u001b[0;34m()\u001b[0m\n",
      "\u001b[0;32msrc/lxml/parser.pxi\u001b[0m in \u001b[0;36mlxml.etree._parseMemoryDocument\u001b[0;34m()\u001b[0m\n",
      "\u001b[0;31mValueError\u001b[0m: Unicode strings with encoding declaration are not supported. Please use bytes input or XML fragments without declaration."
     ]
    }
   ],
   "source": [
    "for item in dois: \n",
    "    a = requests.get(\"http://doi.org/\"+item)\n",
    "    tree = fromstring(a.text)  \n",
    "    urls = tree.xpath('//a/@href')\n",
    "    try:\n",
    "        urls_selection = [s for s in urls if \"doi/\" in s]\n",
    "        if urls_selection == []:\n",
    "            urls_selection = [s for s in urls if \"pdf\" in s]\n",
    "        urls_all = [s for s in urls_selection if \"http\" in s]\n",
    "        if urls_all == []:\n",
    "            urls_all = [a.url + s for s in urls_selection]\n",
    "        pdflink = urls_all[0]\n",
    "        print(pdflink)\n",
    "        try:\n",
    "            res = requests.get(pdflink)\n",
    "            with open(os.path.join('PDF_full_text/',pattern.sub('', item)), \"wb\") as f:\n",
    "                f.write(res.content)\n",
    "        except:\n",
    "            print('could not request link for' + item)    \n",
    "    except:\n",
    "        print(urls, item)\n",
    "    "
   ]
  },
  {
   "cell_type": "code",
   "execution_count": 32,
   "metadata": {},
   "outputs": [
    {
     "data": {
      "text/plain": [
       "['wos.bib',\n",
       " 'scopus.bib',\n",
       " '.DS_Store',\n",
       " 'need_full_text.csv',\n",
       " 'PDF_full_text',\n",
       " 'qualtrics_with_caps.csv',\n",
       " 'Conference_Proceedings_list.csv',\n",
       " 'wos_journals.csv',\n",
       " 'ebsco_journals.csv',\n",
       " 'LitReview.ipynb',\n",
       " 'qualtrics.bib',\n",
       " 'scopus_journals.csv',\n",
       " 'ebsco.bib',\n",
       " '.ipynb_checkpoints']"
      ]
     },
     "execution_count": 32,
     "metadata": {},
     "output_type": "execute_result"
    }
   ],
   "source": [
    "import os\n",
    "os.listdir() "
   ]
  },
  {
   "cell_type": "code",
   "execution_count": null,
   "metadata": {},
   "outputs": [],
   "source": [
    "#title = \"From Newsworthiness to shareworthiness\"\n",
    "#base_url = 'https://academic.microsoft.com/#/search?'\n",
    "#rest = '&filters=&from=0&sort=0'\n",
    "#import urllib\n",
    "#query = urllib.parse.quote(title)\n",
    "#full_url = base_url + \"iq=%40\"+query+\"%40&q=\"+query+rest"
   ]
  },
  {
   "cell_type": "code",
   "execution_count": null,
   "metadata": {},
   "outputs": [],
   "source": [
    "#from selenium import webdriver\n",
    "#driver = webdriver.PhantomJS()\n",
    "#driver.get(full_url)\n",
    "#source = driver.find_element_by_class_name('source-grab').get_attribute('href')\n",
    "#title = driver.find_element_by_class_name('blue-title').get_attribute('title')\n",
    "#author = driver.find_element_by_class_name('paper-author-affiliation').text   "
   ]
  },
  {
   "cell_type": "code",
   "execution_count": null,
   "metadata": {},
   "outputs": [],
   "source": [
    "#import requests\n",
    "#from bs4 import BeautifulSoup"
   ]
  },
  {
   "cell_type": "code",
   "execution_count": null,
   "metadata": {},
   "outputs": [],
   "source": [
    "#for item in with_doi_wos:\n",
    "#    res = requests.get('https://www.tandfonline.com/doi/pdf/{}'.format(item['doi']))\n",
    "#    if res.status_code == 404:\n",
    "#        print(item['doi'])\n",
    "#        res = requests.get('https://journals.sagepub.com/doi/pdf/{}'.format(item['doi']))\n",
    "#        if res.status_code == 404:\n",
    "#            res = requests.get('https://onlinelibrary.wiley.com/doi/pdf/{}'.format(item['doi']))\n",
    "#            if res.status_code == 404:\n",
    "#                res = requests.get('https://link.springer.com/content/pdf/{}'.format(item['doi']))\n",
    "#                if res.status_code == 404:\n",
    "#                    res = requests.get('https://doi.org/'.format(item['doi']))\n",
    "#                    soup = BeautifulSoup(res.content, 'html.parser')\n",
    "#                    try:\n",
    "#                        link = soup.select('a[name=\"FullTextPDF\"]')\n",
    "#                        res = requests.get(link[0]['href'])\n",
    "#                    except:\n",
    "#                        res = \"\"\n",
    "#                        raw = requests.get('https://api.elsevier.com/content/article/doi/{}?httpAccept=text/plain&APIKey=483758170cc6c3159d246d884c526cf0'.format(item['doi']))            \n",
    "#                        if raw.status_code == 404:\n",
    "#                            raw = \"\"\n",
    "#    if res:\n",
    "#        with open('Users⁩/felicialoecherbach⁩/surfdrive⁩/literature_review⁩/PDF/{}.pdf'.format(item['ID'].replace(':', ''), 'wb')) as f: \n",
    "#            f.write(res.content)\n",
    "#    if raw:\n",
    "#        with open('Users⁩/felicialoecherbach⁩/surfdrive⁩/literature_review⁩/RAW/{}.txt'.format(item['ID'].replace(':', ''), 'wb')) as f: \n",
    "#            f.write(raw.content)"
   ]
  },
  {
   "cell_type": "code",
   "execution_count": null,
   "metadata": {},
   "outputs": [],
   "source": [
    "#from get_document import Document\n",
    "#sh = Document()\n",
    "#sh.download(doi, path = PDFs/{}.pdf'.format(item['ID']))"
   ]
  },
  {
   "cell_type": "code",
   "execution_count": 29,
   "metadata": {},
   "outputs": [
    {
     "data": {
      "text/plain": [
       "'003835@2011'"
      ]
     },
     "execution_count": 29,
     "metadata": {},
     "output_type": "execute_result"
    }
   ],
   "source": [
    "string = \"Users/felicialoecherbach/surfdrive/literature_review/LitReview/PDF_full_text/included/003835@2011.txt\"\n",
    "string[-15:-4]"
   ]
  },
  {
   "cell_type": "markdown",
   "metadata": {},
   "source": [
    "Extract full text from PDFs"
   ]
  },
  {
   "cell_type": "code",
   "execution_count": 174,
   "metadata": {},
   "outputs": [
    {
     "ename": "KeyboardInterrupt",
     "evalue": "",
     "output_type": "error",
     "traceback": [
      "\u001b[0;31m---------------------------------------------------------------------------\u001b[0m",
      "\u001b[0;31mKeyboardInterrupt\u001b[0m                         Traceback (most recent call last)",
      "\u001b[0;32m<ipython-input-174-87a4ca6bcf9c>\u001b[0m in \u001b[0;36m<module>\u001b[0;34m()\u001b[0m\n\u001b[1;32m      8\u001b[0m     \u001b[0mcmd\u001b[0m \u001b[0;34m=\u001b[0m \u001b[0;34m'python3 /Users/felicialoecherbach1/surfdrive/literature_review/pdf2txt.py -o %s.txt %s'\u001b[0m \u001b[0;34m%\u001b[0m \u001b[0;34m(\u001b[0m\u001b[0mf\u001b[0m\u001b[0;34m.\u001b[0m\u001b[0msplit\u001b[0m\u001b[0;34m(\u001b[0m\u001b[0;34m'.'\u001b[0m\u001b[0;34m)\u001b[0m\u001b[0;34m[\u001b[0m\u001b[0;36m0\u001b[0m\u001b[0;34m]\u001b[0m\u001b[0;34m,\u001b[0m \u001b[0mf\u001b[0m\u001b[0;34m)\u001b[0m\u001b[0;34m\u001b[0m\u001b[0m\n\u001b[1;32m      9\u001b[0m     \u001b[0mrun\u001b[0m \u001b[0;34m=\u001b[0m \u001b[0msubprocess\u001b[0m\u001b[0;34m.\u001b[0m\u001b[0mPopen\u001b[0m\u001b[0;34m(\u001b[0m\u001b[0mcmd\u001b[0m\u001b[0;34m,\u001b[0m \u001b[0mshell\u001b[0m\u001b[0;34m=\u001b[0m\u001b[0;32mTrue\u001b[0m\u001b[0;34m,\u001b[0m \u001b[0mstdout\u001b[0m\u001b[0;34m=\u001b[0m\u001b[0msubprocess\u001b[0m\u001b[0;34m.\u001b[0m\u001b[0mPIPE\u001b[0m\u001b[0;34m,\u001b[0m \u001b[0mstderr\u001b[0m\u001b[0;34m=\u001b[0m\u001b[0msubprocess\u001b[0m\u001b[0;34m.\u001b[0m\u001b[0mPIPE\u001b[0m\u001b[0;34m)\u001b[0m\u001b[0;34m\u001b[0m\u001b[0m\n\u001b[0;32m---> 10\u001b[0;31m     \u001b[0mout\u001b[0m\u001b[0;34m,\u001b[0m \u001b[0merr\u001b[0m \u001b[0;34m=\u001b[0m \u001b[0mrun\u001b[0m\u001b[0;34m.\u001b[0m\u001b[0mcommunicate\u001b[0m\u001b[0;34m(\u001b[0m\u001b[0;34m)\u001b[0m\u001b[0;34m\u001b[0m\u001b[0m\n\u001b[0m\u001b[1;32m     11\u001b[0m \u001b[0;34m\u001b[0m\u001b[0m\n\u001b[1;32m     12\u001b[0m     \u001b[0;31m# display errors if they occur\u001b[0m\u001b[0;34m\u001b[0m\u001b[0;34m\u001b[0m\u001b[0m\n",
      "\u001b[0;32m/usr/local/Cellar/python/3.6.5_1/Frameworks/Python.framework/Versions/3.6/lib/python3.6/subprocess.py\u001b[0m in \u001b[0;36mcommunicate\u001b[0;34m(self, input, timeout)\u001b[0m\n\u001b[1;32m    841\u001b[0m \u001b[0;34m\u001b[0m\u001b[0m\n\u001b[1;32m    842\u001b[0m             \u001b[0;32mtry\u001b[0m\u001b[0;34m:\u001b[0m\u001b[0;34m\u001b[0m\u001b[0m\n\u001b[0;32m--> 843\u001b[0;31m                 \u001b[0mstdout\u001b[0m\u001b[0;34m,\u001b[0m \u001b[0mstderr\u001b[0m \u001b[0;34m=\u001b[0m \u001b[0mself\u001b[0m\u001b[0;34m.\u001b[0m\u001b[0m_communicate\u001b[0m\u001b[0;34m(\u001b[0m\u001b[0minput\u001b[0m\u001b[0;34m,\u001b[0m \u001b[0mendtime\u001b[0m\u001b[0;34m,\u001b[0m \u001b[0mtimeout\u001b[0m\u001b[0;34m)\u001b[0m\u001b[0;34m\u001b[0m\u001b[0m\n\u001b[0m\u001b[1;32m    844\u001b[0m             \u001b[0;32mfinally\u001b[0m\u001b[0;34m:\u001b[0m\u001b[0;34m\u001b[0m\u001b[0m\n\u001b[1;32m    845\u001b[0m                 \u001b[0mself\u001b[0m\u001b[0;34m.\u001b[0m\u001b[0m_communication_started\u001b[0m \u001b[0;34m=\u001b[0m \u001b[0;32mTrue\u001b[0m\u001b[0;34m\u001b[0m\u001b[0m\n",
      "\u001b[0;32m/usr/local/Cellar/python/3.6.5_1/Frameworks/Python.framework/Versions/3.6/lib/python3.6/subprocess.py\u001b[0m in \u001b[0;36m_communicate\u001b[0;34m(self, input, endtime, orig_timeout)\u001b[0m\n\u001b[1;32m   1512\u001b[0m                         \u001b[0;32mraise\u001b[0m \u001b[0mTimeoutExpired\u001b[0m\u001b[0;34m(\u001b[0m\u001b[0mself\u001b[0m\u001b[0;34m.\u001b[0m\u001b[0margs\u001b[0m\u001b[0;34m,\u001b[0m \u001b[0morig_timeout\u001b[0m\u001b[0;34m)\u001b[0m\u001b[0;34m\u001b[0m\u001b[0m\n\u001b[1;32m   1513\u001b[0m \u001b[0;34m\u001b[0m\u001b[0m\n\u001b[0;32m-> 1514\u001b[0;31m                     \u001b[0mready\u001b[0m \u001b[0;34m=\u001b[0m \u001b[0mselector\u001b[0m\u001b[0;34m.\u001b[0m\u001b[0mselect\u001b[0m\u001b[0;34m(\u001b[0m\u001b[0mtimeout\u001b[0m\u001b[0;34m)\u001b[0m\u001b[0;34m\u001b[0m\u001b[0m\n\u001b[0m\u001b[1;32m   1515\u001b[0m                     \u001b[0mself\u001b[0m\u001b[0;34m.\u001b[0m\u001b[0m_check_timeout\u001b[0m\u001b[0;34m(\u001b[0m\u001b[0mendtime\u001b[0m\u001b[0;34m,\u001b[0m \u001b[0morig_timeout\u001b[0m\u001b[0;34m)\u001b[0m\u001b[0;34m\u001b[0m\u001b[0m\n\u001b[1;32m   1516\u001b[0m \u001b[0;34m\u001b[0m\u001b[0m\n",
      "\u001b[0;32m/usr/local/Cellar/python/3.6.5_1/Frameworks/Python.framework/Versions/3.6/lib/python3.6/selectors.py\u001b[0m in \u001b[0;36mselect\u001b[0;34m(self, timeout)\u001b[0m\n\u001b[1;32m    374\u001b[0m             \u001b[0mready\u001b[0m \u001b[0;34m=\u001b[0m \u001b[0;34m[\u001b[0m\u001b[0;34m]\u001b[0m\u001b[0;34m\u001b[0m\u001b[0m\n\u001b[1;32m    375\u001b[0m             \u001b[0;32mtry\u001b[0m\u001b[0;34m:\u001b[0m\u001b[0;34m\u001b[0m\u001b[0m\n\u001b[0;32m--> 376\u001b[0;31m                 \u001b[0mfd_event_list\u001b[0m \u001b[0;34m=\u001b[0m \u001b[0mself\u001b[0m\u001b[0;34m.\u001b[0m\u001b[0m_poll\u001b[0m\u001b[0;34m.\u001b[0m\u001b[0mpoll\u001b[0m\u001b[0;34m(\u001b[0m\u001b[0mtimeout\u001b[0m\u001b[0;34m)\u001b[0m\u001b[0;34m\u001b[0m\u001b[0m\n\u001b[0m\u001b[1;32m    377\u001b[0m             \u001b[0;32mexcept\u001b[0m \u001b[0mInterruptedError\u001b[0m\u001b[0;34m:\u001b[0m\u001b[0;34m\u001b[0m\u001b[0m\n\u001b[1;32m    378\u001b[0m                 \u001b[0;32mreturn\u001b[0m \u001b[0mready\u001b[0m\u001b[0;34m\u001b[0m\u001b[0m\n",
      "\u001b[0;31mKeyboardInterrupt\u001b[0m: "
     ]
    }
   ],
   "source": [
    "import glob, os\n",
    "import subprocess\n",
    "os.chdir(\"/Users/felicialoecherbach1/surfdrive/literature_review/LitReview/PDF_full_text/included\")\n",
    "files = []\n",
    "for file in glob.glob(\"*.pdf\"):\n",
    "    files.append(file)\n",
    "for f in files:\n",
    "    cmd = 'python3 /Users/felicialoecherbach1/surfdrive/literature_review/pdf2txt.py -o %s.txt %s' % (f.split('.')[0], f)\n",
    "    run = subprocess.Popen(cmd, shell=True, stdout=subprocess.PIPE, stderr=subprocess.PIPE)\n",
    "    out, err = run.communicate()\n",
    "\n",
    "    # display errors if they occur    \n",
    "    if err:\n",
    "        print(err)"
   ]
  },
  {
   "cell_type": "code",
   "execution_count": 232,
   "metadata": {},
   "outputs": [],
   "source": [
    "import glob\n",
    "import errno\n",
    "text_id = {}\n",
    "path = '/Users/felicialoecherbach1/surfdrive/literature_review/LitReview/PDF_full_text/included/*.txt'\n",
    "files = glob.glob(path)\n",
    "for name in files:\n",
    "    try:\n",
    "        with open(name) as f:\n",
    "            text_id[name[-15:-4]] = f.read()\n",
    "            pass # do what you want\n",
    "    except IOError as exc:\n",
    "        if exc.errno != errno.EISDIR:\n",
    "            raise"
   ]
  },
  {
   "cell_type": "code",
   "execution_count": 233,
   "metadata": {},
   "outputs": [
    {
     "data": {
      "text/plain": [
       "'Article\\n\\nEuropean Journal of Communication\\n26(4) 328 –342\\n© The Author(s) 2011 \\nReprints and permission: sagepub.\\nco.uk/journalsPermissions.nav\\nDOI: 10.1177/0267323111423377\\nejc.sagepub.com\\n\\nDo audiences receive diverse \\nideas from news media? \\nExposure to a variety of \\nnews media and personal \\ncharacteristics as  \\ndeterminants of diversity  \\nas received\\n\\nRichard van der Wurff\\nUniversity of Amsterdam, The Netherlands\\n\\nAbstract\\nMedia policies in Europe traditionally promote a diverse media supply. This article investigates \\nfor the first time under what conditions audience members actually receive diversity. It focuses on \\nthe reception of diverse ideas on European integration from mainstream news media in Ireland \\nand the Netherlands. Results show that exposure to a variety of media outlets predicts to some \\nextent the reception of diverse ideas, especially for citizens with lower education. But interest \\nand  knowledge  are  better  predictors.  This  indicates  that  policies  that  favour  a  diverse  supply \\nare necessary but not sufficient. New ideas are required to stimulate audiences to receive the \\ndiversity that is sent, especially in modern online societies.\\n\\nKeywords\\naudiences, diversity, diversity as received, European integration, news media\\n\\nDiversity is an important indicator for media performance in western democracies. We \\nwant  media  content  to  be  diverse:  to  reflect  different  opinions,  to  cater  for  different \\nneeds, to offer choice, to confront audiences with dissenting beliefs, to stir innovation, to \\nstimulate  tolerance,  and  thus  in  varying  ways  to  contribute  to  social  and  democratic \\ndevelopment. Accordingly, considerable attention is paid in policy and scholarship to the \\nconditions that foster or inhibit a diverse media supply.\\n\\nCorresponding author:\\nRichard van der Wurff, Amsterdam School of Communication Research ASCoR, University of Amsterdam, \\nKloveniersburgwal 48, NL - 1012 CX Amsterdam, The Netherlands. \\nEmail: r.j.w.vanderwurff@uva.nl\\n\\n\\x0cvan der Wurff  \\n\\n329\\n\\nHardly any attention, in contrast, is devoted to the reception of diversity (McQuail, \\n1992; Napoli, 1997; Roessler, 2008). Do audience members actually view, read or hear \\nthe diversity supplied by media? The notion of selective exposure suggests that this is not \\nnecessarily the case. Audiences might rather choose to expose themselves to media con-\\ntent that is congenial to their own preferences and beliefs, especially in modern media \\nenvironments where audiences have ample choices. Yet, diversity that is only sent but \\nnot received cannot have the positive effects attributed to a diverse media supply. More \\nresearch on the conditions that foster or inhibit the reception of diversity is therefore \\nnecessary (Napoli, 1997).\\n\\nTaking up this call, this article presents a first exploratory take on the important but \\nhitherto neglected concept of diversity as received. The study focuses on the reception of \\npolitically diverse ideas on European integration from news media in Ireland and the \\nNetherlands.  Two  explanations  are  contrasted.  In  media  policy  and  media-economic \\nstudies, exposure to a plurality of voices is implicitly or explicitly emphasized as a cru-\\ncial determinant of the reception of diversity. The selective exposure literature, in con-\\ntrast,  identifies  education,  interest  and  knowledge  of  individual  users  as  important \\ndeterminants. Both explanations are empirically investigated, and implications for media \\npolicy are discussed.\\n\\nDeterminants of diversity as received\\nDiversity is ‘one of the foundation principles in communications policy’ (Napoli, 1999: \\n7). It is defined as the heterogeneity of media content on one or more dimensions (McQuail \\nand Van Cuilenburg, 1983). Frequently investigated dimensions include TV programme \\ntype  and  news  topic.  From  a  democratic  perspective,  the  variety  of  political  ideas \\nexpressed in media is of special interest. Such idea diversity (Napoli, 1999) is an impor-\\ntant condition for well-informed decision-making and an expression of a healthy democ-\\nracy (McQuail, 1992). Porto (2007) even identifies idea diversity as the most important \\nfactor enabling citizens to make real-life political choices. McQuail (2005: 88–91), on the \\nother hand, reminds us that diversity may also be interpreted more negatively as contribut-\\ning to fragmentation of audiences and society (also Roessler, 2008). This latter interpreta-\\ntion has gained relevance with the advent of online sources (see later).\\n\\nDiversity defined\\nDiversity is an ambiguous concept. Crucial to this article are two distinctions. The first \\nis between diversity as sent and diversity as received (McQuail, 1992; Napoli, 1997). \\nDiversity as sent refers to the heterogeneity of media content offered by media organiza-\\ntions,  e.g.  in  this  case,  the  variety  of  ideas  on  European  integration  offered  in  news \\nmedia. Diversity as sent reflects the professional and strategic choices of providers to \\nserve audiences with particular types of content. An important question is whether differ-\\nent news media, alone and collectively, provide a diverse account of relevant political \\nideas. Diversity as received, in contrast, refers to the heterogeneity of the content that \\nreaches audiences, e.g. political ideas observed by audiences. Diversity as received fol-\\nlows from choices of audiences to select specific content items from the total volume of \\n\\n\\x0c330 \\n\\nEuropean Journal of Communication 26(4)\\n\\nsupply. The main issue here is whether audiences obtain a diverse selection of ideas from \\nthe news media.\\n\\nA second distinction is between  internal and  external  diversity (McQuail and Van \\nCuilenburg, 1983). Internal diversity is diversity within media outlets. It implies that \\nindividual audience members are inevitably exposed to diverse content options, even if \\nthey use but one media outlet. It fits democratic and inclusive interpretations of diversity, \\naccording to which citizens should receive information from a wide spectrum of antago-\\nnistic sources and media should promote deliberations across political groups. External \\ndiversity  rather  exists  when  outlets  are  internally  homogeneous  and  differ  externally \\nfrom each other. It implies that audiences can choose between differentiated options. It \\ntallies with the idea that partisan media enable societal groups to develop their own ideas \\nand build internal cohesion, but also facilitates audience fragmentation (Hellman, 2001; \\nNapoli, 1999; Porto, 2007).\\n\\nDiversity of news media. Traditional news media, and newspapers and TV in particular, in \\nthe North Atlantic liberal and Western European democratic-corporatist media systems \\ntend to be catch-all media that serve large audiences with varied interests (Hallin and \\nMancini, 2004). Aiming to observe the journalistic norms of truthfulness and ‘hearing \\nboth sides’, they tend towards a mix of internal and external diversity and confront users \\nwith at least a moderate variety of ideas. They search – for good professional and busi-\\nness reasons – a balance between duplicating core news stories and differentiating on \\nother topics and quality of reporting (Roessler, 2008), and most likely do not represent \\nthe full spectrum of mainstream and minority views on social issues (Bennett, 1990). \\nYet,  they  do  ‘serve  as  a  forum  of  limited  discussion  of  conflicting  elite  views  about \\nnumerous political issues’ (Graber, 2003: 154). Traditional mainstream news media are \\nconsequently better sources for diverging political ideas than, for example, personal con-\\nversations that we tend to have with like-minded people (Mutz and Martin, 2001).\\n\\nOnline, we find a larger number of partisan news sources that contribute to external \\ndiversity, next to online variants of internally diverse offline news media (Baum and \\nGroeling, 2008; Johnson et al., 2009). The variety of online services, in combination \\nwith greater user control over content selection, raises concerns that citizens increasingly \\nexpose themselves to like-minded information on topics that they themselves find inter-\\nesting, instead of exposing themselves to diverse information on topics that are important \\nfor society. If this would be the case, the increase in external diversity offered by internet \\nsources would lead to a decline in diversity as received by audiences and contribute to a \\npolarization of society (Bennett and Iyengar, 2008; Graber, 2003).\\n\\nMacro-level analyses of diversity\\nScholars  generally  focus  their  attention  on  the  determinants  of  diversity  as  sent,  but \\nlargely neglect diversity as received. This bias in attention probably reflects the idea, \\ncommon  to  western  democratic  societies,  that  policy-makers  can  legitimately  shape \\n(market) conditions that influence, via their impact on media organizations, diversity as \\nsent, but should not interfere with the content of individual media outlets or free choices \\nof citizens to select particular content (Napoli, 1999).\\n\\n\\x0cvan der Wurff  \\n\\n331\\n\\nIn the US, diversity is inextricably linked to the metaphor of the marketplace of ideas \\n(Napoli, 1999). Here, free competition between a variety of sources and a multitude of \\nmedia owners is expected to contribute to a diverse supply of media content. In the European \\ncontext, the emphasis is more on providing audiences with access to diverse information \\nrather than on the freedom of communicators. Here, a mix of instruments is used, including \\npublic broadcasting and free market policies (Hellman, 2001; Van Cuilenburg, 2007).\\n\\nIrrespective of these differences, both in the US and in Europe the existence of inde-\\npendent outlets is considered an important guarantee for a diverse supply of media content. \\nResearch provides support for this assumption, while recognizing that other factors – \\nconcentration and type of ownership, intensity of competition, dependency on advertis-\\ning  revenues,  government  policies,  the  level  of  pluralism  in  society  –  are  important \\ndeterminants, too (e.g. Iosifides, 1999; Owen and Wildman, 1992; Roessler, 2008; Van \\nder Wurff, 2005).\\n\\nAlso, both in the US and Europe, the supply of diverse media content is considered \\n– explicitly or implicitly – as a precondition if not straightforward determinant of the \\nreception of diversity (McQuail, 1992; Napoli, 1999; Van Cuilenburg, 2007). If media \\nsend a diverse supply of ideas and opinions, audiences can and will make use of it – or \\nso the general assumption seems to be. Yet, remarkably few studies have investigated \\nthis assumption, and only at the macro-level of the aggregated audience, not for indi-\\nvidual audience members.\\n\\nMoreau and Peltier (2004) studied diversity of movies in terms of country of origin. \\nThey found that diversity as received by movie audiences in the US, France, Hungary, \\nMexico, South Korea and the EU was somewhat lower but otherwise very well correlated \\nwith diversity as sent. Napoli (1997) studied TV programme type diversity in the US. He \\nconcludes that ‘audience exposure to different program types appears to be very much a \\nfunction of their availability’ (1997: 70). But in a similar and more extensive longitudinal \\nstudy in the Netherlands, no relationship was found. Programme type diversity received \\nby audiences remained relatively stable in the 1990s, in spite of an increase and subse-\\nquent decline in programme type diversity sent by broadcasters (Van der Wurff, 2004).\\n\\nThe first two macro-level studies support the assumption that diversity as sent enables \\nor contributes to diversity as received, but only for the aggregate audience. It remains \\nunclear whether diversity as sent also contributes to the reception of diversity by indi-\\nvidual  audience  members. The  latter  study  suggests  taking  a  closer  look  at  audience \\npreferences. Does the reception of diversity depend primarily on supply or rather on \\naudiences’ selection of diverse content from available media (also Napoli, 1997)?\\n\\nSelective exposure to diverse media\\nMcQuail assumes diversity as received to be generally lower than diversity as sent ‘as a \\nresult of audience selections in favour of more popular types, formats and items’ (1992: \\n157). Studies at the individual level confirm that audience members that can choose from \\na wide variety of media options, in daily practice tend to consider a narrower subset of \\noptions (Napoli, 1997). Television viewers in the US, for example, that can choose from a \\nplethora of channels, are inclined to restrict their viewing to a limited number of frequently \\nwatched channels and programmes (Kim, 2002; Neuendorf et al., 2001; Webster, 2005).\\n\\n\\x0c332 \\n\\nEuropean Journal of Communication 26(4)\\n\\nOne explanation points at limitations in human information processing capacities that \\ncause people to rely on short-cuts rather than full information when choosing between \\noptions (Heeter, 1985). An alternative explanation is that increases in diversity enable \\nusers to selectively expose themselves to whatever they prefer when they use a medium \\n(Webster, 2005). Increases in media choice enable people who prefer entertainment to \\nspend less time on news and consequently learn less about politics (Prior, 2005). Users \\nprefer news media that share their political predispositions (Stroud, 2008). And users \\ntake advantage of increased online selection opportunities by focusing on a narrower \\nselection of topics (Johnson et al., 2009; Kim, 2009; Tewksbury, 2003).\\n\\nYet, better selection opportunities do not lead to a monomaniacal pursuit of limited \\ninterests and the avoidance of all dissonant ideas. Audiences still have a diversified inter-\\nest, if not an interest in diversity itself (Garrett, 2009; Webster, 2005). Under experimen-\\ntal  conditions,  students  spent  43  percent  of  their  reading  time  on  information  that \\ncountered earlier expressed attitudes (Knobloch-Westerwick and Meng, 2009). Another \\nstudy found that ‘43 percent of conservative Republicans consume at least one liberal \\noutlet’ (Stroud, 2008: 358). Chaffee et al. conclude contently that ‘attention to counter-\\nattitudinal political messages is a fairly commonplace and normal behaviour of politi-\\ncally  involved  citizens,  young  and  old’  (2001:  260). Valentino  et  al.  (2009)  come  to \\nsimilar conclusions. In sum, the available evidence suggests that higher levels of diver-\\nsity as sent enable but do not directly cause audiences to focus on preferred and congen-\\nial content. Instead, audiences tend to be willing to receive at least some diversity.\\n\\nIndividual determinants of the reception of diversity\\nMany  studies  show  that  interest  in  politics,  education  and  knowledge  influence  the \\nextent  to  which  audience  members  comprehend  news  media  and  obtain  information \\nfrom them (e.g. Beaudoin, 2008; Craig et al., 2005; De Vreese and Boomgaarden, 2006; \\nDe Waal and Schoenbach, 2008; Druckman, 2005; Hansen and Benoit, 2007). McQuail \\nsummarizes: ‘On the audience side, the main factors [that determine news comprehen-\\nsion and recall] are likely to be general motivation for following news, previous famili-\\narity with the topics and general educational level’ (McQuail, 2005: 505). It is probable \\nthat these characteristics also influence the reception of different political ideas from \\nnews media\\n\\nStudies  on  selective  exposure  usually  focus  on  other  characteristics,  such  as  the \\nimpact of political orientation on exposure to congenial and counter-attitudinal informa-\\ntion. Yet, some studies show that interest in politics, education and knowledge have a \\npositive effect on the search for both attitude-consistent and counter-attitudinal informa-\\ntion (Chaffee et al., 2001; Garrett, 2009; Knobloch-Westerwick and Meng, 2009). One \\npossible reason is that citizens who are interested in politics might find it useful to know \\nwhat other-minded people think. Recent research emphasizes that people who look for \\nuseful information are more likely to seek out counter-attitudinal information (Hart et al., \\n2009). In addition, well-informed and better-educated people might deliberately aim to \\nprevent selective exposure, so that they can maintain their positive self-image of being \\nreasonable decision-makers (Garrett, 2009). In sum, interest in politics, issue knowledge \\nand education are likely to stimulate the reception of diverse ideas.\\n\\n\\x0cvan der Wurff  \\n\\n333\\n\\nHypotheses\\nA general assumption, shared by media policy-makers and scholars, is that exposure to a \\nvariety of sources increases the likelihood that audiences receive diverse ideas. Only a \\nfew studies have investigated this assumption for aggregated audiences. This study pro-\\nvides a first test at the individual level:\\n\\nH1:  Exposure  to  a  wider  variety  of  news  outlets  has  a  positive  effect  on  the  reception  of \\npolitically diverse ideas by individual audience members.\\n\\nSecond, the literature on selective exposure shows that some individuals are more \\n\\nable or willing, or both, to receive diversity than others. Specifically:\\n\\nH2: Interest in politics, issue knowledge and education have positive effects on the reception of \\npolitically diverse ideas by individual audience members.\\n\\nInteractions\\nFollowing the test of the hypotheses, possible interactions are explored. One possibility \\nis that the same personal characteristics that influence the reception of diversity also \\ninfluence exposure to (a variety of) news media (e.g. Elvestad and Blekesaune, 2008). If \\nthis is the case, personal characteristics would not only have a direct but also, or rather, \\nan indirect effect on the reception of diversity, via exposure to a variety of news media \\nas mediator. In a similar way, McLeod and McDonald (1985) found that education pre-\\ndicts  newspaper  use  and  political  knowledge,  with  exposure  to  newspapers  being  an \\nadditional predictor of political knowledge.\\n\\nAnother interesting possibility is that personal characteristics moderate the impact of \\nexposure to a variety of news media on the reception of diversity. Positive moderator \\neffects would indicate that better-educated, more interested or more knowledgeable peo-\\nple profit more from exposure to a variety of news media – in the sense that they obtain \\nmore diverse ideas – than less educated, interested or knowledgeable respondents. This \\nwould indicate the existence of a diversity gap, similar to a knowledge gap.\\n\\nThe study\\nThis exploratory study focuses on the reception of diverse ideas on European integration \\nfrom mainstream news media in two countries, Ireland and the Netherlands. Data are \\ncollected with a survey. As a first attempt to tap the dependent variable, diversity as \\nreceived, respondents were asked to report to what extent they receive different ideas on \\nEuropean  integration  from  news  media.  This  is  admittedly  a  fairly  straightforward \\napproach. It measures the perception of individual audience members of the diversity \\nthey are confronted with. This measure arguably reflects respondents’ actual information \\noffer, the breadth of ideas they obtain from their news media and their concepts of what \\ndiverging views are. In follow-up studies, more in-depth measures could further differ-\\nentiate between these aspects.\\n\\n\\x0c334 \\n\\nEuropean Journal of Communication 26(4)\\n\\nEuropean integration was considered a good case for analysis because it is an impor-\\ntant and contested political issue – especially since Dutch voters rejected the Constitution \\nof Europe in 2005 and Irish voters the Lisbon Treaty in 2008.\\n\\nSince results of diversity studies often show (unexplained) variation across media \\nsystems (Roessler, 2008), the study was repeated in two countries when the opportunity \\npresented itself. No attempt, however, is to be made to generalize conclusions to other \\ncountries or issues.\\n\\nSurvey\\nData were collected by TNS in Ireland and the Netherlands in December 2008. Samples \\nwere drawn from pools of respondents that are representative of the general population. \\nThe survey was administered online. There were 2497 respondents participating in the \\nstudy, 1457 from Ireland and 1040 from the Netherlands, resulting in response rates of \\n30 percent for Ireland and 65 percent for the Netherlands. The composition of the sam-\\nples is close to census information for the population in both countries, in terms of gen-\\nder, age and education. In addition to the items used for this study, the collaborative \\nsurvey included a series of other items proposed by other scholars.\\n\\nVariables\\nThe dependent variable in the study is diversity as received. It averages the answers to \\ntwo closely related questions (Cronbach’s alpha = .814), namely how frequently respond-\\nents ‘read or hear in the media differing opinions about European integration’ and ‘opin-\\nions  about  European  integration  that  differ  from  your  own  opinion’.  Respondents \\nanswered on five-point Likert scales, running from ‘never’ to ‘very often’.\\n\\nA second series of items asked respondents how frequently they watch, read or listen \\nto different news media. Answer options range from 0 to 7 days per week. The items \\nfocus on mainstream news sources: newspapers and TV news. Exposure to these media \\nis investigated per outlet (i.e. title) – e.g. ‘how many days a week do you watch RTE \\nnews?’ Radio and online news are included as additional generic news sources – e.g. \\n‘how many days a week do you listen to radio news?’ The Irish survey included 17 ques-\\ntions mentioning six TV news and current affairs programmes, nine newspapers (includ-\\ning ‘local newspapers’) and radio and online news. The Dutch survey mentioned six TV \\nnews  and  current  affairs  programmes,  seven  newspapers  (including  ‘freesheets’  and \\n‘regional newspapers’) and again radio and online news, resulting in a total of 15 ques-\\ntions.1 On the basis of these questions, the independent variable variety is defined as the \\ntotal number of different news media outlets (i.e. titles) used at least once a week.\\n\\nA third series of questions measure relevant personal characteristics. Interest in poli-\\ntics is assessed on a four-point scale with a single item (‘How interested would you say \\nyou are in politics?’). Knowledge measures respondents’ factual knowledge of EU affairs \\nby counting the correct answers to a small quiz of 10 questions. Education indicates the \\nhighest level of completed, formal education of respondents, ranging in five steps from \\nprimary education to a university degree.\\n\\n\\x0cvan der Wurff  \\n\\n335\\n\\nAnalysis\\nThe hypotheses are tested with regression analysis. Possible interaction effects between \\nvariety and personal characteristics are explored post-hoc.\\n\\nWhen  testing  the  hypotheses,  differences  in  news  media  use  are  controlled  for. \\nResearch suggests that citizens learn more from newspapers and online news than from \\ntelevision (Beaudoin, 2008; De Waal and Schoenbach, 2008; Druckman, 2005; Hansen \\nand Benoit, 2007), and from public TV news than from commercial TV news or tabloids \\n(Curran et al., 2009; Norris and Sanders, 2003). Second, internally diverse traditional \\nmedia  are  more  likely  to  confront  audiences  with  diverse  ideas  than  selective  online \\nmedia (see above). Third, respondents that use news media more frequently, or that pay \\nin particular more attention to news items on EU politics, are also more likely to receive \\ndifferent ideas, simply because they use more (relevant) news. To control for these dif-\\nferences, six control variables are included in the regressions.\\n\\nBuilding on the media use items mentioned above, the first control variable, overall \\nexposure to public TV news, sums exposure (in days per week) to individual public TV \\nnews programmes. Three other controls analogously estimate overall exposure to com-\\nmercial TV news, quality newspapers and popular newspapers. The fifth control, expo-\\nsure  to  online  news,  counts  how  many  days  a  week  a  respondent  uses  online  news. \\nInterest in EU news is additionally measured on a five-point scale with one item (‘How \\nmuch attention do you pay to news about the European Union?’). In addition, the analy-\\nses are controlled for gender and age.\\n\\nAll analyses are run separately for the Dutch and Irish samples. Although the hypoth-\\neses are predicted to hold for both countries, differences between them prevent the use of \\ncommon parameters in the regressions.\\n\\nPer country, outliers have been reassigned the value of plus or minus 3 SDs from the \\nmean. In 42 cases, means for education were substituted for missing values. All data for \\nthe test of the hypotheses conform to the standard requirements for regression analysis. \\nThis includes that no multicollinearity problems were found.\\n\\nResults\\nIrish and Dutch respondents receive ‘occasionally’ diverse ideas on European integration \\nfrom news media (mean scores on a five-point scale are 3.1 and 2.9, respectively). Specifically, \\n20 percent of the Dutch and 16 percent of the Irish report receiving diversity ‘rarely’ or ‘never’ \\n(scores of 2 and lower); 1 percent of the Dutch and 6 percent of the Irish receive different \\nopinions on European integration ‘often’ or ‘very often’ (scores of 4 and higher).\\n\\nThe media from which respondents occasionally receive diverse ideas are in them-\\nselves varied. There are no indications that the Irish and Dutch are fragmented, let alone \\npolarized, in media use. Dutch respondents on average use a variety of 7.2 different news \\noutlets (or titles) at least once a week. Total weekly news consumption is 29 issues. News \\nconsumption among Irish respondents is slightly higher, averaging a variety of 8.5 out-\\nlets and 34 issues a week. Only 1 percent of respondents uses one news outlet in a week.\\nTV news is in both countries more important than newspapers. Irish (respectively \\nDutch) respondents view on average 8.6 (9.0) episodes of public and 5.8 (5.6) episodes \\n\\n\\x0c336 \\n\\nEuropean Journal of Communication 26(4)\\n\\nof commercial TV news and current affairs programmes per week, additionally read 3.5 \\n(0.9) issues of quality and 7.1 (5.9) issues of popular newspapers and consult online \\nnews media 4.3 (3.7) days per week. Overall, 92 percent of respondents in both countries \\nview the public TV news broadcast at least once a week. The best read Irish newspaper, \\nthe Irish Independent reaches 55 percent of the sample at least once a week; the best read \\nDutch newspaper, De Telegraaf, less than half (25 percent).\\n\\nLooking at personal characteristics, the Irish respondents are somewhat better edu-\\ncated than the Dutch, with 38 percent of the Irish and 29 percent of the Dutch having a \\nhigher education. Irish respondents, too, tend to be somewhat more interested in politics \\n(mean scores are 2.7 and 2.2 on a four-point scale) and in EU news (mean scores are 3.4 \\nand 3.0 on a five-point scale). Yet, the Irish have as much knowledge of EU integration \\nas  the  Dutch  respondents.  Both  samples  give  on  average  not  more  than  4.2  correct \\nanswers on the 10 knowledge questions.\\n\\nPredicting diversity as received. This article started from the assumption, common to diver-\\nsity policies, that a variety of news outlets contributes to the reception of diversity. Find-\\nings suggest that this is the case, but only to some extent. Audience members that use a \\nwider variety of news outlets report receiving higher levels of diversity (see Table 1, \\nModel 1). Hypothesis H1 is thus confirmed.\\n\\nPersonal characteristics predict the reception of diversity better than exposure to a \\nvariety of news media. Consistent with H2, audience members who are more interested \\nin politics or know more about EU integration obtain more frequently diverse ideas on \\nEuropean  integration  from  the  media.  Education,  however,  has  no  direct  relationship \\nwith the reception of diversity.\\n\\nPlease note that exposure to popular newspapers is negatively associated with the \\nreception of diversity in Ireland. Viewing public or commercial TV news, reading quality \\nnewspapers or consulting online media, on the other hand, have no bearing on the recep-\\ntion of diversity. Additional post-hoc analyses show that there are no media outlets that \\nclearly stand out as better or worse sources of diverse ideas – except two titles. Only the \\nEvening Herald and the Irish Daily Mail, both popular newspapers in Ireland, emerge as \\noutlets that are negatively associated with the reception of diversity.\\n\\nInteractions. Next, we explore possible interactions. Results suggest that education moder-\\nates the impact of variety on the reception of diversity negatively (see Model 2 in Table 1). \\nThat means that respondents with a lower education, in particular, receive more diverse \\nideas  when  they  are  exposed  to  a  wider  variety  of  news  media.  No  interactions  exist \\nbetween variety and the other two personal characteristics.\\n\\nMediator effects are not found. Interest in politics is the only personal characteristic \\nthat is positively associated with exposure to a variety of news media (beta is .208 for \\nIreland and .246 for the Netherlands; p < .001).2 The (standardized) indirect effect of \\npolitical interest on the reception of diversity, via exposure to a variety of news media as \\nmediator, however, is very small (.021 for Ireland and .031 for the Netherlands). This is \\nbecause the proposed mediator, exposure to variety of news media, is only weakly related \\nto diversity as received.\\n\\n\\x0cvan der Wurff  \\n\\n337\\n\\nTable 1.  Determinants of diversity-as-received; regression results (betas)\\n\\nModel 1\\n\\nModel 2\\n\\n \\n\\nIreland\\n\\nNetherlands\\n\\nIreland\\n\\nNetherlands\\n\\n   Public TV news\\n   Commercial TV news\\n   Quality newspapers\\n   Popular newspapers\\n   Online news\\nInterest in EU news\\n\\nMedia exposure\\n  Variety\\nPersonal characteristics\\n \\nInterest in politics\\n  Knowledge\\n  Education\\nControls\\n  Exposure to\\n \\n \\n \\n \\n \\n \\n  Age\\n  Gender (male = 1)\\nInteraction effects\\n  Variety × Interest in politics\\n  Variety × Knowledge\\n  Variety × Education\\nN\\nR2\\nAdjusted R2\\n\\n.112*\\n\\n.237**\\n.113**\\n.008\\n\\n-.012\\n-.042\\n.004\\n-.125**\\n.018\\n.132**\\n.074*\\n.016\\n\\n.124*\\n\\n.262**\\n.175**\\n.029\\n\\n-.027\\n-.026\\n-.010\\n-.054\\n.037\\n.159**\\n.030\\n.017\\n\\n1457\\n.179\\n.172\\n\\n1040\\n.274\\n.265\\n\\nNotes: Cell entries are betas. ** p < .001; * p < .01; º p < .05.\\n\\n.099º\\n\\n.246**\\n.110**\\n.018\\n\\n-.002\\n-.036\\n.011\\n-.111*\\n.019\\n.129**\\n.064º\\n.018\\n\\n-.004\\n.040\\n-.120**\\n1457\\n.193\\n.184\\n\\n.126*\\n\\n.259**\\n.175**\\n.031\\n\\n-.028\\n-.030\\n-.005\\n-.058\\n.031\\n.158**\\n.029\\n.022\\n\\n.027\\n-.020\\n-.075*\\n1040\\n.280\\n.269\\n\\nDiscussion\\nThe findings suggest that Irish and Dutch audiences occasionally receive diverse ideas \\non European integration from mainstream news media. How frequently audience mem-\\nbers receive these ideas is related, to some extent, to the variety of media outlets they \\nconsult. But personal characteristics, first of all interest in politics and second, knowl-\\nedge about the EU, are better predictors. These findings resemble those of Craig et al. \\n(2005) and Curran et al. (2009), who found that learning from the news depends more on \\npersonal characteristics (in their cases: respectively knowledge, and gender and educa-\\ntion) than media exposure.\\n\\nThis is an exploratory study. So, the findings are to be interpreted with caution. The \\nstudy is based on cross-sectional data for one issue and two countries. Causal relation-\\nships cannot be inferred, and findings cannot be generalized to other issues or countries.\\nThe measurement of the variables, including the dependent variable, relies on self-\\nreports, which are not as accurate as actual observations. One issue to consider is whether \\nthe findings (e.g. the association between variety of media use and reception of diversity) \\n\\n\\x0c338 \\n\\nEuropean Journal of Communication 26(4)\\n\\nreflect the tendency of respondents to present themselves deliberately or unconsciously \\nin what they regard to be a consistent manner, when they answer survey questions. On \\nthe other hand, however, there are also good theoretical reasons to expect the relation-\\nships that were found, which lends credence to the findings.\\n\\nDiverse audiences\\nThe best predictor of the reception of diversity in the regression analyses is interest in \\npolitics, followed by knowledge. These findings suggest that respondents must be inter-\\nested in news and have some knowledge about the issue at hand, before they can receive \\ndiverse ideas from news media.\\n\\nInterest in politics (but not knowledge or education) is additionally related to the like-\\nlihood that audiences expose themselves to a wider variety of news media. There is, \\nhowever, little empirical support for the supposition that political interest has an indirect \\neffect on the reception of diversity, via exposure to a variety of news media as mediator. \\nThe findings rather suggest that there are two independent relationships. First, audience \\nmembers that are more interested in politics derive diverse ideas from news media more \\nfrequently. Second, the same members use a wider variety of news media.\\n\\nEducation plays a different role. Education does not predict the reception of diversity. \\nInstead,  the  findings  are  consistent  with  a  model  in  which  education  moderates  the \\nimpact of exposure to a variety of news media on the reception of diversity. Specifically, \\nthe findings suggest that the lower the education of respondents, the more the reception \\nof diversity increases when respondents expose themselves to a wider variety of news \\nmedia. Put differently, as far as the reception of diversity is concerned, it seems to matter \\nmore that lower than better educated citizens expose themselves to a variety of news \\noutlets. This is an interesting outcome. Usually more highly educated citizens are found \\nto profit more from media use. This study in contrast suggests that lower educated citi-\\nzens profit from a diverse supply. The underlying explanation may be familiar again: \\nprobably, more highly educated citizens are better trained and able to derive different \\nideas from a small subset of news outlets than lower educated citizens with less devel-\\noped media skills.\\n\\nThe finding that personal characteristics, in different ways, predict the reception of \\ndiversity, suggests a more general conclusion. When investigating diversity, we should \\nnot only pay attention to audiences as receivers (Napoli, 1997), but we should also take \\ninto consideration that the audience is diverse.3 Diverse in terms of its interest in politics, \\nknowledge and education, and probably also diverse in terms of a range of other personal \\ncharacteristics that influence the reception of diversity, such as audience members’ tastes \\nfor diversity, their media skills and the ways in which they search for diverse information \\n(e.g. Heeter, 1985). Further research on these personal characteristics and their interac-\\ntions with media use variables, promises to be a challenging and rewarding way ahead.\\n\\nDiverse news media\\nNews  media  are  routinely  divided  into  quality  and  popular  news  media  from  which \\nrespondents learn more or less about politics. Post-hoc analyses conducted for this study \\n\\n\\x0cvan der Wurff  \\n\\n339\\n\\nshowed that the reception of diversity did not vary across these outlets. On the contrary, \\nall news media, with two popular Irish newspapers as exceptions, contributed in similar \\nways to the reception of diversity. These findings underline three important conclusions. \\nFirst, it is indeed exposure to a variety of news media that is associated with the reception \\nof  diversity,  rather  than  exposure  to  specific  news  outlets.  Second,  both  popular  and \\nquality news media allow citizens to obtain politically diverse ideas on European inte-\\ngration, at least in Ireland and the Netherlands. This suggests that the variety of popular \\nand quality news media may be valued from a diversity point of view, too. Yet, the two \\nIrish exceptions also remind us that news media content, and factors determining edito-\\nrial decisions about what content to provide, remain potentially limiting factors. After \\nall, audiences cannot receive what media do not send.\\n\\nIn future research, it is necessary to explore the role of media outlets further, also by \\nfocusing on different issues and different media systems. Perhaps, there are issues or \\nmedia systems where news media differ more strongly in their contribution to the recep-\\ntion of diversity than in the analysis presented here. Following other comparative stud-\\nies, for example, it is interesting to compare to what extent US and European audiences \\nreceive diverse ideas from their respective news media. Also a comparison of more with \\nless complex issues that give rise to more different or unconventional ideas, could further \\nclarify the impact of media exposure under various conditions. Another important area \\nfor follow-up research is to relate relatively detailed content-analytical measures of idea \\ndiversity as sent explicitly to detailed measurements of ideas obtained and actual and \\nperceived diversity received from news media, to differentiate the impact of media sup-\\nply from the impact of audience selectivity and perception. Finally, it becomes increas-\\ningly important to assess the specific role and contribution of online media.\\n\\nDiverse policies\\nAnticipating new results, the present study raises the question whether existing diversity \\npolicies are adequate, since they emphasize the supply of diversity. Actually, they might \\nbe, as long as audiences continue to show some interest in diversity. Nevertheless, the \\nresults of the present study also indicate that it makes sense to explore whether and how \\nnews media, and by extension media policy, can further stimulate the interest for and \\nreception of diverse ideas by different audiences.\\n\\nOne area of particular interest is the way in which news media present and elaborate \\ndiverse ideas. Empirical studies, for example, suggest that when important beliefs are \\nthreatened, audiences are less inclined to expose themselves to counter-attitudinal infor-\\nmation than when they are searching for factual and accurate information (Hardy et al., \\n2005).  Other  scholars  found  that  processing  counter-attitudinal  information  demands \\ngreater cognitive effort, while congenial information is considered more credible and \\nrewarding (see Johnson et al., 2009). These are but a few indications for the – intuitively \\nappealing – idea that diverse ideas can be made more or less accessible to audiences. A \\nsecond area of interest concerns the way in which different audiences search, approach \\nand deal with diverse ideas. And a third area has to do with the likelihood that public \\nnews media bring news in more accessible ways than commercial news media, because \\npublic media are less forced or inclined to succumb to market pressures and commercial \\n\\n\\x0c340 \\n\\nEuropean Journal of Communication 26(4)\\n\\nconsiderations (see Curran et al., 2009). Combining these fields of interest gives rise to \\nthe challenging question: whether and how public news – on TV, but increasingly also \\nonline – could and should play a more explicit role in providing diverse ideas to a diver-\\nsity of audiences.\\n\\nPutting  more  emphasis  on  the  presentation  of  diverse  ideas  in  various  media  by \\npublic media organizations aligns with discussions on the revised role of journalism in \\nthe online age. Journalists are increasingly expected to make information from diverse \\nsources accessible and to make the journalistic process transparent rather than to tell \\nthe one ‘true’ authoritative news story (Singer, 2010). When the new role of journalists \\nin providing access to diverse ideas ties in with the interest of audiences in diversity \\nand with continued policy support for news media to reach out to audiences, there is \\nample  room  for  optimism  that  diversity  continues  to  be  sent  and  received  by \\naudiences.\\n\\n'"
      ]
     },
     "execution_count": 233,
     "metadata": {},
     "output_type": "execute_result"
    }
   ],
   "source": [
    "sentence = text_id['003835@2011']\n",
    "sentence\n",
    "sentence_1 = sentence.split('\\n\\n', 1)[1]\n",
    "sentence_2 = sentence_1.split('Acknowledgements')[0]\n",
    "sentence_2"
   ]
  },
  {
   "cell_type": "code",
   "execution_count": 234,
   "metadata": {},
   "outputs": [
    {
     "data": {
      "text/plain": [
       "'614244 JOU0010.1177/1464884915614244JournalismRaeijmaekers and Maeseele\\n\\nresearch-article2015\\n\\nArticle\\n\\nIn objectivity we trust? \\nPluralism, consensus,  \\nand ideology in journalism \\nstudies\\n\\nJournalism\\n2017, Vol. 18(6) 647 –663\\n© The Author(s) 2015\\nReprints and permissions:  \\nsagepub.co.uk/journalsPermissions.nav\\nDOI: 10.1177/1464884915614244\\nhttps://doi.org/10.1177/1464884915614244\\njournals.sagepub.com/home/jou\\n\\nDaniëlle Raeijmaekers\\nUniversity of Antwerp, Belgium\\n\\nPieter Maeseele\\nUniversity of Antwerp, Belgium\\n\\nAbstract\\nThis  article  starts  from  the  observation  that  the  concept  of  objectivity,  along  with \\nits twin sentries ‘balance’ and ‘impartiality’, is generally regarded as a cornerstone of \\njournalism and, consequently, of journalism research. The aim of this article is to show \\nthat the analytical ideal of objectivity, instead of enabling, in fact inhibits media pluralism \\nresearch. The first section focuses on unveiling the ideological nature of this ideal by \\nrelating it both socio-historically and analytically to a post-ideological and consensual \\nunderstanding  of  society.  Since  we  find  this  ideal  only  allowing  for  the  evaluation  of \\njournalism within the limits of social consensus (pluralism ‘within the box’), the second \\nsection seeks for alternative analytical concepts to evaluate journalism about and beyond \\nthe limits of social consensus (pluralism ‘outside the box’). To illustrate the difference \\nbetween both approaches, the popular concept of partisan media bias is juxtaposed to \\nthe alternative framework of de/politicization.\\n\\nKeywords\\nConsensus, hegemony, ideology, journalism studies, media pluralism, objectivity\\n\\nCorresponding author:\\nDaniëlle Raeijmaekers, Department of Communication Studies, University of Antwerp, Sint-Jacobstraat 2, \\n2000 Antwerp, Belgium. \\nEmail: danielle.raeijmaekers@uantwerpen.be\\n\\n\\x0c648 \\n\\nJournalism 18(6)\\n\\nIntroduction: In objectivity we trust\\n\\nIf American journalism were a religion, as it has been called from time to time, its supreme \\ndeity would be ‘objectivity’. The high priests of journalism worship ‘objectivity’. (Mindich, \\n1998)\\n\\nAs journalism has turned more professionalized over the last decades, the concept of \\n‘objectivity’  became  significantly  enshrined  within  media  policies,  newsroom  rou-\\ntines, and journalism education.1 The general idea behind the ideal of objectivity is that \\nif journalists depersonalize and rationalize their practices and work according to rou-\\ntines in line with this ideal, they end up with the unbiased truth and a more or less \\nmimetic  representation  of  society.  According  to  Schudson  (2001),  contemporary \\nnotions  of  objectivity  can  be  dated  back  to  the  1920s,  when  American  journalists \\nstarted to see themselves as an occupational community: ‘At this point […] the objec-\\ntivity norm became a fully formulated occupational ideal, part of a professional project \\nor mission’ (pp. 161–162). Moreover, it ‘seemed a natural and progressive ideology for \\nan aspiring occupational group at a moment when science was good, efficiency was \\ncherished, and increasingly prominent elites judged partisanship a vestige of the tribal \\n19th century’ (Schudson, 2001: 162–163). Almost a century later, the value of objectiv-\\nity is regarded as a cornerstone of journalism and ‘with no doubt the most sacred belief \\nheld among journalists worldwide’ (Nordenstreng, 1995: 115). It appears in relation \\nwith journalistic aims for facts, truth, and reality, which Zelizer (2004) calls the ‘jour-\\nnalistic  god-terms’.  These  god-terms  guide  journalists  in  dealing  with  a  number  of \\nissues  and,  most  importantly,  in  how  to  arrive  at  an  unbiased,  socially  diverse,  and \\npluralistic public discourse. The chorus of pleas for diversity and pluralism in journal-\\nism is louder and better orchestrated than ever before, and journalists today regard both \\nas inevitable and desirable features of modern democracy (Deuze, 2005). In that sense, \\nthe ideal of objectivity sets a number of ethical guidelines, like ‘getting both sides of \\nthe story’ and ‘not favoring one side over the other’. These two guidelines are often \\noperationalized into two essential components of objectivity: ‘balance’ and ‘impartial-\\nity’ (or ‘neutrality’). Given the widespread use of objectivity as a journalistic guide-\\nline, it is ‘not surprisingly then, academics have also adopted bias and objectivity as \\norganizing concepts in many studies of journalism’ (Hackett, 1984: 230). Especially \\nregarding pluralism and diversity, objectivity has become a cornerstone of studies on \\njournalism as well: ‘Many critics of the media assume that there is a perfectly objective \\nor fair way to represent each event in the world’ (Schudson, 2011: 27). Concerned with \\nthe extent to which journalistic representations mirror social diversity and pluralism, \\nthe primary objective of studies on objectivity is to compare the features of news out-\\nput with concomitant features in reality (Van Zoonen, 1994).\\n\\nContrary to these popular assumptions however, the aim of this article is to show that \\nanalytical  ideals  of  objectivity,  balance,  and  impartiality,  instead  of  enabling,  in  fact \\ninhibit media pluralism research. Drawing from a diverse and disparate literature, we \\nwill demonstrate how the ideal of objectivity not only reflects and shapes a particular \\nassumed social consensus (on specific socio-political issues) but also incorporates a gen-\\nuine belief in social consensus in itself (as an ideological ideal). In this way, this article \\nmanifests the consequent limits of objectivity as an analytical concept.2\\n\\n\\x0cRaeijmaekers and Maeseele \\n\\n649\\n\\nThe first section of this article is dedicated to unveiling the ideological nature of the \\nideal of objectivity. Initially, we ‘zoom out’ by looking at the socio-historical context in \\nwhich  this  ideal  gained  prominence.  In  doing  so,  we  observe  a  recurrent  association \\nbetween  its  popularity  in  media  and  journalism  studies  on  one  hand  and  the  broader \\nbelief  in  a  post-ideological  and  consensual  understanding  of  society  on  the  other. \\nContrarily, the notion is found to be criticized when ideology is ‘rediscovered’ and social \\nconsensus is interpreted as the product of hegemony. This observation is based on an \\nanalysis which includes the end-of-ideology thesis of both the present conjuncture (start-\\ning with the fall of the Berlin Wall in 1989) and the 1950s and 1960s. Hence, the post-\\nideological thesis as such is found to accompany objectivity-driven journalism studies, \\nregardless of the political project it entails (i.e. social democracy or neoliberalism).\\n\\nSubsequently,  we  ‘zoom  in’  by  looking  at  the  terminology  of  this  ideal  and,  more \\nspecifically, its counterparts ‘balance’ and ‘impartiality’. We argue how these concepts \\nare  grounded  in  an  understanding  of  society  as  post-ideological  and  consensual  and, \\ntherefore, as characterized by hegemony and exclusion. The second section of the article \\nmakes the contribution of formulating an alternative vocabulary that does enable media \\npluralism research beyond the limits of this ideal. Since the use of objectivity as an ana-\\nlytical ideal only allows for journalism – and its evaluation – within the limits of social \\nconsensus (pluralism ‘within the box’), it is argued how alternative analytical concepts \\nneed to allow for the evaluation of journalism about and beyond the limits of social con-\\nsensus (pluralism ‘outside the box’). In other words, we need to move from a conceptu-\\nalization that premises social consensus to an approach that acknowledges ideological \\ncontestation. To illustrate the difference between both approaches to pluralism and to \\nprovide a clear-cut example of the latter, the popular analytical concept of partisan media \\nbias is juxtaposed to the alternative framework of de/politicization.\\n\\nBefore starting our argument, it is important to emphasize that our understanding of \\nideology does not lean toward what Thompson (1990) has called the ‘critical’ concep-\\ntions (e.g. classical Marxist interpretations), but toward the more ‘neutral’ conceptions \\n(e.g. post-foundationalist interpretations). The former interpret ideology in terms of a \\ndistortion of the truth, aligned with the interests of the dominant groups in society. In this \\ncase, ideology is always misleading, illusory, or one-sided. We, however, find ourselves \\namong the ‘neutral’ conceptions, which state that there is no such thing as absolute truth \\nand believe that any representation of the world is always contingent. In that case, ideol-\\nogy is inherent to making sense of the world and to the construction of social identities \\nin terms of ‘insiders’ and ‘outsiders’ (e.g. Howarth, 2000; Jørgensen and Phillips, 2002). \\nMoreover, it is not only used by dominant groups in their defense of the status quo but \\nalso necessary to subordinate groups in their struggle against the social order (Thompson, \\n1990). Ideological constructions only become problematic when they are no longer rec-\\nognized  as  such  but  are  naturalized  as  taken-for-granted  truths.  Resultantly,  they  are \\nshielded from democratic discussion and contestation.\\n\\nThe ideological nature of objectivity\\nIn this first section, we aim to show how the ideal of objectivity is linked to ideological \\nassumptions about society and media. To this end, we follow a twofold approach. We \\n\\n\\x0c650 \\n\\nJournalism 18(6)\\n\\nstart by zooming out and investigating the relation between the prominence of this ideal \\nin journalism studies and specific socio-historical shifts, before zooming in and scruti-\\nnizing its terminology. Both approaches demonstrate that the ideal of objectivity is rooted \\nwithin a particular worldview.\\n\\nSocio-historical context: The popularity of objectivity\\nInterestingly, the ideal of objectivity has been criticized most substantively in the 1970s \\nand 1980s (Hackett, 1984; Hall et al., 1978; Hartley, 1982; Van den Berg and Van der \\nVeer, 1986; Verstraeten, 1980). In that sense, it is relevant to look at the broader socio-\\nhistorical context in which this ideal has either prospered or been criticized. Hall (1982), \\nfor instance, was the first to interpret a shift from mainstream to critical media studies in \\nthe 1970s as part of a larger societal shift from a belief in ‘the end of ideology’ to the \\n‘rediscovery of ideology’ (p. 59).\\n\\nThe end-of-ideology thesis arose in the 1950s and 1960s, with a chorus of voices in \\nEurope and the United States (e.g. Bell, 1968 [1960]; Lipset, 1968 [1960]) proclaiming \\nand celebrating the intellectual de-vitalization of ideology in the organization of society \\n(Jacoby, 1999). According to Waxman (1968: 5), the theorists who supported this thesis \\nheld two basic premises: the absence of ideological politics in modern industrial society \\nand a positive value-judgment about this reality. More specifically, they stated that the \\nold passions of Left and Right were spent and had lost their meaning in favor of a con-\\nsensus on advanced capitalism, in the appearance of the Welfare State. The following \\nquote by one of its most well-known spokesmen illustrates how this thesis was exactly \\ninterpreted in 1960:\\n\\nIn  the  Western  world,  therefore,  there  is  today  a  rough  consensus  among  intellectuals  on \\npolitical issues: the acceptance of a Welfare State; the desirability of decentralized power; a \\nsystem of mixed economy and of political pluralism. In that sense, too, the ideological age has \\nended. (Bell, 1968 [1960]: 99)\\n\\nThis post-ideological understanding of society was backed by the credentials of social \\nscience, and vice versa. With no fundamental conflicts of value left, studies of society \\ncould now fully pursue the aspiration of objectivity and being pragmatic. Scholars were \\nfound to take a positivist stance, assuming the existence of an independent reality which \\ncan be accessed through the method of scientific enquiry. They preferred ‘how to’ ques-\\ntions – questions of quantification – over value questions – the so-called soft questions \\n(Novak, 1968). According to Hall (1982: 61), such a positivist social scientific model put \\nforward as a starting point for journalism studies the idea of media as non-ideological \\nand their messages as empty linguistic constructs. Indeed, influenced by classic liberal \\ntheory and the idea of media as the Fourth estate, a new academic orthodoxy arose which \\nstated that post-war news media had only very limited power (Curran, 2002). Resultantly, \\n‘the methods of coding and processing a vast corpus of messages in an objective and \\nempirically-verifiable  way  (content  analysis)  were  vastly  sophisticated  and  refined’. \\nAcademics  focused  first  and  foremost  on  manifest  journalistic  content.  On  the  other \\nhand,  ‘conceptually,  the  media  message  as  a  symbolic  sign  vehicle  or  a  structured \\n\\n\\x0cRaeijmaekers and Maeseele \\n\\n651\\n\\ndiscourse,  with  its  own  internal  structuration  and  complexity,  remained  theoretically \\nwholly undeveloped’ (Hall, 1982: 61).\\n\\nHowever, the end-of-ideology thesis took a beating at the end of the 1960s and, most \\nprominently, in the 1970s and 1980s (Jacoby, 1999). These were decades that seemed to \\nbe characterized by the proliferation of ideologies – civil rights movements, black power, \\nfeminism, and so on – under the label of a New Left: ‘The existence of a “New Left” \\nstruggling with the intellectual and organizational problems of non-revolutionary radi-\\ncalism indicates that ideology has not ended’ (Haber, 1968: 195). Consequently, the for-\\nmer social consensus – on the Welfare State – was no longer treated as a reality, but as \\nthe product of hegemony (Haber, 1968; Laclau and Mouffe, 1985): ‘A rosier picture was \\nnever painted. And, perhaps, neither a more misleading one’ (Hodges, 1968 [1967]: 373). \\nOver the years, the ideological nature of the social consensus on the Welfare State was \\nmore and more recognized. Or, as Hall (1982) describes it,\\n\\n[Social order was no longer] expressively revealed in the spontaneous ‘agreement to agree on \\nfundamentals’  of  the  vast  majority  […].  Social  order  now  looked  like  a  rather  different \\nproposition. It entailed the enforcement of social, political and legal discipline. It was articulated \\nto that what existed: to the given dispositions of class, power and authority: to the established \\ninstitutions of society. This recognition radically problematized the whole notion of ‘consensus’. \\n(p. 63)\\n\\nIn these times of the ‘rediscovery of ideology’, the field of journalism studies changed \\nas well. No longer were news media believed to be simply reflective mirrors of an already \\nachieved consensus, but instead they were considered to reproduce those very definitions \\nof the situation which favored and legitimated the existing structure of things. Resultantly, \\n‘a whole new conception of the symbolic practices through which this process of signi-\\nfication  was  sustained  intervened  in  the  innocent  garden  of  “content  analysis”’  (Hall, \\n1982: 64). Now, the message had to be analyzed, ‘not in terms of its manifest “message,” \\nbut in terms of its ideological structuration’ (Hall, 1982: 64). In that sense, a positivist \\nstance  was  left  in  favor  of  a  constructivist  approach  which  was  oriented  toward  the \\nencompassing role of ideology in fundamentally shaping news content, values and prac-\\ntices3 (Van Dijk, 2009). Consequently, the question was no longer if social consensus \\nwas reflected, but how and why. In that sense, ‘the utility of bias and objectivity as con-\\nceptual tools in the analysis of the media’s ideological functioning [was] increasingly \\ncalled into question’ (Hacket, 1984: 230). Although the question of media objectivity \\ncontinued to inspire research and debate, media scholars were increasingly drawing on \\nterms such as ‘hegemony’ and ‘common sense’, which were reflective of the ‘Gramsci \\nboom’ in social science and journalism studies (Sassoon, 1988). In sum, the media cri-\\ntique of the 1970s and 1980s on the concept of objectivity can be understood as part of a \\nlarger social paradigm shift from a ‘neutral’ post-ideological understanding of society to \\nthe questioning of social consensus and the rediscovery of ideology.\\n\\nInterestingly, a similar social paradigm shift has taken place during the most recent \\ndecades. Since the fall of the Berlin Wall in 1989, the end-of-ideology thesis has revived \\n(Jacoby, 1999), although this time not in the appearance of a social-democratic consen-\\nsus  but  as  a  neoliberal  one.  For  many,  this  event  symbolized  the  ultimate  triumph  of \\n\\n\\x0c652 \\n\\nJournalism 18(6)\\n\\nWestern  capitalism  over  Eastern  communism.  For  instance,  it  inspired  Fukuyama  to \\nwrite  his  much  debated  article  Have  we  reached  the  end  of  history?  (1989),  which \\nresulted in his (in)famous book The End of History and the Last Man (1992). In both \\nwritings, Fukuyama claims the exhaustion of viable systematic alternatives to Western \\nliberalism. Therefore, the fall of the Berlin Wall ‘is not just the end of the Cold War […], \\nbut the end of history as such: that is, the end point of mankind’s ideological evolution \\nand the universalization of Western liberal democracy as the final form of human gov-\\nernment’ (Fukuyama, 1989: 2). According to Fukuyama, and many others besides him, \\nWestern societies have again overcome fundamental ideological left–right conflicts and \\nhave found a new social consensus in the neoliberal project, symbolized by Margaret \\nThatcher’s well-known ‘There is no alternative’ slogan. As ideology had no more role to \\nplay, conflicts could be resolved in a rational way, either by the market or by experts. \\nRemarkably,  despite  youth  protest  movements  such  as  the  so-called  antiglobalization \\nmovement in the late 1990s, or the Occupy and Indignados movements a decade later, \\nthe assumptions of neoliberalism have remained largely undisputed in mainstream public \\ndiscourse in the West.\\n\\nNonetheless, in academia, a number of critical scholars – labeled as difference demo-\\ncrats (e.g. Young, 1996), radical democrats (e.g. Honig, 1993), agonistic democrats (e.g. \\nMouffe, 2005, 2013), and so on – have been found to identify and criticize this (neolib-\\neral) consensus as an ideological and hegemonic practice. They claim that what is hap-\\npening  today  is  not  the  disappearance  of  ideological  conflict  –  that  is,  the  arrival  of \\npublic consensus – but the rationalization and moralization of conflict in liberal demo-\\ncratic societies. In place of a struggle between ‘right and left’, we are faced with a strug-\\ngle  between  ‘right  and  wrong’,  turning  anyone  who  disagrees  with  the  neoliberal \\nconsensus into a fundamentalist, traditionalist, or blind radical (Mouffe, 2005). In that \\nsense, they argue that every consensus is always at least partially the result of ideological \\ndomination and exclusion (Dahlberg, 2007a).\\n\\nHowever, within the fields of media and journalism studies, and with regard to the \\nconcept of objectivity more specifically, the recent and ongoing ‘rediscovery of ideol-\\nogy’ has not yet had a major impact. In this regard, a recent paper speculates4 about why \\n‘ideology critique of the sort Hall advocated all but disappeared’, without any signs of \\nrevival despite the present conjuncture with ‘new heights of depredation in the neoliberal \\norder’ (Downey et al., 2014: 2). In line with a general continuing belief in social consen-\\nsus, social science continues to adopt a positivistic scholarly paradigm, relying on notions \\nof truth, fact, and objectivity (Jones, 2013). Regarding journalism studies on pluralism, \\nthis paradigm again underlies the mainstream approach of content analysis, which is not \\nonly primarily descriptive and characterized by its supposed systematic, scientific objec-\\ntivity but also mainly concerned with paying attention to manifest content and with ask-\\ning  quantitative  questions  about  how  far  journalistic  representations  mirror  social \\nactuality (Taylor and Willis, 1999).\\n\\nAnalytical concepts: the terminology of objectivity\\nThe influence of a post-ideological worldview on the popularity of the ideal of objec-\\ntivity  has  already  been  suggested  by  previous  academics,  like  Hall.  However,  this \\n\\n\\x0cRaeijmaekers and Maeseele \\n\\n653\\n\\narticle aims to take the argument one step further by arguing how a post-ideological \\nworldview – with a deep belief in social consensus – also resides within the terminol-\\nogy of the objectivity norm.\\n\\nBalance and impartiality are generally considered as the central components of this \\nideal (Entman, 1989; Hacket, 1984; Verstraeten, 1980; Westerståhl, 19835 in Carpentier, \\n2005). Respectively, the concepts refer to processes of selection and processes of inter-\\npretation, to what/who is covered and the character of that coverage. The balance norm \\nrefers to an equal – or inclusive, fair, harmonious – coverage of different identities and \\nconcerns in society: ‘Balance requires that reports present the views of legitimate spokes-\\npersons of the conflicting sides in any significant dispute, and provide both sides with \\nroughly equivalent attention’ (Entman, 1989: 30). The opponent of balance, that is, selec-\\ntion bias, then refers to a distorted sample of reality. For example, Lin et al. (2011) state \\nthat ‘regardless of a positive or negative stance towards an entity, an imbalanced quantity \\nin coverage is itself a form of bias’ (p. 4). By making balance a norm for objective jour-\\nnalistic coverage, the underlying assumption then is that society – as ultimate benchmark \\nfor a mimetic media representation – is balanced as well. A society that is relatively equal \\nand harmonious is exactly the sort of society that the post-ideological thesis proclaims: \\n‘[it] represents society as if there are no major cultural or economic breaks, no major \\nconflicts  of  interests  between  classes  and  groups;  whatever  disagreements  exist,  it  is \\nsaid,  there  are  legitimate  and  institutionalized  means  for  expressing  and  reconciling \\nthem’ (Hall et al., 1978: 55). Thus, it is believed that although society is characterized by \\ncompetition and conflict, a harmonious society is possible because all parties are consid-\\nered to be reasonable. The balance norm aims for this reasonable harmony and therefore \\nrelates to a broader basic framework of agreement or consensus. Indeed, ‘[t]he bread and \\nbutter of news is conflict, violence, rivalry and disagreement. But for all these negatives \\nto be newsworthy, a prior assumption of the “underlying” consensus to which they are a \\nthreat must be at work’ (Hartley, 1982: 83). In other words, while the bread and butter of \\nnews might be conflict, its basic ingredient is consensus. In sum, by starting from a rep-\\nresentation of society as if there are no major insurmountable conflicts of interest, the \\nnotion of balance premises a relatively harmonious and consensual society.\\n\\nSecond, the notion of impartiality refers to a detached or factual dealing with contrast-\\ning claims, frames, interpretations, and problem definitions. This means that journalists \\nrefrain from ideological or emotional judgment or value-laden reporting and only use \\nfacts and rational arguments to build their story (Entman, 1989; Schudson, 2001). It is \\ncontrasted with the notion of presentation bias, which refers to a distorted view of reality. \\nFor example, Gentzkow and Shapiro (2006) argue that in essence every news article is \\nbased on the same set of underlying facts, ‘yet by selective omission, choice of words, \\nand varying credibility ascribed to the primary source, each conveys a radically different \\nimpression of what actually happened’ (p. 281). Again, such an idealization of impartial \\njournalistic coverage reflects a post-ideological view of society, in which detached pro-\\ncedures and rational debate are essential for social consensus. For people to agree upon \\nsocial decisions, they have to move beyond passions and emotions. Either conflicting \\ninterests and values are reconciled by experts through technical knowledge and impartial \\nprocedures (Beck, 1992; Giddens, 1994) or by citizens who engage in rational debate \\nover common problems, resulting in a critically informed public opinion that can guide \\n\\n\\x0c654 \\n\\nJournalism 18(6)\\n\\ndecision-makers in reaching consensus (Benhabib, 1996; Habermas, 1996). Such post-\\nideological ideals of resolving conflicts in a rational way reside within the ideal function-\\ning of news media and the benchmark of neutral coverage. Journalism – as ‘mirror’ of \\nsocial debate or as ‘public forum’ for social debate – is expected to adapt to this kind  \\nof impartial discourse in order to allow for further social consensus. In sum, the concepts \\nof  balance  and  impartiality  clearly  reflect  the  condition  of  a  relative  social  equality \\nbetween individuals and groups (and between and within regions), which implies that \\nroughly similar material and immaterial opportunities and means are enjoyed by each \\nand every individual.\\n\\nHowever, critical media scholars, both in the 1970s–1980s and more recently, have \\npointed at the ideological implications of blindly adopting the concepts of objectivity \\n(e.g.  Carpentier  and  Cammaerts,  2006;  Dahlberg,  2005,  2007a;  Hackett,  1984;  Hall \\net al., 1978; Hartley, 1982; Taylor and Willis, 1999; Van den Berg and Van der Veer, \\n1986; Verstraeten, 1980). First, these authors argue how the consensual logic of balance \\nand impartiality is applied in a context of power asymmetries and structural inequalities, \\nwhich is hardly ever adequately recognized by journalists and scholars who use the con-\\ncepts. Second, these latter also neglect the fact that all framing of meaning – including \\nwhat it means to be objective, balanced, or impartial – necessarily creates and reproduces \\nexclusion:\\n\\nAs  a  discourse,  both  social  scientists  and  journalists  aren’t  just  directing  inquires.  They \\nontologically define what constitutes the objects of study (and what doesn’t), how these objects \\nwill be studied (and how not), what it means to know them (or not), and what will be seen as \\nvaluable (and what will not). (Jones, 2013: 6)\\n\\nBalance and impartiality cannot be regarded as ‘neutral’ or ‘universal’ concepts since \\nthey are interpreted in terms of an assumed consensus about which identities and con-\\ncerns are relevant or acceptable to the public interest. These norms imply a construction \\nof the news in terms of dominant groups and beliefs, excluding those that are ‘outside’ \\nthe established social consensus:\\n\\nIn other words, it involves a struggle for cultural domination, for hegemony. This struggle leads \\nto  a  differentiation  between  the  dominant  discourses  that  achieve  authoritative  status  and \\nsubordinate  discourses  that  are  marginalized  or  even  silenced  […].  So  consensus  over  the \\nboundaries  of  discourse,  and  any  consensus  resulting  from  deliberations  within  these \\nboundaries,  is  always  intertwined  with  asymmetrical  power  relations  and  a  struggle  for \\ndomination. (Dalhberg, 2007a: 835)\\n\\nIn that sense, balance and impartiality, as counterparts of the widely adopted notion of \\nobjectivity,  create  and  reproduce  particular  inside/outside  assumptions:  the  former \\nregarding which identities and concerns are legitimate/illegitimate to participate in social \\ndebates, the latter regarding which forms of communication are legitimate/illegitimate to \\npersuade others of those positions. Indeed, the balance norm refers to giving space to \\nvarious sides of a debate as long as they are reasonable. Inevitably, the identification of \\n‘reasonable’ positions also implies the identification of ‘extreme’ positions: ‘Groups out-\\nside  the  consensus  are  seen  as  deviant  and  marginal,  be  they  skinheads  or  strikers’ \\n(Hartley, 1982: 83). However, this naming of one position as ‘irrational’ or ‘extreme’ and \\n\\n\\x0cRaeijmaekers and Maeseele \\n\\n655\\n\\nanother as ‘reasonable’ or ‘neutral’ is highly ideological in that it promotes the status quo \\ndefinition of what is irrational or extreme and what is reasonable and neutral (Dahlberg, \\n2007b). Similarly, the impartiality norm favors a particular ‘legitimate’ form of commu-\\nnication, namely, ‘one that encourages representational accuracy, logical coherence, and \\na dispassionate contestation of opinion’ (Dahlberg, 2005: 113). In essence, this comes \\ndown to Western high-culture masculine communication (Young, 1996). Consequently, \\nparticipants whose naturalized modes of communication are closer to what is deemed \\nlegitimate will be advantaged over those who hold other styles of communication, the \\nso-called tittle-tattle in the margins or passionate individual expressions without much \\nvalue (Cammaerts, 2009; Dahlberg, 2007a): ‘The reasonableness can be used to exclude \\nthe “irrational” (for example, “emotional” women or the “loony left”), producing a “rea-\\nson-based” debate that reaches conclusions that are conveniently congenial to “civilized” \\npeople’  (Curran,  2002:  237).  In  that  way,  a  frontier  is  drawn  between  legitimate  and \\nillegitimate forms of discourse, thereby excluding particular worldviews. So, also the \\nimpartiality norm is considered to be highly ideological.\\n\\nIn  conclusion,  the  terminology  of  objectivity  both  reflects  and  shapes  an  assumed \\nsocial consensus. Or as Fowler (1991) expresses it, ‘from a broader perspective, [news] \\nreflects, and in return shapes, the prevailing values of a society in a particular historical \\ncontext’ (p. 222).\\n\\nToward an alternative analytical vocabulary\\nBy now, we have demonstrated that the notion of objectivity is rooted within a paradigm \\nof social consensus, both socio-historically and analytically. Thus, the analysis of news \\nmedia  is  taking  place  within  a  broader  basic  framework  of  consensus  and  within  the \\nconventional  understandings6  of  society:  ‘It  is  not  the  vast  pluralistic  range  of  voices \\nwhich the media are sometimes held to represent, but a range within certain distinct ideo-\\nlogical limits’ (Hall et al., 1978: 59). In that sense, we can state that the ideal of objectiv-\\nity  only  allows  for  evaluating  pluralism  ‘within  the  box’,  that  is,  within  the  limits  of \\nexisting social consensus. We start this paragraph by illustrating this using the popular \\nconcept  of  partisan  media  bias.  Subsequently,  we  begin  with  a  search  for  alternative \\nanalytical  concepts  that  allow  to  evaluate  journalism  about  and  beyond  the  limits  of \\nsocial  consensus  (i.e.  pluralism  ‘outside  the  box’).  Since  this  implies  moving  from  a \\nconceptualization that premises social consensus to an approach that acknowledges ideo-\\nlogical contestation, both in terms of its scope and form, the framework of de/politiciza-\\ntion is put forward as a potential alternative.\\n\\nFrom pluralism ‘within the box’ ...\\nAlthough journalism research these days primarily starts from a post-ideological under-\\nstanding of society, the notion of ideology is not absent in positivist empirical studies. \\nMostly, it is analyzed as ‘ideological bias’ or ‘partisan bias’ since ‘[i]t is partisan bias in \\nthe news which has attracted the most public interest and attention’ (D’Alessio and Allen, \\n2000: 134). The partisan media bias approach is characterized by quantitative content \\nanalyses into the extent of unbalanced and partisan political coverage, which is opera-\\ntionalized as the varying levels of attention for specific politicians, political parties, or \\n\\n\\x0c656 \\n\\nJournalism 18(6)\\n\\npolicy positions in specific news outlets (Groeling, 2013; Groseclose and Milyo, 2005). \\nHowever, such an approach allows media researchers to only gain insights about plural-\\nism ‘within the box’. To start with, the partisan bias approach adopts a limited under-\\nstanding  of  ‘ideology’:  it  explicitly  focuses  on  politicians,  political  parties,  and \\nexclusively  politically  driven  issues,  that  is,  the  field  of  institutional  politics.  Quite \\nrevealing in this regard is the following motivation by D’Alessio and Allen (2000) in a \\npaper reporting on a meta-analysis of studies on partisan media bias: ‘Unlike opinions on \\nthe nature of the economy, where it would appear that there is a large preference among \\nAmericans  for  capitalism  rather  than  communism,  opinions  on  political  matters  are \\nwidely divergent’ (p. 134). Not only does this imply that the economy is excluded as a \\n‘political matter’ but also that the benchmark for evaluating the level of ideological plu-\\nralism in news coverage is dependent on the ideological divergence between political \\nparties. Moreover, this latter category is generally restricted to those parties with most \\nparliamentary seats. For example, in American studies on partisan media bias, the classic \\naim that news media should strictly reflect the outcome of social consensus can be found \\nin the implicit or explicit definition of fair coverage as the equal treatment of Republicans \\nand Democrats, which comes down to a 50/50 coverage or a coverage that is in line with \\nthe number of seats each party possesses:\\n\\nAlthough no one expects there to be no biased statements in 100% of reports, a 50-50 breakdown \\nof them would be indicative of a deliberate attempt to achieve balance, and thus deviations from \\nthe 50-50 pattern would arguably be an indication of bias of some kind. (Groeling, 2013: 143)\\n\\nClearly, the notion of partisan bias is rooted within a framework of objectivity and social \\nconsensus: pluralism is not interpreted as a matter of conflicting values, norms, and politi-\\ncal preferences vis-a-vis a given social and political order, but about the disagreements \\nwhich are allowed within that given social and political order. Or, to put it simply, about \\nthose issues that Democrats and Republicans choose to disagree about. In other words, \\nsince the analytical concept of partisan media bias excludes those matters where there is \\nideological  convergence  between  both  parties  (say,  global  neoliberal  capitalism  and \\nAmerican imperialism), it only allows for evaluating pluralism ‘within the box’, that is, \\nwithin the limits of existing social consensus. In the end, such an approach to media plural-\\nism does not appropriately take into account the democratic role of news media (definitely \\nnot in times of global economic and geopolitical crisis, like we are experiencing since the \\nstart of the financial–economic crisis in 2008). It does not allow for a genuine democratic \\ndebate among citizens as ideological issues are monopolized by politics and political par-\\nties and framed within the status quo. Therefore, it is imperative to evaluate the level of \\nmedia debate using a conceptual framework that allows for pluralism ‘outside the box’.\\n\\n… to pluralism ‘outside the box’\\nThe objectivity benchmark should not only be challenged because of the ideological limits \\nit sets, but foremost because of the fact that these limits are not perceived as such. Rules of \\nobjectivity reflect and shape an assumed social consensus about a hegemonic ideological \\nproject, while simultaneously disguising or camouflaging its ideological character. This is \\nmost  problematic  since  ideology  is  at  its  strongest  when  it  is  no  longer  defined  and \\n\\n\\x0cRaeijmaekers and Maeseele \\n\\n657\\n\\nperceived as such, when its assumptions and preferences appear evident and logical, that is, \\nhegemonic or depoliticized (Atton, 2002; Maeseele, 2013). Therefore, ‘no longer objectiv-\\nity can be taken as the opposite of ideology in the media, if indeed the forms and rhetoric \\nof objectivity help to reproduce dominant political frameworks’ (Hackett, 1984: 253). In \\nthat sense, we are urgently in need of news analysis about and beyond the limits of objec-\\ntivity and social consensus, that is, for pluralism ‘outside the box’. Clearly, such a shift in \\njournalism  studies  requires  breaking  with  traditional  assumptions  and  approaches.  As \\nDowney et al. (2014) argue, ‘[…] if ideology critique is going to have any purchase, if it is \\nto change hearts and minds in the field, then a more fully worked-out theoretical and meth-\\nodological approach will be necessary’ (p. 6). Therefore, we choose to make this exercise \\nboth regarding specific assumptions about society (normative assumptions) and how these \\nare operationalized toward journalism (analytical concepts).\\n\\nFirst,  regarding  normative  assumptions,  we  have  shown  that  the  notion  of  media \\nobjectivity is rooted within a belief in ideological harmony – ‘the end of ideology’ – and \\nthe ideal of social consensus. However, such an understanding of society does not recog-\\nnize the irrefutable presence of the ideological limits to a consensus and, more specifi-\\ncally, the involved mechanisms of exclusion: ‘There is always an “outside” to discourse, \\na set of meanings, practices, identities and social relations, which is defined by exclusion \\nand against which discursive boundaries are drawn’ (Dahlberg, 2007a: 835). Obviously, \\nthe recognition of such an ‘outside’ is essential to arrive at and evaluate pluralism ‘out-\\nside the box’. If we accept that society is inevitably marked by conflict and asymmetries \\nof power and that every social order is the result of hegemonic practices, dominance, and \\nexclusion,  then  this  implies  that  we  need  to  start  from  a  framework  with  ideological \\nhegemony (instead of harmony) and contestation (instead of consensus) as basic con-\\ncepts. Following such an interpretation, consensus is perceived as the temporary result of \\na provisional hegemony, which, from a perspective of pluralist democratic politics, is – \\nand must be – continuously questioned (Mouffe, 2005). Contestation,7 on the other hand, \\nrefers  to  how  we  can  only  speak  of  pluralism  when  there  is  a  confrontation  between \\nclearly differentiated ideological positions.\\n\\nSecond, regarding analytical concepts, it is necessary to replace the widely adopted \\nbenchmark of objectivity with the identification of ideology in order to reflect on media \\npluralism ‘outside the box’: ‘In any theory which seeks to explain both the monopoly of \\npower and the diffusion of consent, the question of the place and role of ideology becomes \\nabsolutely pivotal’ (Hall, 1982: 86). Journalism should not be evaluated on the extent it \\nleaves out – thus, camouflages – ideological positions, but on the extent to which it makes \\nthese ideological positions explicit: ‘It is important for audiences to be shown that there \\nare different views; people should not be told “this is the correct interpretation”; there are \\nalways  different  interpretations’  (Mouffe  in  Carpentier  and  Cammaerts,  2006:  973). \\nTherefore, the notion of objectivity and its counterparts ‘balance’ and ‘impartiality’ should \\nbe  reconsidered  in  favor  of  a  terminology  that  benchmarks  ideological  contestation. \\nIndeed, to change dominant modes of thinking, we are in need of an alternative analytical \\nvocabulary: a new language outside the confines of the old paradigm is precisely the way \\nto break boundaries and shape new understandings (Jones, 2013).\\n\\nOnly a small number of scholars have recently been found to start from the concepts of \\nideology and contestation in their analysis of pluralism in news reporting, regarding both \\n\\n\\x0c658 \\n\\nJournalism 18(6)\\n\\nthe  range  of  positions  in  media  debates  and  particular  modes  of  communication  (e.g. \\nDahlberg, 2005, 2007a; Phelan, 2007). Although these studies provide valuable theoreti-\\ncal insights, they often lack a systematic methodological framework for news research. To \\nencourage a genuine shift in journalism research to pluralism ‘outside the box’, we put \\nforward our recent work on de/politicization as a well-developed analytical tool for inves-\\ntigating news discourse8 (Maeseele, 2015; Maeseele et al., 2015; Pepermans and Maeseele, \\n2014; Raeijmaekers and Maeseele, 2014). In its attempt to rethink the evaluation of jour-\\nnalistic practices to account for whether these are found to either encourage or impede a \\nbroad democratic and pluralist debate on specific social issues, this work focuses on ideo-\\nlogical contestation in news coverage, both in terms of its scope and form. On one hand, \\na  concern  about  the  scope  of  ideological  contestation  critically  questions  the  balance \\nnorm, as it makes clear that what is at stake is the confrontation of differentiated ideologi-\\ncal positions (or the absence of it). For each respective social issue, this requires the iden-\\ntification of the range of positions with regard to the relevant ideological conflicts that \\nunderlie the issue. Hence, the concept of ideological ‘fault lines’ is introduced as a heuris-\\ntic tool, representing a struggle between competing analyses about what constitutes pro-\\ngress  with  regard  to  specific  political–ideological  categories  (Carvalho,  2007).  For \\ninstance,  in  their  work  on  genetically  modified  food,  the  relevant  two  fault  lines  con-\\ncerned the techno-environmental (i.e. the role of science and technology in nature and \\nsociety) and economic fault line (i.e. the role of the market in society). In their work on \\nthe Belgian government formation, the latter fault line was found relevant in addition to \\nthe ethnic–linguistic fault line (i.e. the relationship between regional and federal levels of \\ngovernment). On the other hand, a concern about the form and articulation of contestation \\ncritically questions the impartiality norm. By focusing on which specific ideological pref-\\nerences are either politicized or depoliticized, this framework acknowledges and allows to \\nreveal the strategies of inclusion and exclusion at work. Processes of depoliticization are \\nqualified as impeding democratic–ideological debate since these refer to discursive strate-\\ngies  which  distinguish  legitimate  from  illegitimate  actors  and  demands,  based  on  the \\nassumption of an existing moral or rational consensus. Instead of considering ‘rational’ or \\n‘moral’ argumentation as a neutral – and therefore the only legitimate – mode of commu-\\nnication, it is understood as a particular discursive strategy to shift the site of struggle \\nfrom ideological contestation between alternative futures to a struggle between ‘rational’ \\nand ‘irrational’ (mostly interpreted as ‘scientific’ and ‘unscientific’, or ‘economic’ and \\n‘uneconomic’)  or  between  ‘good’  and  ‘evil’. This  is  qualified  as  impeding  democratic \\ndebate since it stigmatizes certain actors and demands as enemies of an existing consensus \\nand, in so doing, acts in the service of concealing rather than revealing what is stake. On \\nthe other hand, processes of politicization are qualified as encouraging democratic–ideo-\\nlogical debate. Instead of amplifying a moral or rational consensus, these refer to discur-\\nsive  strategies  which  reveal  conflicting  assumptions,  values,  and  interests  underlying \\nconflicting positions. Relating these to alternative worldviews creates the discursive space \\nfor a broad, pluralist democratic debate between these worldviews, and as a result, about \\nand  beyond  the  limits  of  social  consensus,  thus,  for  pluralism  ‘outside  the  box’. \\nPoliticization then refers to a logic of contestation, while depoliticization refers to a logic \\nof consensus. Regarding the analyses of news coverage on (1) genetically modified food \\nand (2) the Belgian government formation, democratic–ideological debate was found to \\n\\n\\x0cRaeijmaekers and Maeseele \\n\\n659\\n\\nbe restricted or even absent in mainstream, commercialized newspapers: the outlets pre-\\ndominantly made use of depoliticizing discursive strategies to present particular projects \\nand reforms as inevitable and natural developments.\\n\\nDespite  these  examples,  there  is  still  an  urgent  need  for  further  theorization  and \\nempirical testing of this ‘outside the box’-framework. As Hall (1982) already mentioned \\nin the 1980s, ‘the critical paradigm is by no means fully developed; nor is it in all respects \\ntheoretically secure. Extensive empirical work is required to demonstrate the adequacy \\nof its explanatory terms, and to refine, elaborate and develop its infant insights’ (p. 88). \\nRemarkably, not much has changed in the last three decades, despite the enormous dem-\\nocratic  challenges  of  our  times,  not  in  the  least  the  financial–economic  crisis  and  its \\nramifications since 2008 and the events in the Arab World. In this regard, we sincerely \\nhope this article serves as a wake-up call.\\n\\nDeclaration of Conflicting Interests\\nThe author(s) declared no potential conflicts of interest with respect to the research, authorship, \\nand/or publication of this article.\\n\\nFunding\\nThe author(s) disclosed receipt of the following financial support for the research, authorship, and/\\nor publication of this article: This study has been conducted within a four year BOF-GOA project \\n(nr. 28311) at the University of Antwerp, funded after a competitive, peer-reviewed process.\\n\\nNotes\\n1.  Compared to Europe, the ideal of objectivity has traditionally been more explicitly articulated \\nwithin American  journalism. According  to  Schudson  (2011),  ‘“objectivity”  as  a  professional \\nvalue in American journalism was already occupied in Europe by a self-understanding among \\njournalists that they were high literary creators and cosmopolitan political thinkers’ (p. 78). So, \\nalthough more implicitly, the objectivity norm can also be considered to be a cornerstone of \\nEuropean journalism – and of other journalistic cultures (e.g. Hafez, 2002). Furthermore, the \\nideal of objectivity has been instituted differently in press and broadcasting: whereas it has grad-\\nually become the norm in press coverage through changes in the professional culture of journal-\\nists, it was rather quickly turned into a legal obligation for broadcasting services (Curran, 2002).\\n2.  The  objectivity  norm  has  been  criticized  many  times  before.  Both  Carpentier  and  Trioen \\n(2010) and Skovsgaard et al. (2013) state these critical discourses differ on two levels. First, \\non a normative level, the attack on the objectivity norm is triple flanked: on the first flank, \\njournalists are blamed for not meeting the requirements of the objectivity norm; on the second \\nflank, critics write off objectivity as an illusion; and on the third flank, the objectivity norm \\nis considered to be undesirable (Skovsgaard et al., 2013). Similarly, Carpentier and Trioen \\n(2010) refer to Lichtenberg (2005) to distinguish three different claims regarding journalistic \\nobjectivity:  ‘journalism  isn’t  objective’,  ‘journalism  cannot  be  objective’,  and  ‘journalism \\nshouldn’t be objective’. This article can be situated within the third category. Second, on a \\nconceptual level, a difference should be made between objectivity as a moral ideal and objec-\\ntivity as a pragmatic and practical tool (Skovsgaard et al., 2013). In other words, between \\nobjectivity as a norm within journalistic ideology, and objectivity as embedded in journalistic \\npractices (Carpentier and Trioen, 2010). This article focuses on the former.\\n\\n3.  Here, it is crucial to state that not all constructivist research has a critical orientation. For \\nexample, within media framing research, the analytical concept of frames might be reduced \\n\\n\\x0c660 \\n\\nJournalism 18(6)\\n\\nto mere story topics, attributes, or issue positions. In that case, scholars do not pay attention \\nand/or question the ideological origin and implications of frames (Maeseele, 2010).\\n\\n4.  Following Duggan (2003), the authors interpret the lack of ideology critique as a consequence \\nof a general retreat of left-wing perspectives in academia. They see this political retrenchment \\naccommodated in academic research through the rise and current predominance of a type of \\nidentity-based  politics  which  negates  questions  about  capitalism  and  economic  inequality \\n(Downey et al., 2014).\\n\\n5.  Actually, Westerståhl (1983 in Carpentier, 2005) has identified six components of objectivity: \\nhe distinguishes two basic dimensions of objectivity: factuality and impartiality. Both consist \\nof two components. Factuality’s components are relevance and truth(fulness) and impartial-\\nity’s components are balance and neutrality. However, we choose to focus on ‘balance’ and \\n‘neutrality’  (renamed  as  ‘impartiality’)  because  these  are  recurring  concepts  in  both  tradi-\\ntional and critical literature on media objectivity and pluralism.\\n\\n6.  Dahlberg (2007a) formulates this as follows:\\n\\nCertainly, bringing difference together through the mass media may promote social stability. \\nHowever, these media support social stability not because they provide for democratic debate \\nbut because, as shown by decades of critical media research, they draw societal voices into \\nlargely homogeneous communicative spaces bound by dominant discourse. (p. 840)\\n\\n8. \\n\\n7.  However,  inevitably,  we  are  faced  with  questions  such  as  ‘is  there  not  a  point  at  which \\nhealthy diversity turns into unhealthy dissonance?’ (McLennan, 1995 in Karppinen, 2007: \\n12). Certainly, not all viewpoints should be respected, specifically those that refuse to accept \\nthe existence of other differences and the pluralization of lifestyles (Dahlberg, 2007a: 833). In \\nline with this thinking, Mouffe (2005, 2013) introduces the notion of ‘conflictual consensus’. \\nShe acknowledges that dissensus is with no doubt necessary, but it must always be accompa-\\nnied by a certain level of consensus. Consensus is needed on the ‘ethico-political’ values that \\nare at the basis of liberal democracy and its constitutive institutions – like liberty, equality, \\nand fraternity – but there will always be disagreement concerning the meaning of these values \\nand the way they should be implemented (Mouffe, 2013: 8).\\nIt concerns a ‘multiperspectival approach’ (Jørgensen and Phillips, 2002), combining elements \\nof both discourse theory (DT) and critical discourse analysis (CDA). Although we share DT’s \\npolitical–philosophical framework on the role of ideology, conflict, and democracy in soci-\\nety  (e.g.  Mouffe),  we  lean  more  toward  CDA’s  view  on  discourse  and  social  construction. \\nIn general, DT holds a rather radical form of social constructivism: it rejects any distinction \\nbetween linguistic and material practices and emphasizes how phenomena or objects can only \\nacquire meaning within a discourse (Carpentier and Cammaerts, 2006; Phelan and Dahlberg, \\n2011). Thus, it sees all social reality as discursive. CDA, on the other hand, understands semi-\\notic  practices  such  as  language  and  images  as  different  from  –  but  dialectically  related  to \\n– other social practices (Phelan and Dahlberg, 2011; Wodak and Meyer, 2009). Consequently, \\nit believes that discourses not only (re-)shape social relations and events but are also shaped by \\nsociety. Such a mild form of social constructivism explicitly acknowledges the social/political/\\ncultural context in which discourses operate. In that sense, CDA’s discursive approach per-\\nfectly fits our analytical framework, as we aim to reveal how news coverage simultaneously \\nreflects and constructs (an assumed consensus about) a particular social order.\\n\\nReferences\\nAtton C (2002) News cultures and new social movements: Radical journalism and the mainstream \\n\\nmedia. Journalism Studies 3(4): 491–505.\\n\\n\\x0cRaeijmaekers and Maeseele \\n\\n661\\n\\nBeck U (1992) Risk Society towards a New Modernity. London: SAGE.\\nBell D (1968 [1960]) The end of ideology in the West. In: Waxman CI (ed.) The End of Ideology \\n\\nDebate. New York: Funk & Wagnalls, pp. 87–105.\\n\\nBenhabib S (ed.) (1996) Democracy and Difference: Contesting the Boundaries of the Political. \\n\\nPrinceton, NJ: Princeton University Press.\\n\\nCammaerts B (2009) Radical pluralism and free speech in online public spaces: The case of North \\nBelgian extreme right discourses. International Journal of Cultural Studies 12(6): 555–575.\\nCarpentier N (2005) Identity, contingency and rigidity: The (counter-) hegemonic constructions of \\n\\nthe identity of the media professional. Journalism 6(2): 199–219.\\n\\nCarpentier N and Cammaerts B (2006) Hegemony, democracy, agonism and journalism: An inter-\\n\\nview with Chantal Mouffe. Journalism Studies 7(6): 964–975.\\n\\nCarpentier N and Trioen M (2010) The particularity of objectivity: A post-structuralist and psy-\\nchoanalytical reading of the gap between objectivity-as-a-value and objectivity-as-a-practice \\nin the 2003 Iraqi war coverage. Journalism 11(3): 311–328.\\n\\nCarvalho A (2007) Ideological cultures and media discourses on scientific knowledge: Re-reading \\n\\nnews on climate change. Public Understanding of Science 16(2): 223–243.\\n\\nCurran J (2002) Media and Power. London: Routledge.\\nDahlberg  L  (2005)  The  Habermasian  public  sphere:  Taking  difference  seriously?  Theory  and \\n\\nSociety 34(2): 111–136.\\n\\nDahlberg L (2007a) Rethinking the fragmentation of the cyberpublic: From consensus to contesta-\\n\\ntion. New Media & Society 9(5): 827–847.\\n\\nDahlberg L (2007b) The internet and discursive exclusion: From deliberative to agonistic pub-\\nlic sphere theory. In: Dahlberg L and Siapera E (eds) Radical Democracy and the Internet: \\nInterrogating Theory and Practice. New York: Palgrave Macmillan, pp. 128–147.\\n\\nD’Alessio D and Allen M (2000) Media bias in presidential elections: A meta-analysis. Journal of \\n\\nCommunication 50(4): 133–156.\\n\\nDeuze M (2005) What is journalism? Professional identity and ideology of journalists reconsid-\\n\\nered. Journalism 6(4): 442–464.\\n\\nDowney J, Titley G and Toynbee J (2014) Ideology critique: The challenge for media studies. \\n\\nMedia, Culture & Society 36(6): 878–887.\\n\\nDuggan L (2003) The Twilight of Equality: Neoliberalism, Cultural Politics and the Attack on \\n\\nDemocracy. Boston, MA: Beacon Press.\\n\\nEntman R (1989) Democracy without Citizens. Oxford: Oxford University Press.\\nFowler R (1991) Language in the News: Discourse and Ideology in the Press. London: Routledge.\\nFukuyama F (1989) Have We Reached the End of History? Santa Monica, CA: Rand Corporation.\\nFukuyama F (1992) The End of History and the Last Man. New York: Simon & Schuster.\\nGentzkow M and Shapiro JM (2006) Media bias and reputation. Journal of Political Economy \\n\\n114(2): 280–316.\\n\\nGiddens A (1994) Beyond Left and Right: The Future of Radical Politics. Oxford: Polity Press.\\nGroeling T (2013) Media bias by the numbers: Challenges and opportunities in the empirical study \\n\\nof partisan news. Annual Review of Political Science 16: 129–151.\\n\\nGroseclose T and Milyo J (2005) A measure of media bias. The Quarterly Journal of Economics \\n\\n120(4): 1191–1237.\\n\\nHaber RA (1968) The end of ideology as ideology. In: Waxman CI (ed.) The End of Ideology \\n\\nDebate. New York: Funk & Wagnalls, pp. 182–205.\\n\\nHabermas J (1996) Between Facts and Norms (trans. W Rehg). Cambridge, MA: The MIT Press.\\nHackett RA (1984) Decline of a paradigm? Bias and objectivity in news media studies. Critical \\n\\nStudies in Media Communication 1(3): 229–259.\\n\\nHafez K (2002) Journalism ethics revisited: A comparison of ethics codes in Europe, North Africa, \\n\\nthe Middle East, and Muslim Asia. Political Communication 19(2): 225–250.\\n\\n\\x0c662 \\n\\nJournalism 18(6)\\n\\nHall S (1982) The rediscovery of ideology: Return of the repressed in media studies. In: Gurevitch \\nM, Bennett T, Curran J, et al. (eds) Culture, Society and the Media. London: Methuen, pp. \\n56–90.\\n\\nHall S, Critcher C, Jefferson T, et al. (1978) Policing the Crisis: Mugging, the State and Law and \\n\\nOrder. London: Palgrave Macmillan.\\n\\nHartley J (1982) Understanding News. London: Methuen.\\nHodges DC (1968 [1967]) The end of ‘the end of ideology’. In: Waxman CI (ed.) The End of \\n\\nIdeology Debate. New York: Funk & Wagnalls, pp. 373–388.\\n\\nHonig B (1993) Political Theory and the Displacement of Politics. New York: Cornell University Press.\\nHowarth D (2000) Discourse. Maidenhead: Open University Press.\\nJacoby R (1999) The End of Utopia: Politics and Culture in an Age of Apathy. New York: Basic \\n\\nBooks.\\n\\nJones  JP  (2013)  Toward  a  new  vocabulary  for  political  communication  research.  International \\n\\nJournal of Communication 7: 510–530.\\n\\nJørgensen M and Phillips L (2002) Discourse Analysis as Theory and Method. London: SAGE.\\nKarppinen K (2007) Making a difference to media pluralism: A critique of the pluralistic consensus \\nin European media policy. In: Cammaerts B and Carpentier N (eds) Reclaiming the Media: \\nCommunication Rights and Democratic Media Roles. Bristol: Intellect Books, pp. 9–30.\\n\\nLaclau E and Mouffe C (1985) Hegemony and Socialist Strategy: Towards a Radical Democratic \\n\\nPolitics. London: Verso Books.\\n\\nLichtenberg J (2005) In defense of objectivity revisited. In: Curran J and Gurevitch M (eds) Mass \\n\\nMedia and Society. London: Arnold, pp. 216–231.\\n\\nLin YR, Bagrow JP and Lazer D (2011) More voices than ever? Quantifying media bias in net-\\nworks. Proceedings of the fifth international AAAI conference on weblogs and social media \\n(ICWSM 2011), Barcelona, Spain, 17–21 July 2011, pp. 193–200. Available at: http://arxiv.\\norg/abs/1111.1227\\n\\nLipset SM (1968 [1960]) The end of ideology? In: Waxman CI (ed.) The End of Ideology Debate. \\n\\nNew York: Funk & Wagnalls, pp. 69–86.\\n\\nMaeseele P (2010) On neo-luddites led by ayatollahs: The frame matrix of the GM food debate in \\n\\nnorthern Belgium. Environmental Communication 4(3): 277–300.\\n\\nMaeseele P (2013) Communication, media and genetically modified food: A politicized reading. \\n\\nCatalan Journal of Communication & Cultural Studies 5(2): 183–199.\\n\\nMaeseele P (2015) Beyond the post-political zeitgeist. In: Hansen A and Cox R (eds) The Routledge \\n\\nHandbook of Environment and Communication. New York: Routledge, pp. 429–443.\\n\\nMaeseele P, Raeijmaekers D, van der Steen L, et al. (2015) In Flanders Fields: De/politicization \\nand democratic debate on a GM potato field trial controversy in news media. Environmental \\nCommunication. Epub ahead of print 16 October. DOI: 10.1080/17524032.2015.1094102.\\n\\nMindich DT (1998) Just the Facts: How Objectivity Came to Define American Journalism. New \\n\\nYork: New York University Press.\\n\\nMouffe C (2005) On the Political. London: Routledge.\\nMouffe C (2013) Agonistics: Thinking the World Politically. London: Verso Books.\\nNordenstreng K (1995) The journalist: A walking paradox. In: Lee P (ed.) The Democratization of \\n\\nCommunication. Cardiff: University of Wales Press, pp. 114–129.\\n\\nNovak M (1968) An end of ideology. In: Waxman CI (ed.) The End of Ideology Debate. New \\n\\nYork: Funk & Wagnalls, pp. 389–397.\\n\\nPepermans  Y  and  Maeseele  P  (2014)  Democratic  debate  and  mediated  discourses  on  climate \\nchange: From consensus to de/politicization. Environmental Communication 8(2): 216–232.\\nPhelan S (2007) The discursive dynamics of neo-liberal consensus: Irish broadsheet editorials and \\n\\nthe privatization of Eircom. Journal of Language and Politics 6(1): 7–28.\\n\\n\\x0cRaeijmaekers and Maeseele \\n\\n663\\n\\nPhelan S and Dahlberg L (2011) Discourse theory and critical media politics: An introduction. \\nIn: Dahlberg L and Phelan S (eds) Discourse Theory and Critical Media Politics. London: \\nPalgrave Macmillan, pp. 1–40.\\n\\nRaeijmaekers  D  and  Maeseele  P  (2014)  Ideologisch  pluralisme  in  Vlaamse  nieuwsmedia:  de \\nBelgische  regeringsformatie  2010–2011  [Ideological  pluralism  in  Flemish  news  media:  The \\n2010–2011 government formation]. Tijdschrift voor Communicatiewetenschap 42(2): 145–164.\\n\\nSassoon AS (1988) The Gramsci boom continues. History Workshop Journal 26(1): 213–214.\\nSchudson M (2001) The objectivity norm in American journalism. Journalism 2(2): 149–170.\\nSchudson M (2011) The Sociology of the News, 2nd edn. New York: W.W. Norton & Company, \\n\\nInc.\\n\\nSkovsgaard M, Albæk E, Bro P, et al. (2013) A reality check: How journalists’ role perceptions \\nimpact  their  implementation  of  the  objectivity  norm.  Journalism.  Epub  ahead  of  print  13 \\nApril 2012. DOI: 10.1177/1464884912442286.\\n\\nTaylor L and Willis A (1999) Media Studies: Texts, Institutions and Audiences. Oxford: Blackwell \\n\\nPublishers Ltd.\\n\\nThompson JB (1990) Ideology and Modern Culture: Critical Social Theory in the Era of Mass \\n\\nCommunication. Cambridge: Polity Press.\\n\\nVan  den  Berg  H  and  Van  der  Veer  CG  (1986)  Ideologie  en  massamedia.  Amsterdam:  VU \\n\\nBoekhandel.\\n\\nVan Dijk TA (2009) News, discourse, and ideology. In: Wahl-Jorgensen K and Hanitzsch T (eds) \\n\\nThe Handbook of Journalism Studies. London: Routlegde, pp. 191–204.\\n\\nVan Zoonen L (1994) Feminist Media Studies, vol. 9. London: SAGE.\\nVerstraeten H (1980) Pers en macht: een dossier over de geschreven pers in België. Leuven: Kritak.\\nWaxman CI (1968) Introduction. In: Waxman CI (ed.) The End of Ideology Debate. New York: \\n\\nFunk & Wagnalls, pp. 3–9.\\n\\nWodak R and Meyer M (2009) Methods of Critical Discourse Analysis, 2nd edn. Los Angeles, \\n\\nCA: SAGE.\\n\\nWesterståhl J (1983) Objective news reporting. Communication Research 10: 403–424.\\nYoung IM (1996) Communication and the other: Beyond deliberative democracy. In: Benhabib \\nS  (ed.)  Democracy  and  Difference:  Contesting  the  Boundaries  of  the  Political,  vol.  31. \\nPrinceton, NJ: Princeton University Press, pp. 120–135.\\n\\nZelizer B (2004) When facts, truth, and reality are god-terms: On journalism’s uneasy place in \\n\\ncultural studies. Communication and Critical/Cultural Studies 1(1): 100–119.\\n\\n[a self-references]\\n\\nAuthor biographies\\nDaniëlle  Raeijmaekers  (MA,  University  of  Antwerp  and  Vrije  Universiteit  Brussel)  is  a  PhD \\nCandidate at the Department of Communication Studies of the University of Antwerp (Belgium). \\nAs part of an interdisciplinary research project about the impact of media ownership concentration \\non media content, production, and outlet diversity, her doctoral thesis studies the evolution and \\nlevel of media pluralism within the Flemish media landscape. In particular, she focuses on the \\nideological nature of discourses and processes of de/politicization.\\n\\nPieter Maeseele (PhD, Ghent University) is Research Professor at the Department of Communication \\nStudies  of  the  University  of  Antwerp  (Belgium).  As  media  sociologist,  his  research  broadly \\nfocuses on Media & Democracy and, more specifically, on the contribution of public discourse to \\ndemocratic debate and citizenship. The role of ideology and de/politicization, and their influence \\non pluralism, are central concerns.\\n\\n\\x0c'"
      ]
     },
     "execution_count": 234,
     "metadata": {},
     "output_type": "execute_result"
    }
   ],
   "source": [
    "text_id['001072@2017']"
   ]
  },
  {
   "cell_type": "code",
   "execution_count": 235,
   "metadata": {},
   "outputs": [
    {
     "data": {
      "text/plain": [
       "'423377 EJCXXX10.1177/0267323111423377van der Wurff European Journal of Communication\\n\\nArticle\\n\\nEuropean Journal of Communication\\n26(4) 328 –342\\n© The Author(s) 2011 \\nReprints and permission: sagepub.\\nco.uk/journalsPermissions.nav\\nDOI: 10.1177/0267323111423377\\nejc.sagepub.com\\n\\nDo audiences receive diverse \\nideas from news media? \\nExposure to a variety of \\nnews media and personal \\ncharacteristics as  \\ndeterminants of diversity  \\nas received\\n\\nRichard van der Wurff\\nUniversity of Amsterdam, The Netherlands\\n\\nAbstract\\nMedia policies in Europe traditionally promote a diverse media supply. This article investigates \\nfor the first time under what conditions audience members actually receive diversity. It focuses on \\nthe reception of diverse ideas on European integration from mainstream news media in Ireland \\nand the Netherlands. Results show that exposure to a variety of media outlets predicts to some \\nextent the reception of diverse ideas, especially for citizens with lower education. But interest \\nand  knowledge  are  better  predictors.  This  indicates  that  policies  that  favour  a  diverse  supply \\nare necessary but not sufficient. New ideas are required to stimulate audiences to receive the \\ndiversity that is sent, especially in modern online societies.\\n\\nKeywords\\naudiences, diversity, diversity as received, European integration, news media\\n\\nDiversity is an important indicator for media performance in western democracies. We \\nwant  media  content  to  be  diverse:  to  reflect  different  opinions,  to  cater  for  different \\nneeds, to offer choice, to confront audiences with dissenting beliefs, to stir innovation, to \\nstimulate  tolerance,  and  thus  in  varying  ways  to  contribute  to  social  and  democratic \\ndevelopment. Accordingly, considerable attention is paid in policy and scholarship to the \\nconditions that foster or inhibit a diverse media supply.\\n\\nCorresponding author:\\nRichard van der Wurff, Amsterdam School of Communication Research ASCoR, University of Amsterdam, \\nKloveniersburgwal 48, NL - 1012 CX Amsterdam, The Netherlands. \\nEmail: r.j.w.vanderwurff@uva.nl\\n\\n\\x0cvan der Wurff  \\n\\n329\\n\\nHardly any attention, in contrast, is devoted to the reception of diversity (McQuail, \\n1992; Napoli, 1997; Roessler, 2008). Do audience members actually view, read or hear \\nthe diversity supplied by media? The notion of selective exposure suggests that this is not \\nnecessarily the case. Audiences might rather choose to expose themselves to media con-\\ntent that is congenial to their own preferences and beliefs, especially in modern media \\nenvironments where audiences have ample choices. Yet, diversity that is only sent but \\nnot received cannot have the positive effects attributed to a diverse media supply. More \\nresearch on the conditions that foster or inhibit the reception of diversity is therefore \\nnecessary (Napoli, 1997).\\n\\nTaking up this call, this article presents a first exploratory take on the important but \\nhitherto neglected concept of diversity as received. The study focuses on the reception of \\npolitically diverse ideas on European integration from news media in Ireland and the \\nNetherlands.  Two  explanations  are  contrasted.  In  media  policy  and  media-economic \\nstudies, exposure to a plurality of voices is implicitly or explicitly emphasized as a cru-\\ncial determinant of the reception of diversity. The selective exposure literature, in con-\\ntrast,  identifies  education,  interest  and  knowledge  of  individual  users  as  important \\ndeterminants. Both explanations are empirically investigated, and implications for media \\npolicy are discussed.\\n\\nDeterminants of diversity as received\\nDiversity is ‘one of the foundation principles in communications policy’ (Napoli, 1999: \\n7). It is defined as the heterogeneity of media content on one or more dimensions (McQuail \\nand Van Cuilenburg, 1983). Frequently investigated dimensions include TV programme \\ntype  and  news  topic.  From  a  democratic  perspective,  the  variety  of  political  ideas \\nexpressed in media is of special interest. Such idea diversity (Napoli, 1999) is an impor-\\ntant condition for well-informed decision-making and an expression of a healthy democ-\\nracy (McQuail, 1992). Porto (2007) even identifies idea diversity as the most important \\nfactor enabling citizens to make real-life political choices. McQuail (2005: 88–91), on the \\nother hand, reminds us that diversity may also be interpreted more negatively as contribut-\\ning to fragmentation of audiences and society (also Roessler, 2008). This latter interpreta-\\ntion has gained relevance with the advent of online sources (see later).\\n\\nDiversity defined\\nDiversity is an ambiguous concept. Crucial to this article are two distinctions. The first \\nis between diversity as sent and diversity as received (McQuail, 1992; Napoli, 1997). \\nDiversity as sent refers to the heterogeneity of media content offered by media organiza-\\ntions,  e.g.  in  this  case,  the  variety  of  ideas  on  European  integration  offered  in  news \\nmedia. Diversity as sent reflects the professional and strategic choices of providers to \\nserve audiences with particular types of content. An important question is whether differ-\\nent news media, alone and collectively, provide a diverse account of relevant political \\nideas. Diversity as received, in contrast, refers to the heterogeneity of the content that \\nreaches audiences, e.g. political ideas observed by audiences. Diversity as received fol-\\nlows from choices of audiences to select specific content items from the total volume of \\n\\n\\x0c330 \\n\\nEuropean Journal of Communication 26(4)\\n\\nsupply. The main issue here is whether audiences obtain a diverse selection of ideas from \\nthe news media.\\n\\nA second distinction is between  internal and  external  diversity (McQuail and Van \\nCuilenburg, 1983). Internal diversity is diversity within media outlets. It implies that \\nindividual audience members are inevitably exposed to diverse content options, even if \\nthey use but one media outlet. It fits democratic and inclusive interpretations of diversity, \\naccording to which citizens should receive information from a wide spectrum of antago-\\nnistic sources and media should promote deliberations across political groups. External \\ndiversity  rather  exists  when  outlets  are  internally  homogeneous  and  differ  externally \\nfrom each other. It implies that audiences can choose between differentiated options. It \\ntallies with the idea that partisan media enable societal groups to develop their own ideas \\nand build internal cohesion, but also facilitates audience fragmentation (Hellman, 2001; \\nNapoli, 1999; Porto, 2007).\\n\\nDiversity of news media. Traditional news media, and newspapers and TV in particular, in \\nthe North Atlantic liberal and Western European democratic-corporatist media systems \\ntend to be catch-all media that serve large audiences with varied interests (Hallin and \\nMancini, 2004). Aiming to observe the journalistic norms of truthfulness and ‘hearing \\nboth sides’, they tend towards a mix of internal and external diversity and confront users \\nwith at least a moderate variety of ideas. They search – for good professional and busi-\\nness reasons – a balance between duplicating core news stories and differentiating on \\nother topics and quality of reporting (Roessler, 2008), and most likely do not represent \\nthe full spectrum of mainstream and minority views on social issues (Bennett, 1990). \\nYet,  they  do  ‘serve  as  a  forum  of  limited  discussion  of  conflicting  elite  views  about \\nnumerous political issues’ (Graber, 2003: 154). Traditional mainstream news media are \\nconsequently better sources for diverging political ideas than, for example, personal con-\\nversations that we tend to have with like-minded people (Mutz and Martin, 2001).\\n\\nOnline, we find a larger number of partisan news sources that contribute to external \\ndiversity, next to online variants of internally diverse offline news media (Baum and \\nGroeling, 2008; Johnson et al., 2009). The variety of online services, in combination \\nwith greater user control over content selection, raises concerns that citizens increasingly \\nexpose themselves to like-minded information on topics that they themselves find inter-\\nesting, instead of exposing themselves to diverse information on topics that are important \\nfor society. If this would be the case, the increase in external diversity offered by internet \\nsources would lead to a decline in diversity as received by audiences and contribute to a \\npolarization of society (Bennett and Iyengar, 2008; Graber, 2003).\\n\\nMacro-level analyses of diversity\\nScholars  generally  focus  their  attention  on  the  determinants  of  diversity  as  sent,  but \\nlargely neglect diversity as received. This bias in attention probably reflects the idea, \\ncommon  to  western  democratic  societies,  that  policy-makers  can  legitimately  shape \\n(market) conditions that influence, via their impact on media organizations, diversity as \\nsent, but should not interfere with the content of individual media outlets or free choices \\nof citizens to select particular content (Napoli, 1999).\\n\\n\\x0cvan der Wurff  \\n\\n331\\n\\nIn the US, diversity is inextricably linked to the metaphor of the marketplace of ideas \\n(Napoli, 1999). Here, free competition between a variety of sources and a multitude of \\nmedia owners is expected to contribute to a diverse supply of media content. In the European \\ncontext, the emphasis is more on providing audiences with access to diverse information \\nrather than on the freedom of communicators. Here, a mix of instruments is used, including \\npublic broadcasting and free market policies (Hellman, 2001; Van Cuilenburg, 2007).\\n\\nIrrespective of these differences, both in the US and in Europe the existence of inde-\\npendent outlets is considered an important guarantee for a diverse supply of media content. \\nResearch provides support for this assumption, while recognizing that other factors – \\nconcentration and type of ownership, intensity of competition, dependency on advertis-\\ning  revenues,  government  policies,  the  level  of  pluralism  in  society  –  are  important \\ndeterminants, too (e.g. Iosifides, 1999; Owen and Wildman, 1992; Roessler, 2008; Van \\nder Wurff, 2005).\\n\\nAlso, both in the US and Europe, the supply of diverse media content is considered \\n– explicitly or implicitly – as a precondition if not straightforward determinant of the \\nreception of diversity (McQuail, 1992; Napoli, 1999; Van Cuilenburg, 2007). If media \\nsend a diverse supply of ideas and opinions, audiences can and will make use of it – or \\nso the general assumption seems to be. Yet, remarkably few studies have investigated \\nthis assumption, and only at the macro-level of the aggregated audience, not for indi-\\nvidual audience members.\\n\\nMoreau and Peltier (2004) studied diversity of movies in terms of country of origin. \\nThey found that diversity as received by movie audiences in the US, France, Hungary, \\nMexico, South Korea and the EU was somewhat lower but otherwise very well correlated \\nwith diversity as sent. Napoli (1997) studied TV programme type diversity in the US. He \\nconcludes that ‘audience exposure to different program types appears to be very much a \\nfunction of their availability’ (1997: 70). But in a similar and more extensive longitudinal \\nstudy in the Netherlands, no relationship was found. Programme type diversity received \\nby audiences remained relatively stable in the 1990s, in spite of an increase and subse-\\nquent decline in programme type diversity sent by broadcasters (Van der Wurff, 2004).\\n\\nThe first two macro-level studies support the assumption that diversity as sent enables \\nor contributes to diversity as received, but only for the aggregate audience. It remains \\nunclear whether diversity as sent also contributes to the reception of diversity by indi-\\nvidual  audience  members. The  latter  study  suggests  taking  a  closer  look  at  audience \\npreferences. Does the reception of diversity depend primarily on supply or rather on \\naudiences’ selection of diverse content from available media (also Napoli, 1997)?\\n\\nSelective exposure to diverse media\\nMcQuail assumes diversity as received to be generally lower than diversity as sent ‘as a \\nresult of audience selections in favour of more popular types, formats and items’ (1992: \\n157). Studies at the individual level confirm that audience members that can choose from \\na wide variety of media options, in daily practice tend to consider a narrower subset of \\noptions (Napoli, 1997). Television viewers in the US, for example, that can choose from a \\nplethora of channels, are inclined to restrict their viewing to a limited number of frequently \\nwatched channels and programmes (Kim, 2002; Neuendorf et al., 2001; Webster, 2005).\\n\\n\\x0c332 \\n\\nEuropean Journal of Communication 26(4)\\n\\nOne explanation points at limitations in human information processing capacities that \\ncause people to rely on short-cuts rather than full information when choosing between \\noptions (Heeter, 1985). An alternative explanation is that increases in diversity enable \\nusers to selectively expose themselves to whatever they prefer when they use a medium \\n(Webster, 2005). Increases in media choice enable people who prefer entertainment to \\nspend less time on news and consequently learn less about politics (Prior, 2005). Users \\nprefer news media that share their political predispositions (Stroud, 2008). And users \\ntake advantage of increased online selection opportunities by focusing on a narrower \\nselection of topics (Johnson et al., 2009; Kim, 2009; Tewksbury, 2003).\\n\\nYet, better selection opportunities do not lead to a monomaniacal pursuit of limited \\ninterests and the avoidance of all dissonant ideas. Audiences still have a diversified inter-\\nest, if not an interest in diversity itself (Garrett, 2009; Webster, 2005). Under experimen-\\ntal  conditions,  students  spent  43  percent  of  their  reading  time  on  information  that \\ncountered earlier expressed attitudes (Knobloch-Westerwick and Meng, 2009). Another \\nstudy found that ‘43 percent of conservative Republicans consume at least one liberal \\noutlet’ (Stroud, 2008: 358). Chaffee et al. conclude contently that ‘attention to counter-\\nattitudinal political messages is a fairly commonplace and normal behaviour of politi-\\ncally  involved  citizens,  young  and  old’  (2001:  260). Valentino  et  al.  (2009)  come  to \\nsimilar conclusions. In sum, the available evidence suggests that higher levels of diver-\\nsity as sent enable but do not directly cause audiences to focus on preferred and congen-\\nial content. Instead, audiences tend to be willing to receive at least some diversity.\\n\\nIndividual determinants of the reception of diversity\\nMany  studies  show  that  interest  in  politics,  education  and  knowledge  influence  the \\nextent  to  which  audience  members  comprehend  news  media  and  obtain  information \\nfrom them (e.g. Beaudoin, 2008; Craig et al., 2005; De Vreese and Boomgaarden, 2006; \\nDe Waal and Schoenbach, 2008; Druckman, 2005; Hansen and Benoit, 2007). McQuail \\nsummarizes: ‘On the audience side, the main factors [that determine news comprehen-\\nsion and recall] are likely to be general motivation for following news, previous famili-\\narity with the topics and general educational level’ (McQuail, 2005: 505). It is probable \\nthat these characteristics also influence the reception of different political ideas from \\nnews media\\n\\nStudies  on  selective  exposure  usually  focus  on  other  characteristics,  such  as  the \\nimpact of political orientation on exposure to congenial and counter-attitudinal informa-\\ntion. Yet, some studies show that interest in politics, education and knowledge have a \\npositive effect on the search for both attitude-consistent and counter-attitudinal informa-\\ntion (Chaffee et al., 2001; Garrett, 2009; Knobloch-Westerwick and Meng, 2009). One \\npossible reason is that citizens who are interested in politics might find it useful to know \\nwhat other-minded people think. Recent research emphasizes that people who look for \\nuseful information are more likely to seek out counter-attitudinal information (Hart et al., \\n2009). In addition, well-informed and better-educated people might deliberately aim to \\nprevent selective exposure, so that they can maintain their positive self-image of being \\nreasonable decision-makers (Garrett, 2009). In sum, interest in politics, issue knowledge \\nand education are likely to stimulate the reception of diverse ideas.\\n\\n\\x0cvan der Wurff  \\n\\n333\\n\\nHypotheses\\nA general assumption, shared by media policy-makers and scholars, is that exposure to a \\nvariety of sources increases the likelihood that audiences receive diverse ideas. Only a \\nfew studies have investigated this assumption for aggregated audiences. This study pro-\\nvides a first test at the individual level:\\n\\nH1:  Exposure  to  a  wider  variety  of  news  outlets  has  a  positive  effect  on  the  reception  of \\npolitically diverse ideas by individual audience members.\\n\\nSecond, the literature on selective exposure shows that some individuals are more \\n\\nable or willing, or both, to receive diversity than others. Specifically:\\n\\nH2: Interest in politics, issue knowledge and education have positive effects on the reception of \\npolitically diverse ideas by individual audience members.\\n\\nInteractions\\nFollowing the test of the hypotheses, possible interactions are explored. One possibility \\nis that the same personal characteristics that influence the reception of diversity also \\ninfluence exposure to (a variety of) news media (e.g. Elvestad and Blekesaune, 2008). If \\nthis is the case, personal characteristics would not only have a direct but also, or rather, \\nan indirect effect on the reception of diversity, via exposure to a variety of news media \\nas mediator. In a similar way, McLeod and McDonald (1985) found that education pre-\\ndicts  newspaper  use  and  political  knowledge,  with  exposure  to  newspapers  being  an \\nadditional predictor of political knowledge.\\n\\nAnother interesting possibility is that personal characteristics moderate the impact of \\nexposure to a variety of news media on the reception of diversity. Positive moderator \\neffects would indicate that better-educated, more interested or more knowledgeable peo-\\nple profit more from exposure to a variety of news media – in the sense that they obtain \\nmore diverse ideas – than less educated, interested or knowledgeable respondents. This \\nwould indicate the existence of a diversity gap, similar to a knowledge gap.\\n\\nThe study\\nThis exploratory study focuses on the reception of diverse ideas on European integration \\nfrom mainstream news media in two countries, Ireland and the Netherlands. Data are \\ncollected with a survey. As a first attempt to tap the dependent variable, diversity as \\nreceived, respondents were asked to report to what extent they receive different ideas on \\nEuropean  integration  from  news  media.  This  is  admittedly  a  fairly  straightforward \\napproach. It measures the perception of individual audience members of the diversity \\nthey are confronted with. This measure arguably reflects respondents’ actual information \\noffer, the breadth of ideas they obtain from their news media and their concepts of what \\ndiverging views are. In follow-up studies, more in-depth measures could further differ-\\nentiate between these aspects.\\n\\n\\x0c334 \\n\\nEuropean Journal of Communication 26(4)\\n\\nEuropean integration was considered a good case for analysis because it is an impor-\\ntant and contested political issue – especially since Dutch voters rejected the Constitution \\nof Europe in 2005 and Irish voters the Lisbon Treaty in 2008.\\n\\nSince results of diversity studies often show (unexplained) variation across media \\nsystems (Roessler, 2008), the study was repeated in two countries when the opportunity \\npresented itself. No attempt, however, is to be made to generalize conclusions to other \\ncountries or issues.\\n\\nSurvey\\nData were collected by TNS in Ireland and the Netherlands in December 2008. Samples \\nwere drawn from pools of respondents that are representative of the general population. \\nThe survey was administered online. There were 2497 respondents participating in the \\nstudy, 1457 from Ireland and 1040 from the Netherlands, resulting in response rates of \\n30 percent for Ireland and 65 percent for the Netherlands. The composition of the sam-\\nples is close to census information for the population in both countries, in terms of gen-\\nder, age and education. In addition to the items used for this study, the collaborative \\nsurvey included a series of other items proposed by other scholars.\\n\\nVariables\\nThe dependent variable in the study is diversity as received. It averages the answers to \\ntwo closely related questions (Cronbach’s alpha = .814), namely how frequently respond-\\nents ‘read or hear in the media differing opinions about European integration’ and ‘opin-\\nions  about  European  integration  that  differ  from  your  own  opinion’.  Respondents \\nanswered on five-point Likert scales, running from ‘never’ to ‘very often’.\\n\\nA second series of items asked respondents how frequently they watch, read or listen \\nto different news media. Answer options range from 0 to 7 days per week. The items \\nfocus on mainstream news sources: newspapers and TV news. Exposure to these media \\nis investigated per outlet (i.e. title) – e.g. ‘how many days a week do you watch RTE \\nnews?’ Radio and online news are included as additional generic news sources – e.g. \\n‘how many days a week do you listen to radio news?’ The Irish survey included 17 ques-\\ntions mentioning six TV news and current affairs programmes, nine newspapers (includ-\\ning ‘local newspapers’) and radio and online news. The Dutch survey mentioned six TV \\nnews  and  current  affairs  programmes,  seven  newspapers  (including  ‘freesheets’  and \\n‘regional newspapers’) and again radio and online news, resulting in a total of 15 ques-\\ntions.1 On the basis of these questions, the independent variable variety is defined as the \\ntotal number of different news media outlets (i.e. titles) used at least once a week.\\n\\nA third series of questions measure relevant personal characteristics. Interest in poli-\\ntics is assessed on a four-point scale with a single item (‘How interested would you say \\nyou are in politics?’). Knowledge measures respondents’ factual knowledge of EU affairs \\nby counting the correct answers to a small quiz of 10 questions. Education indicates the \\nhighest level of completed, formal education of respondents, ranging in five steps from \\nprimary education to a university degree.\\n\\n\\x0cvan der Wurff  \\n\\n335\\n\\nAnalysis\\nThe hypotheses are tested with regression analysis. Possible interaction effects between \\nvariety and personal characteristics are explored post-hoc.\\n\\nWhen  testing  the  hypotheses,  differences  in  news  media  use  are  controlled  for. \\nResearch suggests that citizens learn more from newspapers and online news than from \\ntelevision (Beaudoin, 2008; De Waal and Schoenbach, 2008; Druckman, 2005; Hansen \\nand Benoit, 2007), and from public TV news than from commercial TV news or tabloids \\n(Curran et al., 2009; Norris and Sanders, 2003). Second, internally diverse traditional \\nmedia  are  more  likely  to  confront  audiences  with  diverse  ideas  than  selective  online \\nmedia (see above). Third, respondents that use news media more frequently, or that pay \\nin particular more attention to news items on EU politics, are also more likely to receive \\ndifferent ideas, simply because they use more (relevant) news. To control for these dif-\\nferences, six control variables are included in the regressions.\\n\\nBuilding on the media use items mentioned above, the first control variable, overall \\nexposure to public TV news, sums exposure (in days per week) to individual public TV \\nnews programmes. Three other controls analogously estimate overall exposure to com-\\nmercial TV news, quality newspapers and popular newspapers. The fifth control, expo-\\nsure  to  online  news,  counts  how  many  days  a  week  a  respondent  uses  online  news. \\nInterest in EU news is additionally measured on a five-point scale with one item (‘How \\nmuch attention do you pay to news about the European Union?’). In addition, the analy-\\nses are controlled for gender and age.\\n\\nAll analyses are run separately for the Dutch and Irish samples. Although the hypoth-\\neses are predicted to hold for both countries, differences between them prevent the use of \\ncommon parameters in the regressions.\\n\\nPer country, outliers have been reassigned the value of plus or minus 3 SDs from the \\nmean. In 42 cases, means for education were substituted for missing values. All data for \\nthe test of the hypotheses conform to the standard requirements for regression analysis. \\nThis includes that no multicollinearity problems were found.\\n\\nResults\\nIrish and Dutch respondents receive ‘occasionally’ diverse ideas on European integration \\nfrom news media (mean scores on a five-point scale are 3.1 and 2.9, respectively). Specifically, \\n20 percent of the Dutch and 16 percent of the Irish report receiving diversity ‘rarely’ or ‘never’ \\n(scores of 2 and lower); 1 percent of the Dutch and 6 percent of the Irish receive different \\nopinions on European integration ‘often’ or ‘very often’ (scores of 4 and higher).\\n\\nThe media from which respondents occasionally receive diverse ideas are in them-\\nselves varied. There are no indications that the Irish and Dutch are fragmented, let alone \\npolarized, in media use. Dutch respondents on average use a variety of 7.2 different news \\noutlets (or titles) at least once a week. Total weekly news consumption is 29 issues. News \\nconsumption among Irish respondents is slightly higher, averaging a variety of 8.5 out-\\nlets and 34 issues a week. Only 1 percent of respondents uses one news outlet in a week.\\nTV news is in both countries more important than newspapers. Irish (respectively \\nDutch) respondents view on average 8.6 (9.0) episodes of public and 5.8 (5.6) episodes \\n\\n\\x0c336 \\n\\nEuropean Journal of Communication 26(4)\\n\\nof commercial TV news and current affairs programmes per week, additionally read 3.5 \\n(0.9) issues of quality and 7.1 (5.9) issues of popular newspapers and consult online \\nnews media 4.3 (3.7) days per week. Overall, 92 percent of respondents in both countries \\nview the public TV news broadcast at least once a week. The best read Irish newspaper, \\nthe Irish Independent reaches 55 percent of the sample at least once a week; the best read \\nDutch newspaper, De Telegraaf, less than half (25 percent).\\n\\nLooking at personal characteristics, the Irish respondents are somewhat better edu-\\ncated than the Dutch, with 38 percent of the Irish and 29 percent of the Dutch having a \\nhigher education. Irish respondents, too, tend to be somewhat more interested in politics \\n(mean scores are 2.7 and 2.2 on a four-point scale) and in EU news (mean scores are 3.4 \\nand 3.0 on a five-point scale). Yet, the Irish have as much knowledge of EU integration \\nas  the  Dutch  respondents.  Both  samples  give  on  average  not  more  than  4.2  correct \\nanswers on the 10 knowledge questions.\\n\\nPredicting diversity as received. This article started from the assumption, common to diver-\\nsity policies, that a variety of news outlets contributes to the reception of diversity. Find-\\nings suggest that this is the case, but only to some extent. Audience members that use a \\nwider variety of news outlets report receiving higher levels of diversity (see Table 1, \\nModel 1). Hypothesis H1 is thus confirmed.\\n\\nPersonal characteristics predict the reception of diversity better than exposure to a \\nvariety of news media. Consistent with H2, audience members who are more interested \\nin politics or know more about EU integration obtain more frequently diverse ideas on \\nEuropean  integration  from  the  media.  Education,  however,  has  no  direct  relationship \\nwith the reception of diversity.\\n\\nPlease note that exposure to popular newspapers is negatively associated with the \\nreception of diversity in Ireland. Viewing public or commercial TV news, reading quality \\nnewspapers or consulting online media, on the other hand, have no bearing on the recep-\\ntion of diversity. Additional post-hoc analyses show that there are no media outlets that \\nclearly stand out as better or worse sources of diverse ideas – except two titles. Only the \\nEvening Herald and the Irish Daily Mail, both popular newspapers in Ireland, emerge as \\noutlets that are negatively associated with the reception of diversity.\\n\\nInteractions. Next, we explore possible interactions. Results suggest that education moder-\\nates the impact of variety on the reception of diversity negatively (see Model 2 in Table 1). \\nThat means that respondents with a lower education, in particular, receive more diverse \\nideas  when  they  are  exposed  to  a  wider  variety  of  news  media.  No  interactions  exist \\nbetween variety and the other two personal characteristics.\\n\\nMediator effects are not found. Interest in politics is the only personal characteristic \\nthat is positively associated with exposure to a variety of news media (beta is .208 for \\nIreland and .246 for the Netherlands; p < .001).2 The (standardized) indirect effect of \\npolitical interest on the reception of diversity, via exposure to a variety of news media as \\nmediator, however, is very small (.021 for Ireland and .031 for the Netherlands). This is \\nbecause the proposed mediator, exposure to variety of news media, is only weakly related \\nto diversity as received.\\n\\n\\x0cvan der Wurff  \\n\\n337\\n\\nTable 1.  Determinants of diversity-as-received; regression results (betas)\\n\\nModel 1\\n\\nModel 2\\n\\n \\n\\nIreland\\n\\nNetherlands\\n\\nIreland\\n\\nNetherlands\\n\\n   Public TV news\\n   Commercial TV news\\n   Quality newspapers\\n   Popular newspapers\\n   Online news\\nInterest in EU news\\n\\nMedia exposure\\n  Variety\\nPersonal characteristics\\n \\nInterest in politics\\n  Knowledge\\n  Education\\nControls\\n  Exposure to\\n \\n \\n \\n \\n \\n \\n  Age\\n  Gender (male = 1)\\nInteraction effects\\n  Variety × Interest in politics\\n  Variety × Knowledge\\n  Variety × Education\\nN\\nR2\\nAdjusted R2\\n\\n.112*\\n\\n.237**\\n.113**\\n.008\\n\\n-.012\\n-.042\\n.004\\n-.125**\\n.018\\n.132**\\n.074*\\n.016\\n\\n.124*\\n\\n.262**\\n.175**\\n.029\\n\\n-.027\\n-.026\\n-.010\\n-.054\\n.037\\n.159**\\n.030\\n.017\\n\\n1457\\n.179\\n.172\\n\\n1040\\n.274\\n.265\\n\\nNotes: Cell entries are betas. ** p < .001; * p < .01; º p < .05.\\n\\n.099º\\n\\n.246**\\n.110**\\n.018\\n\\n-.002\\n-.036\\n.011\\n-.111*\\n.019\\n.129**\\n.064º\\n.018\\n\\n-.004\\n.040\\n-.120**\\n1457\\n.193\\n.184\\n\\n.126*\\n\\n.259**\\n.175**\\n.031\\n\\n-.028\\n-.030\\n-.005\\n-.058\\n.031\\n.158**\\n.029\\n.022\\n\\n.027\\n-.020\\n-.075*\\n1040\\n.280\\n.269\\n\\nDiscussion\\nThe findings suggest that Irish and Dutch audiences occasionally receive diverse ideas \\non European integration from mainstream news media. How frequently audience mem-\\nbers receive these ideas is related, to some extent, to the variety of media outlets they \\nconsult. But personal characteristics, first of all interest in politics and second, knowl-\\nedge about the EU, are better predictors. These findings resemble those of Craig et al. \\n(2005) and Curran et al. (2009), who found that learning from the news depends more on \\npersonal characteristics (in their cases: respectively knowledge, and gender and educa-\\ntion) than media exposure.\\n\\nThis is an exploratory study. So, the findings are to be interpreted with caution. The \\nstudy is based on cross-sectional data for one issue and two countries. Causal relation-\\nships cannot be inferred, and findings cannot be generalized to other issues or countries.\\nThe measurement of the variables, including the dependent variable, relies on self-\\nreports, which are not as accurate as actual observations. One issue to consider is whether \\nthe findings (e.g. the association between variety of media use and reception of diversity) \\n\\n\\x0c338 \\n\\nEuropean Journal of Communication 26(4)\\n\\nreflect the tendency of respondents to present themselves deliberately or unconsciously \\nin what they regard to be a consistent manner, when they answer survey questions. On \\nthe other hand, however, there are also good theoretical reasons to expect the relation-\\nships that were found, which lends credence to the findings.\\n\\nDiverse audiences\\nThe best predictor of the reception of diversity in the regression analyses is interest in \\npolitics, followed by knowledge. These findings suggest that respondents must be inter-\\nested in news and have some knowledge about the issue at hand, before they can receive \\ndiverse ideas from news media.\\n\\nInterest in politics (but not knowledge or education) is additionally related to the like-\\nlihood that audiences expose themselves to a wider variety of news media. There is, \\nhowever, little empirical support for the supposition that political interest has an indirect \\neffect on the reception of diversity, via exposure to a variety of news media as mediator. \\nThe findings rather suggest that there are two independent relationships. First, audience \\nmembers that are more interested in politics derive diverse ideas from news media more \\nfrequently. Second, the same members use a wider variety of news media.\\n\\nEducation plays a different role. Education does not predict the reception of diversity. \\nInstead,  the  findings  are  consistent  with  a  model  in  which  education  moderates  the \\nimpact of exposure to a variety of news media on the reception of diversity. Specifically, \\nthe findings suggest that the lower the education of respondents, the more the reception \\nof diversity increases when respondents expose themselves to a wider variety of news \\nmedia. Put differently, as far as the reception of diversity is concerned, it seems to matter \\nmore that lower than better educated citizens expose themselves to a variety of news \\noutlets. This is an interesting outcome. Usually more highly educated citizens are found \\nto profit more from media use. This study in contrast suggests that lower educated citi-\\nzens profit from a diverse supply. The underlying explanation may be familiar again: \\nprobably, more highly educated citizens are better trained and able to derive different \\nideas from a small subset of news outlets than lower educated citizens with less devel-\\noped media skills.\\n\\nThe finding that personal characteristics, in different ways, predict the reception of \\ndiversity, suggests a more general conclusion. When investigating diversity, we should \\nnot only pay attention to audiences as receivers (Napoli, 1997), but we should also take \\ninto consideration that the audience is diverse.3 Diverse in terms of its interest in politics, \\nknowledge and education, and probably also diverse in terms of a range of other personal \\ncharacteristics that influence the reception of diversity, such as audience members’ tastes \\nfor diversity, their media skills and the ways in which they search for diverse information \\n(e.g. Heeter, 1985). Further research on these personal characteristics and their interac-\\ntions with media use variables, promises to be a challenging and rewarding way ahead.\\n\\nDiverse news media\\nNews  media  are  routinely  divided  into  quality  and  popular  news  media  from  which \\nrespondents learn more or less about politics. Post-hoc analyses conducted for this study \\n\\n\\x0cvan der Wurff  \\n\\n339\\n\\nshowed that the reception of diversity did not vary across these outlets. On the contrary, \\nall news media, with two popular Irish newspapers as exceptions, contributed in similar \\nways to the reception of diversity. These findings underline three important conclusions. \\nFirst, it is indeed exposure to a variety of news media that is associated with the reception \\nof  diversity,  rather  than  exposure  to  specific  news  outlets.  Second,  both  popular  and \\nquality news media allow citizens to obtain politically diverse ideas on European inte-\\ngration, at least in Ireland and the Netherlands. This suggests that the variety of popular \\nand quality news media may be valued from a diversity point of view, too. Yet, the two \\nIrish exceptions also remind us that news media content, and factors determining edito-\\nrial decisions about what content to provide, remain potentially limiting factors. After \\nall, audiences cannot receive what media do not send.\\n\\nIn future research, it is necessary to explore the role of media outlets further, also by \\nfocusing on different issues and different media systems. Perhaps, there are issues or \\nmedia systems where news media differ more strongly in their contribution to the recep-\\ntion of diversity than in the analysis presented here. Following other comparative stud-\\nies, for example, it is interesting to compare to what extent US and European audiences \\nreceive diverse ideas from their respective news media. Also a comparison of more with \\nless complex issues that give rise to more different or unconventional ideas, could further \\nclarify the impact of media exposure under various conditions. Another important area \\nfor follow-up research is to relate relatively detailed content-analytical measures of idea \\ndiversity as sent explicitly to detailed measurements of ideas obtained and actual and \\nperceived diversity received from news media, to differentiate the impact of media sup-\\nply from the impact of audience selectivity and perception. Finally, it becomes increas-\\ningly important to assess the specific role and contribution of online media.\\n\\nDiverse policies\\nAnticipating new results, the present study raises the question whether existing diversity \\npolicies are adequate, since they emphasize the supply of diversity. Actually, they might \\nbe, as long as audiences continue to show some interest in diversity. Nevertheless, the \\nresults of the present study also indicate that it makes sense to explore whether and how \\nnews media, and by extension media policy, can further stimulate the interest for and \\nreception of diverse ideas by different audiences.\\n\\nOne area of particular interest is the way in which news media present and elaborate \\ndiverse ideas. Empirical studies, for example, suggest that when important beliefs are \\nthreatened, audiences are less inclined to expose themselves to counter-attitudinal infor-\\nmation than when they are searching for factual and accurate information (Hardy et al., \\n2005).  Other  scholars  found  that  processing  counter-attitudinal  information  demands \\ngreater cognitive effort, while congenial information is considered more credible and \\nrewarding (see Johnson et al., 2009). These are but a few indications for the – intuitively \\nappealing – idea that diverse ideas can be made more or less accessible to audiences. A \\nsecond area of interest concerns the way in which different audiences search, approach \\nand deal with diverse ideas. And a third area has to do with the likelihood that public \\nnews media bring news in more accessible ways than commercial news media, because \\npublic media are less forced or inclined to succumb to market pressures and commercial \\n\\n\\x0c340 \\n\\nEuropean Journal of Communication 26(4)\\n\\nconsiderations (see Curran et al., 2009). Combining these fields of interest gives rise to \\nthe challenging question: whether and how public news – on TV, but increasingly also \\nonline – could and should play a more explicit role in providing diverse ideas to a diver-\\nsity of audiences.\\n\\nPutting  more  emphasis  on  the  presentation  of  diverse  ideas  in  various  media  by \\npublic media organizations aligns with discussions on the revised role of journalism in \\nthe online age. Journalists are increasingly expected to make information from diverse \\nsources accessible and to make the journalistic process transparent rather than to tell \\nthe one ‘true’ authoritative news story (Singer, 2010). When the new role of journalists \\nin providing access to diverse ideas ties in with the interest of audiences in diversity \\nand with continued policy support for news media to reach out to audiences, there is \\nample  room  for  optimism  that  diversity  continues  to  be  sent  and  received  by \\naudiences.\\n\\nAcknowledgements\\nThe survey was composed by Malte Hinrichsen, Hajo Boomgaarden, Claes de Vreese, Wouter van \\nder Brug, Sara Hobolt, Andre Freire and Richard van der Wurff. I thank Claes de Vreese, Hajo \\nBoomgaarden, Natali Hellberger and two anonymous reviewers for their useful suggestions on \\nearlier drafts, and John O’Sullivan for sharing his knowledge on the Irish media system.\\n\\nFunding\\nData collection was funded by a NORFACE grant awarded to Claes de Vreese.\\n\\nNotes\\n1.  A list of news outlets is available on request.\\n2.  Knowledge, education, age and gender were included as additional predictors of exposure to \\n\\na variety of news media, next to interest in politics.\\nI am indebted to Natali Helberger of IVIR, University of Amsterdam, for bringing this point \\nto my attention.\\n\\n3. \\n\\nReferences\\nBaum M and Groeling T (2008) New media and the polarization of American political discourse. \\n\\nPolitical Communication 25(4): 345–365.\\n\\nBeaudoin CE (2008) The internet’s impact on international knowledge. New Media and Society \\n\\nBennett  WL  (1990)  Toward  a  theory  of  press–state  relations  in  the  United  States.  Journal  of \\n\\n10(3): 455–474.\\n\\nCommunication 40(2): 103–125.\\n\\nBennett WL and Iyengar S (2008) A new era of minimal effects? The changing foundations of \\n\\npolitical communication. Journal of Communication 58(4): 707–731.\\n\\nChaffee SH, Saphir MN, Graf J, Sandvig C and Hahn KS (2001) Attention to counter-attitudinal \\n\\nmessages in a state election campaign. Political Communication 18(3): 247–272.\\n\\nCraig SC, Kane JG and Gainous J (2005) Issue-related learning in a gubernatorial campaign: A \\n\\npanel study. Political Communication 22(4): 483–503.\\n\\nCurran J, Iyengar S, Lund AB and Salovaara-Moring I (2009) Media system, public knowledge \\n\\nand democracy: A comparative study. European Journal of Communication 24(1): 5–26.\\n\\n\\x0cvan der Wurff  \\n\\n341\\n\\nDe  Vreese  CH  and  Boomgaarden  H  (2006)  News,  political  knowledge  and  participation:  The \\ndifferential  effects  of  news  media  exposure  on  political  knowledge  and  participation.  Acta \\nPolitica 41(4): 317–341.\\n\\nDe Waal E and Schoenbach K (2008) Presentation style and beyond: How print newspapers and \\nonline  news  expand  awareness  of  public  affairs  issues.  Mass  Communication  and  Society \\n11(2): 161–176.\\n\\nDruckman JN (2005) Media matter: How newspapers and television news cover campaigns and \\n\\ninfluence voters. Political Communication 22(4): 463–481.\\n\\nElvestad E and Blekesaune A (2008) Newspaper readers in Europe: A multilevel study of indi-\\n\\nvidual and national differences. European Journal of Communication 23(4): 425–447.\\n\\nGarrett RK (2009) Politically motivated reinforcement seeking: Reframing the selective exposure \\n\\ndebate. Journal of Communication 59(4): 676–699.\\n\\nGraber D (2003) The media and democracy: Beyond myths and stereotypes. Annual Review of \\n\\nHallin DC and Mancini P (2004) Comparing Media Systems: Three Models of Media and Politics. \\n\\nPolitical Science 6(1): 139–160.\\n\\nCambridge: Cambridge University Press.\\n\\nHansen  GJ  and  Benoit  WL  (2007)  Communication  forms  as  predictors  of  issue  knowledge  in \\npresidential campaigns: A meta-analytic assessment. Mass Communication and Society 10(2): \\n189–210.\\n\\nHardy  B,  Scheufele  D  and  Wang  Z  (2005)  Defining  deliberation:  Key  determinants  and  dis-\\ntinct dimensions. Paper presented at the annual meeting of the International Communication \\nAssociation, New York, 26–30 May.\\n\\nHart W, Albarracin D, Eagly AH, Brechan I, Lindberg MJ and Merrill L (2009) Feeling validated \\nversus  being  correct:  A  meta-analysis  of  selective  exposure  to  information.  Psychological \\nBulletin 135(4): 555–588.\\n\\nHeeter  C  (1985)  Program  selection  with  abundance  of  choice:  A  process  model.  Human \\n\\nCommunication Research 12(1): 126–152.\\n\\nHellman H (2001) Diversity, an end in itself? Developing a multi-measure methodology of televi-\\n\\nsion programme variety studies. European Journal of Communication 16(2): 181–208.\\n\\nIosifides  P  (1999)  Diversity  versus  concentration  in  the  deregulated  mass  media  domain. \\n\\nJournalism and Mass Communication Quarterly 76(1): 152–162.\\n\\nJohnson TJ, Bichard SL and Zhang W (2009) Communication communities or ‘cyberghettos’? \\nA path analysis model examining factors that explain selective exposure to blogs. Journal of \\nComputer-Mediated Communication 15(1): 60–82.\\n\\nKim C-RR (2002) Identifying viewer segments for television programs. Journal of Advertising \\n\\nResearch 42(1): 51–66.\\n\\nKim YM (2009) Issue publics in the new information environment: Selectivity, domain specific-\\n\\nity, and extremity. Communication Research 36(2): 254–284.\\n\\nKnobloch-Westerwick S and Meng J (2009) Looking the other way: Selective exposure to atti-\\ntude-consistent and counterattitudinal political information. Communication Research 36(3): \\n426–448.\\n\\nMcLeod JM and McDonald DG (1985) Beyond simple exposure: Media orientations and their \\n\\nimpact on political processes. Communication Research 12(1): 3–33.\\n\\nMcQuail D (1992) Media Performance. London: Sage.\\nMcQuail D (2005) McQuail’s Mass Communication Theory. London: Sage.\\nMcQuail  D  and  Van  Cuilenburg  JJ  (1983)  Diversity  as  a  media  policy  goal.  Gazette  31(3): \\n\\n145–162.\\n\\nMoreau F and Peltier S (2004) Cultural diversity in the movie industry: A cross-national study. \\n\\nJournal of Media Economics 17(2): 123–143.\\n\\n\\x0c342 \\n\\nEuropean Journal of Communication 26(4)\\n\\nMutz DC and Martin PS (2001) Facilitating communication across lines of political difference: \\n\\nThe role of mass media. American Political Science Review 95(1): 97–114.\\n\\nNapoli  PM  (1997)  Rethinking  program  diversity  assessment:  An  audience-centered  approach. \\n\\nJournal of Media Economics 10(4): 59–74.\\n\\nNapoli PM (1999) Deconstructing the diversity principle. Journal of Communication 49(4): 7–34.\\nNeuendorf KA, Atkin DJ and Jeffres LW (2001) Reconceptualizing channel repertoire in the urban \\n\\ncable environment. Journal of Broadcasting and Electronic Media 45(3): 464–482.\\n\\nNorris P and Sanders D (2003) Message or medium? Campaign learning during the 2001 British \\n\\ngeneral election. Political Communication 20(3): 233–262.\\n\\nOwen BM and Wildman SS (1992) Video Economics. Cambridge, MA: Harvard University Press.\\nPorto MP (2007) Frame diversity and citizen competence: Towards a critical approach to news \\n\\nquality. Critical Studies in Media Communication 24(4): 303–321.\\n\\nPrior M (2005) News vs entertainment: How increasing media choice widens gaps in political \\n\\nknowledge and turnout. American Journal of Political Science 49(3): 577–592.\\n\\nRoessler P (2008) Media content diversity: Conceptual issues and future directions for commu-\\nnications  research.  In:  Beck  CS  (ed.)  Communication  Yearbook  31.  New  York:  Lawrence \\nErlbaum, 464–520.\\n\\nSinger JB (2010) Norms and the network: Journalistic ethics in a shared media space. In: Meyers \\nC  (ed.)  Journalism  Ethics:  A  Philosophical  Approach.  Oxford:  Oxford  University  Press, \\n117–129.\\n\\nStroud NJ (2008) Media use and political predispositions: Revisiting the concept of selective expo-\\n\\nsure. Political Behavior 30(3): 341–366.\\n\\nTewksbury D (2003) What do Americans really want to know? Tracking the behavior of news \\n\\nreaders on the internet. Journal of Communication 53(4): 694–710.\\n\\nValentino NA, Banks AJ, Hutchings VL and Davis AK (2009) Selective exposure in the inter-\\nnet age: The interaction between anxiety and information utility. Political Psychology 30(4): \\n591–613.\\n\\nVan Cuilenburg J (2007) Media diversity, competition and concentration: Concepts and theories. \\n\\nIn: De Bens E (ed.) Media between Commerce and Culture. Bristol: Intellect, 25–54.\\n\\nVan der Wurff R (2004) Supplying and viewing diversity: The role of competition and viewer \\n\\nchoice in Dutch broadcasting. European Journal of Communication 19(2): 215–237.\\n\\nVan der Wurff R (2005) Media markets and media diversity. Communications 30(3): 293–301.\\nWebster JG (2005) Beneath the veneer of fragmentation: Television audience polarization in a \\n\\nmultichannel world. Journal of Communication 55(2): 366–382.\\n\\n\\x0c'"
      ]
     },
     "execution_count": 235,
     "metadata": {},
     "output_type": "execute_result"
    }
   ],
   "source": [
    "text_id['003835@2011']"
   ]
  },
  {
   "cell_type": "code",
   "execution_count": 236,
   "metadata": {},
   "outputs": [
    {
     "data": {
      "text/plain": [
       "dict_keys(['003835@2011', '001072@2017', '004079@2011', '008872@2006', '007928@2007', '005951@2013', '008684@2013', '000926@2017', '005885@1999', '005056@2008', '008237@2011', '001425@2017', '003759@2012', '003650@2012', '008153@2010', '001818@2016', '006759@2017', '002562@2015', '002586@2015', '002003@2016', '002587@2015', '006076@2013', '008152@2011', '004466@2010', '000537@2018', '000063@2018', '001361@2017', '000610@2018', '004801@2009', '001643@2016', '007682@2014', '000149@2018', '001945@2016', '002942@2014', '005337@2006', '004237@2010', '005657@2004', '005701@2002', '007575@2013', '001684@2016', '004240@2010', '002400@2015', '002508@2015', '009007@2007', '005118@2007', '001275@2017', '000562@2018', '001907@2016', '007508@2012', '008685@2017', '000143@2018', '000142@2018', '008471@2017', '007934@2007', '000695@2018', '003631@2012', '004290@2010', '003408@2014', '008578@2016', '001376@2017', '000607@2018', '002230@2015', '004471@2010', '004732@2009', '008311@1999', '002503@2015', '001505@2017', '003770@2012', '008192@2010', '000047@2018', '004981@2008', '002438@2015', '007907@2006', '004021@2011', '005678@2003', '004852@2008', '000936@2017', '003082@2014', '008394@2002', '006964@2015', '008954@2012', '006391@2013', '003058@2014', '001659@2016', '002547@2015', '000699@2018', '003913@2011', '001764@2016', '005245@2007', '004492@2010', '005672@2003', '000843@2017', '005975@2013', '005974@2013', '006793@2017', '002300@2015', '004798@2009', '001948@2016', '008401@2002', '008652@2014', '000467@2018', '005733@2002', '005732@2002', '003883@2011', '002938@2014', '000709@2018', '000286@2018', '000287@2018', '002597@2015', '002013@2016', '008820@2007', '001499@2017', '006641@2016', '002080@2016', '003179@2014', '002988@2014', '006362@2013', '005969@2013', '003356@2014', '003972@2011', '008184@2010', '001389@2017', '002526@2015', '001521@2017', '002046@2016', '002047@2016', '003412@2014', '000349@2018', '002924@2014', '003095@2014', '003094@2014', '000654@2018', '007581@2013', '004041@2011', '002483@2015', '002959@2014', '001382@2017', '002132@2016', '003978@2011', '004615@2009', '002642@2015', '008977@2006', '008772@2015', '001772@2016', '002489@2015', '002513@2015', '001960@2016', '003507@2012', '004978@2008', '002268@2015', '006039@2013', '008507@2018', '000554@2018', '002619@2015', '002061@2016', '005301@2007', '000049@2018', '001729@2016', '005736@2002', '006563@2016', '001052@2017', '004796@2009', '002534@2015', '002535@2015', '002940@2014', '002941@2014', '002788@2015', '004234@2010', '008807@2015', '002909@2014', '000421@2018', '001687@2016', '000312@2018', '006020@2013', '006886@2017', '004180@2011', '004773@2009', '007549@2013', '004772@2009', '002528@2015', '003934@2011', '007244@2016', '005967@2013', '004147@2011', '008583@2014', '003891@2011', '005601@2005', '004284@2010', '004803@2009', '000790@2017', '003074@2014', '006992@2015', '006367@2013', '006366@2013', '001919@2016', '002817@2014', '001217@2017', '006040@2013', '007415@2011', '000244@2018', '005768@2001', '001229@2017', '003492@2012', '002861@2014', '003433@2012', '003031@2014', '007927@2007', '002852@2014', '000011@2018', '006623@2016', '003078@2014', '006005@2013', '000928@2017', '008915@2000', '000532@2018', '005836@2000', '008631@2014', '004282@2010', '001528@2016', '001529@2016', '001823@2016', '000341@2018', '004847@2008', '004846@2008', '007889@2006', '004034@2011', '001259@2017', '008351@2000', '001733@2016', '005803@2000', '003354@2014', '001957@2016', '002524@2015', '000234@2018', '008163@2010', '002045@2016', '007866@2005', '000243@2018', '006138@2013', '005091@2007', '001267@2017', '008800@2006', '000656@2018', '001326@2017', '005143@2007', '002480@2015', '000539@2018', '005880@1999', '004238@2010', '005338@2006', '008646@2012', '000840@2017', '002784@2015', '002066@2016', '005976@2013', '004028@2011', '002845@2014', '002059@2016', '008908@2003', '002447@2015', '006564@2016', '000837@2017', '000007@2019', '003512@2012', '003110@2014', '001783@2016', '003182@2014', '003018@2014', '002533@2015', '005297@2007', '001060@2017', '000999@2017', '006111@2013', '007507@2012', '003708@2012', '003693@2012', '005155@2007', '006166@2013', '009009@2004', '005998@2013', '001402@2017', '000173@2018', '008396@2002', '004774@2009', '000874@2017', '002839@2014'])"
      ]
     },
     "execution_count": 236,
     "metadata": {},
     "output_type": "execute_result"
    }
   ],
   "source": [
    "text_id.keys()"
   ]
  },
  {
   "cell_type": "code",
   "execution_count": 10,
   "metadata": {},
   "outputs": [
    {
     "ename": "NameError",
     "evalue": "name 'text_id' is not defined",
     "output_type": "error",
     "traceback": [
      "\u001b[0;31m---------------------------------------------------------------------------\u001b[0m",
      "\u001b[0;31mNameError\u001b[0m                                 Traceback (most recent call last)",
      "\u001b[0;32m<ipython-input-10-e0361ae73fd8>\u001b[0m in \u001b[0;36m<module>\u001b[0;34m\u001b[0m\n\u001b[1;32m      1\u001b[0m \u001b[0;32mimport\u001b[0m \u001b[0mpandas\u001b[0m \u001b[0;32mas\u001b[0m \u001b[0mpd\u001b[0m\u001b[0;34m\u001b[0m\u001b[0m\n\u001b[1;32m      2\u001b[0m \u001b[0;32mimport\u001b[0m \u001b[0mnumpy\u001b[0m \u001b[0;32mas\u001b[0m \u001b[0mnp\u001b[0m\u001b[0;34m\u001b[0m\u001b[0m\n\u001b[0;32m----> 3\u001b[0;31m \u001b[0mtext_ids\u001b[0m \u001b[0;34m=\u001b[0m \u001b[0mpd\u001b[0m\u001b[0;34m.\u001b[0m\u001b[0mDataFrame\u001b[0m\u001b[0;34m.\u001b[0m\u001b[0mfrom_dict\u001b[0m\u001b[0;34m(\u001b[0m\u001b[0mtext_id\u001b[0m\u001b[0;34m,\u001b[0m \u001b[0morient\u001b[0m\u001b[0;34m=\u001b[0m\u001b[0;34m'index'\u001b[0m\u001b[0;34m)\u001b[0m\u001b[0;34m\u001b[0m\u001b[0m\n\u001b[0m",
      "\u001b[0;31mNameError\u001b[0m: name 'text_id' is not defined"
     ]
    }
   ],
   "source": [
    "import pandas as pd\n",
    "import numpy as np\n",
    "text_ids = pd.DataFrame.from_dict(text_id, orient='index')"
   ]
  },
  {
   "cell_type": "code",
   "execution_count": 238,
   "metadata": {},
   "outputs": [],
   "source": [
    "text_ids.to_csv('raw_text.csv')"
   ]
  },
  {
   "cell_type": "code",
   "execution_count": 25,
   "metadata": {},
   "outputs": [],
   "source": [
    "dataframe = pd.read_csv('/Users/felicialoecherbach1/surfdrive/literature_review/LitReview/PDF_full_text/included/raw_text.csv')"
   ]
  },
  {
   "cell_type": "code",
   "execution_count": 7,
   "metadata": {},
   "outputs": [],
   "source": [
    "pd.set_option('display.max_colwidth', 100)"
   ]
  },
  {
   "cell_type": "code",
   "execution_count": 9,
   "metadata": {},
   "outputs": [],
   "source": [
    "coding_raw = pd.read_csv('/Users/felicialoecherbach1/surfdrive/literature_review/LitReview/coding_raw.csv')"
   ]
  },
  {
   "cell_type": "code",
   "execution_count": 12,
   "metadata": {},
   "outputs": [],
   "source": [
    "coding_raw['Coder'] = np.where(coding_raw['IPAddress']=='146.50.68.108', '1', '2')"
   ]
  },
  {
   "cell_type": "code",
   "execution_count": 13,
   "metadata": {},
   "outputs": [],
   "source": [
    "without_reliability = coding_raw[coding_raw['Coder'] == '2']"
   ]
  },
  {
   "cell_type": "code",
   "execution_count": 14,
   "metadata": {},
   "outputs": [],
   "source": [
    "selected = without_reliability[without_reliability['Q3'] == 6]"
   ]
  },
  {
   "cell_type": "code",
   "execution_count": 2,
   "metadata": {},
   "outputs": [],
   "source": [
    "import os\n",
    "pdfs_found = [item[:-4] for item in os.listdir(\"/Users/felicialoecherbach1/surfdrive/literature_review/LitReview/PDF_full_text/included/\")]"
   ]
  },
  {
   "cell_type": "code",
   "execution_count": 15,
   "metadata": {},
   "outputs": [],
   "source": [
    "pdfs_needed = selected['RecipientEmail'].tolist()"
   ]
  },
  {
   "cell_type": "code",
   "execution_count": 16,
   "metadata": {},
   "outputs": [
    {
     "data": {
      "text/plain": [
       "286"
      ]
     },
     "execution_count": 16,
     "metadata": {},
     "output_type": "execute_result"
    }
   ],
   "source": [
    "len(set(pdfs_found) & set(pdfs_needed))"
   ]
  },
  {
   "cell_type": "code",
   "execution_count": 17,
   "metadata": {},
   "outputs": [],
   "source": [
    "missing = set(pdfs_found).symmetric_difference(set(pdfs_needed))"
   ]
  },
  {
   "cell_type": "code",
   "execution_count": 18,
   "metadata": {},
   "outputs": [],
   "source": [
    "missing_email = without_reliability[without_reliability['RecipientEmail'].isin(missing)]['RecipientEmail'].tolist()"
   ]
  },
  {
   "cell_type": "code",
   "execution_count": 19,
   "metadata": {},
   "outputs": [
    {
     "data": {
      "text/plain": [
       "['000159@2018.nl',\n",
       " '000291@2018.nl',\n",
       " '000653@2018.nl',\n",
       " '001398@2017.nl',\n",
       " '001430@2017.nl',\n",
       " '001689@2016.nl',\n",
       " '002827@2014.nl',\n",
       " '003394@2014.nl',\n",
       " '003772@2012.nl',\n",
       " '006378@2013.nl',\n",
       " '008804@2004.nl']"
      ]
     },
     "execution_count": 19,
     "metadata": {},
     "output_type": "execute_result"
    }
   ],
   "source": [
    "missing_email"
   ]
  },
  {
   "cell_type": "code",
   "execution_count": 201,
   "metadata": {},
   "outputs": [],
   "source": [
    "missing_email = missing_email[2:]"
   ]
  },
  {
   "cell_type": "code",
   "execution_count": 48,
   "metadata": {},
   "outputs": [
    {
     "name": "stderr",
     "output_type": "stream",
     "text": [
      "/usr/local/lib/python3.6/site-packages/ipykernel_launcher.py:1: SettingWithCopyWarning: \n",
      "A value is trying to be set on a copy of a slice from a DataFrame.\n",
      "Try using .loc[row_indexer,col_indexer] = value instead\n",
      "\n",
      "See the caveats in the documentation: http://pandas.pydata.org/pandas-docs/stable/indexing.html#indexing-view-versus-copy\n",
      "  \"\"\"Entry point for launching an IPython kernel.\n"
     ]
    }
   ],
   "source": [
    "selected['reason_missing'] = \"\""
   ]
  },
  {
   "cell_type": "code",
   "execution_count": 74,
   "metadata": {},
   "outputs": [],
   "source": [
    "missing = ['000653@2018.nl',\n",
    " '001398@2017.nl',\n",
    " '001430@2017.nl',\n",
    " '001689@2016.nl',\n",
    " '002827@2014.nl',\n",
    " '003394@2014.nl',\n",
    " '003772@2012.nl',\n",
    " '006378@2013.nl',\n",
    " '008804@2004.nl', \n",
    "'006759@2017.nl']"
   ]
  },
  {
   "cell_type": "code",
   "execution_count": 75,
   "metadata": {},
   "outputs": [
    {
     "name": "stderr",
     "output_type": "stream",
     "text": [
      "/usr/local/lib/python3.6/site-packages/ipykernel_launcher.py:1: SettingWithCopyWarning: \n",
      "A value is trying to be set on a copy of a slice from a DataFrame\n",
      "\n",
      "See the caveats in the documentation: http://pandas.pydata.org/pandas-docs/stable/indexing.html#indexing-view-versus-copy\n",
      "  \"\"\"Entry point for launching an IPython kernel.\n",
      "/usr/local/lib/python3.6/site-packages/pandas/core/generic.py:7620: SettingWithCopyWarning: \n",
      "A value is trying to be set on a copy of a slice from a DataFrame\n",
      "\n",
      "See the caveats in the documentation: http://pandas.pydata.org/pandas-docs/stable/indexing.html#indexing-view-versus-copy\n",
      "  self._update_inplace(new_data)\n",
      "/usr/local/lib/python3.6/site-packages/IPython/core/interactiveshell.py:2963: SettingWithCopyWarning: \n",
      "A value is trying to be set on a copy of a slice from a DataFrame\n",
      "\n",
      "See the caveats in the documentation: http://pandas.pydata.org/pandas-docs/stable/indexing.html#indexing-view-versus-copy\n",
      "  exec(code_obj, self.user_global_ns, self.user_ns)\n"
     ]
    }
   ],
   "source": [
    "selected['reason_missing'][selected.RecipientEmail.isin(missing)] = \"no access\""
   ]
  },
  {
   "cell_type": "code",
   "execution_count": 76,
   "metadata": {},
   "outputs": [],
   "source": [
    "duplicates = [\"008820@2007.nl\", \"008578@2016.nl\", '006039@2013.nl', \"008507@2018.nl\", \"008646@2012.nl\", \"008684@2013.nl\", \"008631@2014.nl\", \"008583@2014.nl\"]"
   ]
  },
  {
   "cell_type": "code",
   "execution_count": 77,
   "metadata": {},
   "outputs": [
    {
     "name": "stderr",
     "output_type": "stream",
     "text": [
      "/usr/local/lib/python3.6/site-packages/ipykernel_launcher.py:1: SettingWithCopyWarning: \n",
      "A value is trying to be set on a copy of a slice from a DataFrame\n",
      "\n",
      "See the caveats in the documentation: http://pandas.pydata.org/pandas-docs/stable/indexing.html#indexing-view-versus-copy\n",
      "  \"\"\"Entry point for launching an IPython kernel.\n",
      "/usr/local/lib/python3.6/site-packages/pandas/core/generic.py:7620: SettingWithCopyWarning: \n",
      "A value is trying to be set on a copy of a slice from a DataFrame\n",
      "\n",
      "See the caveats in the documentation: http://pandas.pydata.org/pandas-docs/stable/indexing.html#indexing-view-versus-copy\n",
      "  self._update_inplace(new_data)\n",
      "/usr/local/lib/python3.6/site-packages/IPython/core/interactiveshell.py:2963: SettingWithCopyWarning: \n",
      "A value is trying to be set on a copy of a slice from a DataFrame\n",
      "\n",
      "See the caveats in the documentation: http://pandas.pydata.org/pandas-docs/stable/indexing.html#indexing-view-versus-copy\n",
      "  exec(code_obj, self.user_global_ns, self.user_ns)\n"
     ]
    }
   ],
   "source": [
    "selected['reason_missing'][selected.RecipientEmail.isin(duplicates)] = \"duplicate\""
   ]
  },
  {
   "cell_type": "code",
   "execution_count": 78,
   "metadata": {},
   "outputs": [
    {
     "data": {
      "text/plain": [
       "               276\n",
       "no access       10\n",
       "duplicate        8\n",
       "not english      3\n",
       "Name: reason_missing, dtype: int64"
      ]
     },
     "execution_count": 78,
     "metadata": {},
     "output_type": "execute_result"
    }
   ],
   "source": [
    "selected['reason_missing'].value_counts()"
   ]
  },
  {
   "cell_type": "code",
   "execution_count": 67,
   "metadata": {},
   "outputs": [],
   "source": [
    "from langdetect import detect"
   ]
  },
  {
   "cell_type": "code",
   "execution_count": 68,
   "metadata": {},
   "outputs": [],
   "source": [
    "dataframe['language'] = dataframe['0'].apply(detect)"
   ]
  },
  {
   "cell_type": "code",
   "execution_count": 69,
   "metadata": {},
   "outputs": [],
   "source": [
    "not_english = dataframe[(dataframe['language'].str.contains('es'))|(dataframe['language'].str.contains('pt'))]"
   ]
  },
  {
   "cell_type": "code",
   "execution_count": 70,
   "metadata": {},
   "outputs": [],
   "source": [
    "not_english = not_english['Unnamed: 0'].tolist()"
   ]
  },
  {
   "cell_type": "code",
   "execution_count": 71,
   "metadata": {},
   "outputs": [],
   "source": [
    "not_english = [item + \".nl\" for item in not_english]"
   ]
  },
  {
   "cell_type": "code",
   "execution_count": 72,
   "metadata": {},
   "outputs": [
    {
     "name": "stderr",
     "output_type": "stream",
     "text": [
      "/usr/local/lib/python3.6/site-packages/ipykernel_launcher.py:1: SettingWithCopyWarning: \n",
      "A value is trying to be set on a copy of a slice from a DataFrame\n",
      "\n",
      "See the caveats in the documentation: http://pandas.pydata.org/pandas-docs/stable/indexing.html#indexing-view-versus-copy\n",
      "  \"\"\"Entry point for launching an IPython kernel.\n",
      "/usr/local/lib/python3.6/site-packages/pandas/core/generic.py:7620: SettingWithCopyWarning: \n",
      "A value is trying to be set on a copy of a slice from a DataFrame\n",
      "\n",
      "See the caveats in the documentation: http://pandas.pydata.org/pandas-docs/stable/indexing.html#indexing-view-versus-copy\n",
      "  self._update_inplace(new_data)\n",
      "/usr/local/lib/python3.6/site-packages/IPython/core/interactiveshell.py:2963: SettingWithCopyWarning: \n",
      "A value is trying to be set on a copy of a slice from a DataFrame\n",
      "\n",
      "See the caveats in the documentation: http://pandas.pydata.org/pandas-docs/stable/indexing.html#indexing-view-versus-copy\n",
      "  exec(code_obj, self.user_global_ns, self.user_ns)\n"
     ]
    }
   ],
   "source": [
    "selected['reason_missing'][selected.RecipientEmail.isin(not_english)] = \"not english\""
   ]
  },
  {
   "cell_type": "code",
   "execution_count": 73,
   "metadata": {},
   "outputs": [
    {
     "data": {
      "text/plain": [
       "               277\n",
       "no access        9\n",
       "duplicate        8\n",
       "not english      3\n",
       "Name: reason_missing, dtype: int64"
      ]
     },
     "execution_count": 73,
     "metadata": {},
     "output_type": "execute_result"
    }
   ],
   "source": [
    "selected['reason_missing'].value_counts()"
   ]
  },
  {
   "cell_type": "code",
   "execution_count": 34,
   "metadata": {},
   "outputs": [],
   "source": [
    "ids = selected[selected['reason_missing'] == '']['RecipientEmail']"
   ]
  },
  {
   "cell_type": "code",
   "execution_count": 37,
   "metadata": {},
   "outputs": [],
   "source": [
    "ids.to_csv('ids2.csv')"
   ]
  },
  {
   "cell_type": "code",
   "execution_count": 219,
   "metadata": {},
   "outputs": [],
   "source": [
    "dataframe['length'] = dataframe['0'].apply(lambda x: len(x))"
   ]
  }
 ],
 "metadata": {
  "kernelspec": {
   "display_name": "Python 3",
   "language": "python",
   "name": "python3"
  },
  "language_info": {
   "codemirror_mode": {
    "name": "ipython",
    "version": 3
   },
   "file_extension": ".py",
   "mimetype": "text/x-python",
   "name": "python",
   "nbconvert_exporter": "python",
   "pygments_lexer": "ipython3",
   "version": "3.6.5"
  }
 },
 "nbformat": 4,
 "nbformat_minor": 2
}
